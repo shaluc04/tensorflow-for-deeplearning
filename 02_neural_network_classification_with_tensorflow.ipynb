{
  "nbformat": 4,
  "nbformat_minor": 0,
  "metadata": {
    "colab": {
      "name": "02_neural_network_classification_with_tensorflow.ipynb",
      "provenance": [],
      "collapsed_sections": [],
      "authorship_tag": "ABX9TyNiiXuqvy4ILzcLRxZSgCnA"
    },
    "kernelspec": {
      "name": "python3",
      "display_name": "Python 3"
    },
    "language_info": {
      "name": "python"
    }
  },
  "cells": [
    {
      "cell_type": "markdown",
      "metadata": {
        "id": "IMDOemqsCAEM"
      },
      "source": [
        "# Introduction to neural network classification with Tensorflow\n",
        "\n",
        "In this notebook, we're going to learn how to write neural networks for classification problems.\n",
        "\n",
        "A classification is where we try to classify something as one thing or another.\n",
        "\n",
        "A few types of classification problems:\n",
        "* Binary Classification\n",
        "* Multiclass classification\n",
        "* Multilabel classification"
      ]
    },
    {
      "cell_type": "markdown",
      "metadata": {
        "id": "cIIuYLw_Cv9e"
      },
      "source": [
        "## Creating data to view and fit"
      ]
    },
    {
      "cell_type": "code",
      "metadata": {
        "id": "RLjFgzVzC1At"
      },
      "source": [
        "from sklearn.datasets import make_circles\n",
        "\n",
        "# Make 1000 examples\n",
        "n_samples = 1000\n",
        "\n",
        "# Create circles\n",
        "X, y = make_circles(n_samples, noise=0.03, random_state=42)"
      ],
      "execution_count": 1,
      "outputs": []
    },
    {
      "cell_type": "code",
      "metadata": {
        "colab": {
          "base_uri": "https://localhost:8080/"
        },
        "id": "D5mF6xHpDTaV",
        "outputId": "bb2a38a7-93b4-4d41-8ae2-81b31be43e67"
      },
      "source": [
        "# Check out features\n",
        "X[:5]"
      ],
      "execution_count": 2,
      "outputs": [
        {
          "output_type": "execute_result",
          "data": {
            "text/plain": [
              "array([[ 0.75424625,  0.23148074],\n",
              "       [-0.75615888,  0.15325888],\n",
              "       [-0.81539193,  0.17328203],\n",
              "       [-0.39373073,  0.69288277],\n",
              "       [ 0.44220765, -0.89672343]])"
            ]
          },
          "metadata": {},
          "execution_count": 2
        }
      ]
    },
    {
      "cell_type": "code",
      "metadata": {
        "colab": {
          "base_uri": "https://localhost:8080/"
        },
        "id": "nKr7mqNDDZSd",
        "outputId": "f14950a1-f204-4310-8721-6407c7eaf158"
      },
      "source": [
        "# check the labels\n",
        "y[:5]"
      ],
      "execution_count": 3,
      "outputs": [
        {
          "output_type": "execute_result",
          "data": {
            "text/plain": [
              "array([1, 1, 1, 1, 0])"
            ]
          },
          "metadata": {},
          "execution_count": 3
        }
      ]
    },
    {
      "cell_type": "code",
      "metadata": {
        "colab": {
          "base_uri": "https://localhost:8080/"
        },
        "id": "CWKmFhlODbla",
        "outputId": "a08c5766-25b9-4e38-a7fa-6c2ebf59c8be"
      },
      "source": [
        "X.shape, y.shape"
      ],
      "execution_count": 4,
      "outputs": [
        {
          "output_type": "execute_result",
          "data": {
            "text/plain": [
              "((1000, 2), (1000,))"
            ]
          },
          "metadata": {},
          "execution_count": 4
        }
      ]
    },
    {
      "cell_type": "markdown",
      "metadata": {
        "id": "FSUSG_RDD2Nd"
      },
      "source": [
        "Our data is a little hard to understand right now, let's visualize it!"
      ]
    },
    {
      "cell_type": "code",
      "metadata": {
        "colab": {
          "base_uri": "https://localhost:8080/",
          "height": 414
        },
        "id": "gwk4UygbDmJK",
        "outputId": "2cf366b8-5479-43d3-cd2c-ec2408eb3403"
      },
      "source": [
        "import pandas as pd\n",
        "circles = pd.DataFrame({\"X0\":X[:,0], \"X1\":X[:,1], \"label\":y})\n",
        "circles"
      ],
      "execution_count": 5,
      "outputs": [
        {
          "output_type": "execute_result",
          "data": {
            "text/html": [
              "<div>\n",
              "<style scoped>\n",
              "    .dataframe tbody tr th:only-of-type {\n",
              "        vertical-align: middle;\n",
              "    }\n",
              "\n",
              "    .dataframe tbody tr th {\n",
              "        vertical-align: top;\n",
              "    }\n",
              "\n",
              "    .dataframe thead th {\n",
              "        text-align: right;\n",
              "    }\n",
              "</style>\n",
              "<table border=\"1\" class=\"dataframe\">\n",
              "  <thead>\n",
              "    <tr style=\"text-align: right;\">\n",
              "      <th></th>\n",
              "      <th>X0</th>\n",
              "      <th>X1</th>\n",
              "      <th>label</th>\n",
              "    </tr>\n",
              "  </thead>\n",
              "  <tbody>\n",
              "    <tr>\n",
              "      <th>0</th>\n",
              "      <td>0.754246</td>\n",
              "      <td>0.231481</td>\n",
              "      <td>1</td>\n",
              "    </tr>\n",
              "    <tr>\n",
              "      <th>1</th>\n",
              "      <td>-0.756159</td>\n",
              "      <td>0.153259</td>\n",
              "      <td>1</td>\n",
              "    </tr>\n",
              "    <tr>\n",
              "      <th>2</th>\n",
              "      <td>-0.815392</td>\n",
              "      <td>0.173282</td>\n",
              "      <td>1</td>\n",
              "    </tr>\n",
              "    <tr>\n",
              "      <th>3</th>\n",
              "      <td>-0.393731</td>\n",
              "      <td>0.692883</td>\n",
              "      <td>1</td>\n",
              "    </tr>\n",
              "    <tr>\n",
              "      <th>4</th>\n",
              "      <td>0.442208</td>\n",
              "      <td>-0.896723</td>\n",
              "      <td>0</td>\n",
              "    </tr>\n",
              "    <tr>\n",
              "      <th>...</th>\n",
              "      <td>...</td>\n",
              "      <td>...</td>\n",
              "      <td>...</td>\n",
              "    </tr>\n",
              "    <tr>\n",
              "      <th>995</th>\n",
              "      <td>0.244054</td>\n",
              "      <td>0.944125</td>\n",
              "      <td>0</td>\n",
              "    </tr>\n",
              "    <tr>\n",
              "      <th>996</th>\n",
              "      <td>-0.978655</td>\n",
              "      <td>-0.272373</td>\n",
              "      <td>0</td>\n",
              "    </tr>\n",
              "    <tr>\n",
              "      <th>997</th>\n",
              "      <td>-0.136900</td>\n",
              "      <td>-0.810012</td>\n",
              "      <td>1</td>\n",
              "    </tr>\n",
              "    <tr>\n",
              "      <th>998</th>\n",
              "      <td>0.670362</td>\n",
              "      <td>-0.767502</td>\n",
              "      <td>0</td>\n",
              "    </tr>\n",
              "    <tr>\n",
              "      <th>999</th>\n",
              "      <td>0.281057</td>\n",
              "      <td>0.963824</td>\n",
              "      <td>0</td>\n",
              "    </tr>\n",
              "  </tbody>\n",
              "</table>\n",
              "<p>1000 rows × 3 columns</p>\n",
              "</div>"
            ],
            "text/plain": [
              "           X0        X1  label\n",
              "0    0.754246  0.231481      1\n",
              "1   -0.756159  0.153259      1\n",
              "2   -0.815392  0.173282      1\n",
              "3   -0.393731  0.692883      1\n",
              "4    0.442208 -0.896723      0\n",
              "..        ...       ...    ...\n",
              "995  0.244054  0.944125      0\n",
              "996 -0.978655 -0.272373      0\n",
              "997 -0.136900 -0.810012      1\n",
              "998  0.670362 -0.767502      0\n",
              "999  0.281057  0.963824      0\n",
              "\n",
              "[1000 rows x 3 columns]"
            ]
          },
          "metadata": {},
          "execution_count": 5
        }
      ]
    },
    {
      "cell_type": "code",
      "metadata": {
        "colab": {
          "base_uri": "https://localhost:8080/",
          "height": 264
        },
        "id": "_UqXEfKyEWZ5",
        "outputId": "448ae9f0-0f49-4cfe-cea4-ad7bbf2bdeec"
      },
      "source": [
        "# Visualize with a plot\n",
        "import matplotlib.pyplot as plt\n",
        "plt.scatter(X[:,0], X[:,1], c=y,cmap=plt.cm.RdYlBu);"
      ],
      "execution_count": 6,
      "outputs": [
        {
          "output_type": "display_data",
          "data": {
            "image/png": "[encoded data removed]",
            "text/plain": [
              "<Figure size 432x288 with 1 Axes>"
            ]
          },
          "metadata": {
            "needs_background": "light"
          }
        }
      ]
    },
    {
      "cell_type": "markdown",
      "metadata": {
        "id": "XSXAJyjnGqqw"
      },
      "source": [
        "Tensorflow Playground: https://playground.tensorflow.org"
      ]
    },
    {
      "cell_type": "markdown",
      "metadata": {
        "id": "oEGQ5VqJE03c"
      },
      "source": [
        "## Input and Output shapes"
      ]
    },
    {
      "cell_type": "code",
      "metadata": {
        "colab": {
          "base_uri": "https://localhost:8080/"
        },
        "id": "AvH3GSelG9ZW",
        "outputId": "188045a9-b356-4345-ede5-1c071dd3330d"
      },
      "source": [
        "# check the shapes of features and labels\n",
        "X.shape, y.shape"
      ],
      "execution_count": 7,
      "outputs": [
        {
          "output_type": "execute_result",
          "data": {
            "text/plain": [
              "((1000, 2), (1000,))"
            ]
          },
          "metadata": {},
          "execution_count": 7
        }
      ]
    },
    {
      "cell_type": "code",
      "metadata": {
        "colab": {
          "base_uri": "https://localhost:8080/"
        },
        "id": "BFLSxd9xHGDb",
        "outputId": "4bab796a-691e-4db7-eb65-df3f4731cb29"
      },
      "source": [
        "# how many samples we're working with?\n",
        "len(X)"
      ],
      "execution_count": 8,
      "outputs": [
        {
          "output_type": "execute_result",
          "data": {
            "text/plain": [
              "1000"
            ]
          },
          "metadata": {},
          "execution_count": 8
        }
      ]
    },
    {
      "cell_type": "code",
      "metadata": {
        "colab": {
          "base_uri": "https://localhost:8080/"
        },
        "id": "ETXoGMHzHU0K",
        "outputId": "7cd0616b-887e-4bdb-8538-28105a4b23d6"
      },
      "source": [
        "# view the first examples of features and labels\n",
        "X[0], y[0]"
      ],
      "execution_count": 9,
      "outputs": [
        {
          "output_type": "execute_result",
          "data": {
            "text/plain": [
              "(array([0.75424625, 0.23148074]), 1)"
            ]
          },
          "metadata": {},
          "execution_count": 9
        }
      ]
    },
    {
      "cell_type": "markdown",
      "metadata": {
        "id": "ETPpGFn6HfLd"
      },
      "source": [
        "## Steps in modelling\n",
        "\n",
        "The steps in modelling with tensorflow are typically:\n",
        "\n",
        "1. Create or import a model\n",
        "2. Compile the model\n",
        "3. Fit the model\n",
        "4. Evaluate the model\n",
        "5. Tweak\n",
        "6. Evaluate.."
      ]
    },
    {
      "cell_type": "code",
      "metadata": {
        "colab": {
          "base_uri": "https://localhost:8080/"
        },
        "id": "IvWc474BMBrn",
        "outputId": "8dc5820f-ddb4-492e-b1cb-9f8d4c1aafbc"
      },
      "source": [
        "# Import tensorflow\n",
        "import tensorflow as tf\n",
        "print(tf.__version__)"
      ],
      "execution_count": 10,
      "outputs": [
        {
          "output_type": "stream",
          "name": "stdout",
          "text": [
            "2.7.0\n"
          ]
        }
      ]
    },
    {
      "cell_type": "code",
      "metadata": {
        "colab": {
          "base_uri": "https://localhost:8080/"
        },
        "id": "xrLOXcuJHyf0",
        "outputId": "95d9e664-823a-4cea-8e60-79084dd0134b"
      },
      "source": [
        "# Set the random seed\n",
        "tf.random.set_seed(42)\n",
        "\n",
        "# 1. Create the model using the sequential API\n",
        "model_1 = tf.keras.Sequential([\n",
        "      tf.keras.layers.Dense(1)                       \n",
        "])\n",
        "\n",
        "#2. Compile the model\n",
        "model_1.compile(loss=tf.keras.losses.BinaryCrossentropy(),\n",
        "                optimizer=tf.keras.optimizers.SGD(),\n",
        "                metrics=[\"accuracy\"])\n",
        "\n",
        "# 3.Fit the model\n",
        "model_1.fit(X, y, epochs=5)"
      ],
      "execution_count": 11,
      "outputs": [
        {
          "output_type": "stream",
          "name": "stdout",
          "text": [
            "Epoch 1/5\n",
            "32/32 [==============================] - 1s 1ms/step - loss: 2.8544 - accuracy: 0.4600\n",
            "Epoch 2/5\n",
            "32/32 [==============================] - 0s 1ms/step - loss: 0.7131 - accuracy: 0.5430\n",
            "Epoch 3/5\n",
            "32/32 [==============================] - 0s 1ms/step - loss: 0.6973 - accuracy: 0.5090\n",
            "Epoch 4/5\n",
            "32/32 [==============================] - 0s 1ms/step - loss: 0.6950 - accuracy: 0.5010\n",
            "Epoch 5/5\n",
            "32/32 [==============================] - 0s 1ms/step - loss: 0.6942 - accuracy: 0.4830\n"
          ]
        },
        {
          "output_type": "execute_result",
          "data": {
            "text/plain": [
              "<keras.callbacks.History at 0x7fc93c9d5590>"
            ]
          },
          "metadata": {},
          "execution_count": 11
        }
      ]
    },
    {
      "cell_type": "code",
      "metadata": {
        "colab": {
          "base_uri": "https://localhost:8080/"
        },
        "id": "8LMnfmztMLAK",
        "outputId": "d521fdab-eb30-4746-85e6-9d228b3b8d8d"
      },
      "source": [
        "# let's try and improve our model by training our model for longer...\n",
        "model_1.fit(X, y, epochs=200, verbose=0)"
      ],
      "execution_count": 12,
      "outputs": [
        {
          "output_type": "execute_result",
          "data": {
            "text/plain": [
              "<keras.callbacks.History at 0x7fc93c954e10>"
            ]
          },
          "metadata": {},
          "execution_count": 12
        }
      ]
    },
    {
      "cell_type": "code",
      "metadata": {
        "colab": {
          "base_uri": "https://localhost:8080/"
        },
        "id": "oReBzcjoMnZx",
        "outputId": "9307bcbe-499a-4b81-bc58-8478319c301f"
      },
      "source": [
        "model_1.evaluate(X,y)"
      ],
      "execution_count": 13,
      "outputs": [
        {
          "output_type": "stream",
          "name": "stdout",
          "text": [
            "32/32 [==============================] - 0s 1ms/step - loss: 0.6935 - accuracy: 0.5000\n"
          ]
        },
        {
          "output_type": "execute_result",
          "data": {
            "text/plain": [
              "[0.6934829950332642, 0.5]"
            ]
          },
          "metadata": {},
          "execution_count": 13
        }
      ]
    },
    {
      "cell_type": "markdown",
      "metadata": {
        "id": "Kfbo9bNqM3pq"
      },
      "source": [
        "Since we're working on a binary classification problem and our model is getting around 50% accuracy, it's performing as if it's guessing.\n",
        "\n",
        "So let's step things up a notch and add an extra layer."
      ]
    },
    {
      "cell_type": "code",
      "metadata": {
        "colab": {
          "base_uri": "https://localhost:8080/"
        },
        "id": "opGGQr38MuCi",
        "outputId": "27b882c7-1c9a-457d-d86a-74c2ee0d85d5"
      },
      "source": [
        "# Set random seed\n",
        "tf.random.set_seed(42)\n",
        "\n",
        "# 1. create a model\n",
        "model_2 = tf.keras.Sequential([\n",
        "      tf.keras.layers.Dense(1),\n",
        "      tf.keras.layers.Dense(1)                         \n",
        "])\n",
        "\n",
        "#2. Compile the model\n",
        "model_2.compile(loss=tf.keras.losses.BinaryCrossentropy(),\n",
        "                optimizer=tf.keras.optimizers.SGD(),\n",
        "                metrics=[\"accuracy\"])\n",
        "\n",
        "#3. fit the model\n",
        "model_2.fit(X, y, epochs=100, verbose=0)"
      ],
      "execution_count": 14,
      "outputs": [
        {
          "output_type": "execute_result",
          "data": {
            "text/plain": [
              "<keras.callbacks.History at 0x7fc93c8c2290>"
            ]
          },
          "metadata": {},
          "execution_count": 14
        }
      ]
    },
    {
      "cell_type": "code",
      "metadata": {
        "colab": {
          "base_uri": "https://localhost:8080/"
        },
        "id": "hLxY8BMdNysM",
        "outputId": "99cde923-d98c-4f0d-80fd-d965791ac9ed"
      },
      "source": [
        "model_2.evaluate(X,y)"
      ],
      "execution_count": 15,
      "outputs": [
        {
          "output_type": "stream",
          "name": "stdout",
          "text": [
            "32/32 [==============================] - 0s 1ms/step - loss: 0.6933 - accuracy: 0.5000\n"
          ]
        },
        {
          "output_type": "execute_result",
          "data": {
            "text/plain": [
              "[0.6933314800262451, 0.5]"
            ]
          },
          "metadata": {},
          "execution_count": 15
        }
      ]
    },
    {
      "cell_type": "code",
      "metadata": {
        "colab": {
          "base_uri": "https://localhost:8080/"
        },
        "id": "XTYkmXjPLo3T",
        "outputId": "e37e2b61-ed99-4a1f-a58d-812d3e1013ce"
      },
      "source": [
        "circles[\"label\"].value_counts()"
      ],
      "execution_count": 16,
      "outputs": [
        {
          "output_type": "execute_result",
          "data": {
            "text/plain": [
              "1    500\n",
              "0    500\n",
              "Name: label, dtype: int64"
            ]
          },
          "metadata": {},
          "execution_count": 16
        }
      ]
    },
    {
      "cell_type": "markdown",
      "metadata": {
        "id": "vIP9YVXDN-Ff"
      },
      "source": [
        "## Improving a model\n",
        "\n",
        "1. Create a model - we might want to add more layers or increase the number of hidden units withing a layer.\n",
        "2. Compiling a model - we might want to choose a different optimization function.\n",
        "3. Fitting a model - we migth fit our model for more epochs( leave it training for longer)."
      ]
    },
    {
      "cell_type": "code",
      "metadata": {
        "colab": {
          "base_uri": "https://localhost:8080/"
        },
        "id": "8qlJhZk8OSdb",
        "outputId": "eb5f6bf7-9bb3-4148-f666-7ab69e294997"
      },
      "source": [
        "# set the random seed\n",
        "tf.random.set_seed(42)\n",
        "\n",
        "# 1. Create the model (this time 3 layers)\n",
        "model_3 = tf.keras.Sequential([\n",
        "          tf.keras.layers.Dense(100),\n",
        "          tf.keras.layers.Dense(10),\n",
        "          tf.keras.layers.Dense(1)\n",
        "])\n",
        "\n",
        "# 2. Compile the model\n",
        "model_3.compile(loss=tf.keras.losses.BinaryCrossentropy(),\n",
        "                optimizer=tf.keras.optimizers.Adam(),\n",
        "                metrics=[\"accuracy\"])\n",
        "\n",
        "# 3. fit the model\n",
        "model_3.fit(X, y, epochs=100, verbose=0)"
      ],
      "execution_count": 17,
      "outputs": [
        {
          "output_type": "execute_result",
          "data": {
            "text/plain": [
              "<keras.callbacks.History at 0x7fc93c785810>"
            ]
          },
          "metadata": {},
          "execution_count": 17
        }
      ]
    },
    {
      "cell_type": "code",
      "metadata": {
        "colab": {
          "base_uri": "https://localhost:8080/"
        },
        "id": "eCexhZlgODV-",
        "outputId": "e0224900-d4fa-4b83-eb21-ab2d73e933f2"
      },
      "source": [
        "# 4. evaluate the model\n",
        "model_3.evaluate(X,y)"
      ],
      "execution_count": 18,
      "outputs": [
        {
          "output_type": "stream",
          "name": "stdout",
          "text": [
            "32/32 [==============================] - 0s 1ms/step - loss: 0.6980 - accuracy: 0.5080\n"
          ]
        },
        {
          "output_type": "execute_result",
          "data": {
            "text/plain": [
              "[0.6980254650115967, 0.5080000162124634]"
            ]
          },
          "metadata": {},
          "execution_count": 18
        }
      ]
    },
    {
      "cell_type": "code",
      "metadata": {
        "colab": {
          "base_uri": "https://localhost:8080/"
        },
        "id": "2Dg4tnMzNQ_E",
        "outputId": "ae472ff7-2d95-49cd-d859-2e342c1b758a"
      },
      "source": [
        "model_3.predict(X)[:5]"
      ],
      "execution_count": 19,
      "outputs": [
        {
          "output_type": "execute_result",
          "data": {
            "text/plain": [
              "array([[0.48793244],\n",
              "       [0.55887616],\n",
              "       [0.56292856],\n",
              "       [0.5705068 ],\n",
              "       [0.44141158]], dtype=float32)"
            ]
          },
          "metadata": {},
          "execution_count": 19
        }
      ]
    },
    {
      "cell_type": "markdown",
      "metadata": {
        "id": "T4vtwMTpQrbm"
      },
      "source": [
        "> **Inspect your data, inspect your model, inspect your model's predictions**\n",
        "\n",
        "To visualize our model's predictions, let's create a function `plot_decision_boundary`, this function will:\n",
        "\n",
        "* Take in a trained mode, features (X) and labels (y) \n",
        "* Create a meshgrid of the different X values\n",
        "* Make predictions across the meshgrid\n",
        "* Plot predictions as well as a line between the different zones (where each unique class falls)."
      ]
    },
    {
      "cell_type": "code",
      "metadata": {
        "id": "K3Y1p-deQeh4"
      },
      "source": [
        "import numpy as np\n",
        "\n",
        "def plot_decision_boundary(model, X, y):\n",
        "  \"\"\"\n",
        "  Plots the decision boundary created by a model predicting on X.\n",
        "  \"\"\"\n",
        "  # Define the axis boundaries of the plot and create a meshgrid\n",
        "  x_min, x_max = X[:,0].min() - 0.1, X[:,0].max() + 0.1\n",
        "  y_min, y_max = X[:,1].min() - 0.1, X[:,1].max() + 0.1\n",
        "  xx, yy = np.meshgrid(np.linspace(x_min, x_max, 100),\n",
        "                       np.linspace(y_min, y_max, 100))\n",
        "  \n",
        "  # create X value (we're going to make predictions on these)\n",
        "  x_in = np.c_[xx.ravel(), yy.ravel()] # stack 2D arrays together\n",
        "\n",
        "  # make predictions\n",
        "  y_pred = model.predict(x_in)\n",
        "\n",
        "  # check for multi-class \n",
        "  if len(y_pred[0]) > 1:\n",
        "    print(\"doing multiclass classification\")\n",
        "    # we have to reshape our prediction to get them ready for plotting\n",
        "    y_pred = np.argmax(y_pred, axis=1).reshape(xx.shape)\n",
        "  else:\n",
        "    print(\"doing binary classification\")\n",
        "    y_pred = np.round(y_pred).reshape(xx.shape)\n",
        "\n",
        "  # plot the decision boundary\n",
        "  plt.contourf(xx, yy, y_pred, cmap=plt.cm.RdYlBu, aplha=0.7)\n",
        "  plt.scatter(X[:,0], X[:,1], c=y, s=40, cmap=plt.cm.RdYlBu)\n",
        "  plt.xlim(xx.min(), xx.max())\n",
        "  plt.ylim(yy.min(), yy.max())"
      ],
      "execution_count": 20,
      "outputs": []
    },
    {
      "cell_type": "code",
      "metadata": {
        "colab": {
          "base_uri": "https://localhost:8080/",
          "height": 300
        },
        "id": "5L4St_BQSK70",
        "outputId": "137767f8-09aa-4d4b-d6ed-35ed810db496"
      },
      "source": [
        "# check out the predictions our model is making\n",
        "plot_decision_boundary(model_3, X, y);"
      ],
      "execution_count": 21,
      "outputs": [
        {
          "output_type": "stream",
          "name": "stdout",
          "text": [
            "doing binary classification\n"
          ]
        },
        {
          "output_type": "stream",
          "name": "stderr",
          "text": [
            "/usr/local/lib/python3.7/dist-packages/ipykernel_launcher.py:29: UserWarning: The following kwargs were not used by contour: 'aplha'\n"
          ]
        },
        {
          "output_type": "display_data",
          "data": {
            "image/png": "[encoded data removed]",
            "text/plain": [
              "<Figure size 432x288 with 1 Axes>"
            ]
          },
          "metadata": {
            "needs_background": "light"
          }
        }
      ]
    },
    {
      "cell_type": "markdown",
      "metadata": {
        "id": "L7zkrOQOY-35"
      },
      "source": [
        "So, from above visualization, we can  interpret that the model is not performing well as it's predicting a linear decision boundary for non-linear data."
      ]
    },
    {
      "cell_type": "markdown",
      "metadata": {
        "id": "TB3B9RJqX1C_"
      },
      "source": [
        "Helpful Resource: \n",
        "* https://github.com/GokuMohandas/MadeWithML/blob/main/notebooks/08_Neural_Networks.ipynb\n",
        "* https://cs231n.github.io/neural-networks-case-study/"
      ]
    },
    {
      "cell_type": "code",
      "metadata": {
        "id": "rXMxjOkNU7fU"
      },
      "source": [
        "# let's see if our model can be used for regression problem\n",
        "\n",
        "# Set random seed\n",
        "tf.random.set_seed(42)\n",
        "\n",
        "# Create some regression data\n",
        "X_regression = np.arange(0, 1000, 5)\n",
        "y_regression = np.arange(100, 1100, 5)\n",
        "\n",
        "# Split it into training and test sets\n",
        "X_reg_train = X_regression[:150]\n",
        "X_reg_test = X_regression[150:]\n",
        "y_reg_train = y_regression[:150]\n",
        "y_reg_test = y_regression[150:]\n",
        "\n",
        "# # fit our model\n",
        "# model_3.fit(X_reg_train, y_reg_train, epochs=100)"
      ],
      "execution_count": 22,
      "outputs": []
    },
    {
      "cell_type": "markdown",
      "metadata": {
        "id": "Q4C0FKMbdzpm"
      },
      "source": [
        "It didn't work! Because we compiled our model for a binary classification problem.\n"
      ]
    },
    {
      "cell_type": "code",
      "metadata": {
        "colab": {
          "base_uri": "https://localhost:8080/"
        },
        "id": "myMQKfKnkQeO",
        "outputId": "ced04448-daa3-4cd2-b7d7-96c2cca76d82"
      },
      "source": [
        "X_reg_train.shape, y_reg_train.shape"
      ],
      "execution_count": 23,
      "outputs": [
        {
          "output_type": "execute_result",
          "data": {
            "text/plain": [
              "((150,), (150,))"
            ]
          },
          "metadata": {},
          "execution_count": 23
        }
      ]
    },
    {
      "cell_type": "code",
      "metadata": {
        "colab": {
          "base_uri": "https://localhost:8080/"
        },
        "id": "_JAR09StkU_L",
        "outputId": "379468fc-b5f4-4d77-8fee-876707989ad0"
      },
      "source": [
        "X_reg_train.ndim, y_reg_train.ndim"
      ],
      "execution_count": 24,
      "outputs": [
        {
          "output_type": "execute_result",
          "data": {
            "text/plain": [
              "(1, 1)"
            ]
          },
          "metadata": {},
          "execution_count": 24
        }
      ]
    },
    {
      "cell_type": "code",
      "metadata": {
        "id": "XHQbZ0E2lO61"
      },
      "source": [
        "# # Setup random seed\n",
        "# tf.random.set_seed(42)\n",
        "\n",
        "# # Recreate the model\n",
        "# model_3 = tf.keras.Sequential([\n",
        "#   tf.keras.layers.Dense(100),\n",
        "#   tf.keras.layers.Dense(10),\n",
        "#   tf.keras.layers.Dense(1)\n",
        "# ])\n",
        "\n",
        "# # Change the loss and metrics of our compiled model\n",
        "# model_3.compile(loss=tf.keras.losses.mae, # change the loss function to be regression-specific\n",
        "#                 optimizer=tf.keras.optimizers.Adam(),\n",
        "#                 metrics=['mae']) # change the metric to be regression-specific\n",
        "\n",
        "# # Fit the recompiled model\n",
        "# model_3.fit(X_reg_train, y_reg_train, epochs=100)"
      ],
      "execution_count": 25,
      "outputs": []
    },
    {
      "cell_type": "markdown",
      "metadata": {
        "id": "KiXfzyRMhvOD"
      },
      "source": [
        "## The missing piece: Non-linearity"
      ]
    },
    {
      "cell_type": "code",
      "metadata": {
        "colab": {
          "base_uri": "https://localhost:8080/"
        },
        "id": "cuyGGlb8roeE",
        "outputId": "29928752-4d24-4a5b-b184-b9267196b3d1"
      },
      "source": [
        "X.shape, y.shape"
      ],
      "execution_count": 26,
      "outputs": [
        {
          "output_type": "execute_result",
          "data": {
            "text/plain": [
              "((1000, 2), (1000,))"
            ]
          },
          "metadata": {},
          "execution_count": 26
        }
      ]
    },
    {
      "cell_type": "markdown",
      "metadata": {
        "id": "5JXz52pHseW8"
      },
      "source": [
        "Creating a neural network with activation=`linear`..."
      ]
    },
    {
      "cell_type": "code",
      "metadata": {
        "colab": {
          "base_uri": "https://localhost:8080/"
        },
        "id": "4rLVoT6PkKbk",
        "outputId": "8f90bdd2-bd6a-48b5-80d9-da33ed876a9a"
      },
      "source": [
        "# set the random seed\n",
        "tf.random.set_seed(42)\n",
        "\n",
        "# 1. create the model\n",
        "model_4 = tf.keras.Sequential([\n",
        "       tf.keras.layers.Dense(1, activation='linear')                        \n",
        "])\n",
        "\n",
        "# 2. compile the model\n",
        "model_4.compile(loss=\"binary_crossentropy\",\n",
        "                optimizer=tf.keras.optimizers.Adam(learning_rate=0.001),\n",
        "                metrics=[\"accuracy\"])\n",
        "\n",
        "# 3. fit the model\n",
        "history = model_4.fit(X, y, epochs=100)"
      ],
      "execution_count": 27,
      "outputs": [
        {
          "output_type": "stream",
          "name": "stdout",
          "text": [
            "Epoch 1/100\n",
            "32/32 [==============================] - 0s 1ms/step - loss: 4.2979 - accuracy: 0.4670\n",
            "Epoch 2/100\n",
            "32/32 [==============================] - 0s 1ms/step - loss: 4.2317 - accuracy: 0.4400\n",
            "Epoch 3/100\n",
            "32/32 [==============================] - 0s 1ms/step - loss: 4.1610 - accuracy: 0.4310\n",
            "Epoch 4/100\n",
            "32/32 [==============================] - 0s 1ms/step - loss: 4.1183 - accuracy: 0.4270\n",
            "Epoch 5/100\n",
            "32/32 [==============================] - 0s 1ms/step - loss: 4.0784 - accuracy: 0.4240\n",
            "Epoch 6/100\n",
            "32/32 [==============================] - 0s 2ms/step - loss: 3.9604 - accuracy: 0.4170\n",
            "Epoch 7/100\n",
            "32/32 [==============================] - 0s 2ms/step - loss: 3.8936 - accuracy: 0.4110\n",
            "Epoch 8/100\n",
            "32/32 [==============================] - 0s 2ms/step - loss: 3.7818 - accuracy: 0.4140\n",
            "Epoch 9/100\n",
            "32/32 [==============================] - 0s 1ms/step - loss: 3.7564 - accuracy: 0.4140\n",
            "Epoch 10/100\n",
            "32/32 [==============================] - 0s 1ms/step - loss: 3.7547 - accuracy: 0.4150\n",
            "Epoch 11/100\n",
            "32/32 [==============================] - 0s 1ms/step - loss: 3.7537 - accuracy: 0.4140\n",
            "Epoch 12/100\n",
            "32/32 [==============================] - 0s 2ms/step - loss: 3.7526 - accuracy: 0.4140\n",
            "Epoch 13/100\n",
            "32/32 [==============================] - 0s 2ms/step - loss: 3.7518 - accuracy: 0.4140\n",
            "Epoch 14/100\n",
            "32/32 [==============================] - 0s 1ms/step - loss: 3.7510 - accuracy: 0.4140\n",
            "Epoch 15/100\n",
            "32/32 [==============================] - 0s 1ms/step - loss: 3.7503 - accuracy: 0.4130\n",
            "Epoch 16/100\n",
            "32/32 [==============================] - 0s 2ms/step - loss: 3.7497 - accuracy: 0.4130\n",
            "Epoch 17/100\n",
            "32/32 [==============================] - 0s 1ms/step - loss: 3.7490 - accuracy: 0.4130\n",
            "Epoch 18/100\n",
            "32/32 [==============================] - 0s 2ms/step - loss: 3.7484 - accuracy: 0.4130\n",
            "Epoch 19/100\n",
            "32/32 [==============================] - 0s 1ms/step - loss: 3.7478 - accuracy: 0.4120\n",
            "Epoch 20/100\n",
            "32/32 [==============================] - 0s 1ms/step - loss: 3.7472 - accuracy: 0.4120\n",
            "Epoch 21/100\n",
            "32/32 [==============================] - 0s 1ms/step - loss: 3.7466 - accuracy: 0.4110\n",
            "Epoch 22/100\n",
            "32/32 [==============================] - 0s 1ms/step - loss: 3.7461 - accuracy: 0.4110\n",
            "Epoch 23/100\n",
            "32/32 [==============================] - 0s 2ms/step - loss: 3.7455 - accuracy: 0.4110\n",
            "Epoch 24/100\n",
            "32/32 [==============================] - 0s 1ms/step - loss: 3.7450 - accuracy: 0.4110\n",
            "Epoch 25/100\n",
            "32/32 [==============================] - 0s 1ms/step - loss: 3.7366 - accuracy: 0.4120\n",
            "Epoch 26/100\n",
            "32/32 [==============================] - 0s 1ms/step - loss: 3.7256 - accuracy: 0.4120\n",
            "Epoch 27/100\n",
            "32/32 [==============================] - 0s 1ms/step - loss: 3.7230 - accuracy: 0.4140\n",
            "Epoch 28/100\n",
            "32/32 [==============================] - 0s 1ms/step - loss: 3.7215 - accuracy: 0.4140\n",
            "Epoch 29/100\n",
            "32/32 [==============================] - 0s 3ms/step - loss: 3.7204 - accuracy: 0.4150\n",
            "Epoch 30/100\n",
            "32/32 [==============================] - 0s 2ms/step - loss: 3.7196 - accuracy: 0.4160\n",
            "Epoch 31/100\n",
            "32/32 [==============================] - 0s 1ms/step - loss: 3.7188 - accuracy: 0.4170\n",
            "Epoch 32/100\n",
            "32/32 [==============================] - 0s 1ms/step - loss: 3.7181 - accuracy: 0.4170\n",
            "Epoch 33/100\n",
            "32/32 [==============================] - 0s 1ms/step - loss: 3.7174 - accuracy: 0.4170\n",
            "Epoch 34/100\n",
            "32/32 [==============================] - 0s 1ms/step - loss: 3.7167 - accuracy: 0.4170\n",
            "Epoch 35/100\n",
            "32/32 [==============================] - 0s 1ms/step - loss: 3.7161 - accuracy: 0.4160\n",
            "Epoch 36/100\n",
            "32/32 [==============================] - 0s 1ms/step - loss: 3.7153 - accuracy: 0.4150\n",
            "Epoch 37/100\n",
            "32/32 [==============================] - 0s 2ms/step - loss: 3.7147 - accuracy: 0.4150\n",
            "Epoch 38/100\n",
            "32/32 [==============================] - 0s 1ms/step - loss: 3.7141 - accuracy: 0.4150\n",
            "Epoch 39/100\n",
            "32/32 [==============================] - 0s 1ms/step - loss: 3.7135 - accuracy: 0.4150\n",
            "Epoch 40/100\n",
            "32/32 [==============================] - 0s 1ms/step - loss: 3.7129 - accuracy: 0.4150\n",
            "Epoch 41/100\n",
            "32/32 [==============================] - 0s 2ms/step - loss: 3.7123 - accuracy: 0.4150\n",
            "Epoch 42/100\n",
            "32/32 [==============================] - 0s 2ms/step - loss: 3.7118 - accuracy: 0.4160\n",
            "Epoch 43/100\n",
            "32/32 [==============================] - 0s 2ms/step - loss: 3.7112 - accuracy: 0.4160\n",
            "Epoch 44/100\n",
            "32/32 [==============================] - 0s 1ms/step - loss: 3.7107 - accuracy: 0.4160\n",
            "Epoch 45/100\n",
            "32/32 [==============================] - 0s 2ms/step - loss: 3.7101 - accuracy: 0.4150\n",
            "Epoch 46/100\n",
            "32/32 [==============================] - 0s 1ms/step - loss: 3.7096 - accuracy: 0.4170\n",
            "Epoch 47/100\n",
            "32/32 [==============================] - 0s 1ms/step - loss: 3.7091 - accuracy: 0.4170\n",
            "Epoch 48/100\n",
            "32/32 [==============================] - 0s 2ms/step - loss: 3.7014 - accuracy: 0.4170\n",
            "Epoch 49/100\n",
            "32/32 [==============================] - 0s 1ms/step - loss: 3.6892 - accuracy: 0.4190\n",
            "Epoch 50/100\n",
            "32/32 [==============================] - 0s 1ms/step - loss: 3.6856 - accuracy: 0.4190\n",
            "Epoch 51/100\n",
            "32/32 [==============================] - 0s 1ms/step - loss: 3.6846 - accuracy: 0.4190\n",
            "Epoch 52/100\n",
            "32/32 [==============================] - 0s 1ms/step - loss: 3.6837 - accuracy: 0.4190\n",
            "Epoch 53/100\n",
            "32/32 [==============================] - 0s 1ms/step - loss: 3.6829 - accuracy: 0.4190\n",
            "Epoch 54/100\n",
            "32/32 [==============================] - 0s 1ms/step - loss: 3.6821 - accuracy: 0.4190\n",
            "Epoch 55/100\n",
            "32/32 [==============================] - 0s 1ms/step - loss: 3.6814 - accuracy: 0.4190\n",
            "Epoch 56/100\n",
            "32/32 [==============================] - 0s 2ms/step - loss: 3.6807 - accuracy: 0.4200\n",
            "Epoch 57/100\n",
            "32/32 [==============================] - 0s 2ms/step - loss: 3.6727 - accuracy: 0.4210\n",
            "Epoch 58/100\n",
            "32/32 [==============================] - 0s 2ms/step - loss: 3.6690 - accuracy: 0.4190\n",
            "Epoch 59/100\n",
            "32/32 [==============================] - 0s 1ms/step - loss: 3.6677 - accuracy: 0.4190\n",
            "Epoch 60/100\n",
            "32/32 [==============================] - 0s 1ms/step - loss: 3.6585 - accuracy: 0.4190\n",
            "Epoch 61/100\n",
            "32/32 [==============================] - 0s 1ms/step - loss: 3.6489 - accuracy: 0.4200\n",
            "Epoch 62/100\n",
            "32/32 [==============================] - 0s 1ms/step - loss: 3.6330 - accuracy: 0.4190\n",
            "Epoch 63/100\n",
            "32/32 [==============================] - 0s 1ms/step - loss: 3.6282 - accuracy: 0.4200\n",
            "Epoch 64/100\n",
            "32/32 [==============================] - 0s 1ms/step - loss: 3.6162 - accuracy: 0.4220\n",
            "Epoch 65/100\n",
            "32/32 [==============================] - 0s 1ms/step - loss: 3.6062 - accuracy: 0.4240\n",
            "Epoch 66/100\n",
            "32/32 [==============================] - 0s 2ms/step - loss: 3.6031 - accuracy: 0.4260\n",
            "Epoch 67/100\n",
            "32/32 [==============================] - 0s 2ms/step - loss: 3.6012 - accuracy: 0.4280\n",
            "Epoch 68/100\n",
            "32/32 [==============================] - 0s 2ms/step - loss: 3.5999 - accuracy: 0.4280\n",
            "Epoch 69/100\n",
            "32/32 [==============================] - 0s 1ms/step - loss: 3.5904 - accuracy: 0.4290\n",
            "Epoch 70/100\n",
            "32/32 [==============================] - 0s 2ms/step - loss: 3.5858 - accuracy: 0.4300\n",
            "Epoch 71/100\n",
            "32/32 [==============================] - 0s 2ms/step - loss: 3.5846 - accuracy: 0.4300\n",
            "Epoch 72/100\n",
            "32/32 [==============================] - 0s 1ms/step - loss: 3.5836 - accuracy: 0.4300\n",
            "Epoch 73/100\n",
            "32/32 [==============================] - 0s 1ms/step - loss: 3.5826 - accuracy: 0.4310\n",
            "Epoch 74/100\n",
            "32/32 [==============================] - 0s 1ms/step - loss: 3.5817 - accuracy: 0.4330\n",
            "Epoch 75/100\n",
            "32/32 [==============================] - 0s 1ms/step - loss: 3.5656 - accuracy: 0.4360\n",
            "Epoch 76/100\n",
            "32/32 [==============================] - 0s 2ms/step - loss: 3.5355 - accuracy: 0.4410\n",
            "Epoch 77/100\n",
            "32/32 [==============================] - 0s 2ms/step - loss: 3.5335 - accuracy: 0.4410\n",
            "Epoch 78/100\n",
            "32/32 [==============================] - 0s 1ms/step - loss: 3.5319 - accuracy: 0.4420\n",
            "Epoch 79/100\n",
            "32/32 [==============================] - 0s 1ms/step - loss: 3.5306 - accuracy: 0.4420\n",
            "Epoch 80/100\n",
            "32/32 [==============================] - 0s 1ms/step - loss: 3.5208 - accuracy: 0.4420\n",
            "Epoch 81/100\n",
            "32/32 [==============================] - 0s 2ms/step - loss: 3.5172 - accuracy: 0.4420\n",
            "Epoch 82/100\n",
            "32/32 [==============================] - 0s 1ms/step - loss: 3.5157 - accuracy: 0.4430\n",
            "Epoch 83/100\n",
            "32/32 [==============================] - 0s 2ms/step - loss: 3.5144 - accuracy: 0.4450\n",
            "Epoch 84/100\n",
            "32/32 [==============================] - 0s 1ms/step - loss: 3.5132 - accuracy: 0.4450\n",
            "Epoch 85/100\n",
            "32/32 [==============================] - 0s 1ms/step - loss: 3.5043 - accuracy: 0.4460\n",
            "Epoch 86/100\n",
            "32/32 [==============================] - 0s 1ms/step - loss: 3.5002 - accuracy: 0.4470\n",
            "Epoch 87/100\n",
            "32/32 [==============================] - 0s 1ms/step - loss: 3.4905 - accuracy: 0.4470\n",
            "Epoch 88/100\n",
            "32/32 [==============================] - 0s 2ms/step - loss: 3.4788 - accuracy: 0.4470\n",
            "Epoch 89/100\n",
            "32/32 [==============================] - 0s 1ms/step - loss: 3.4661 - accuracy: 0.4470\n",
            "Epoch 90/100\n",
            "32/32 [==============================] - 0s 1ms/step - loss: 3.4452 - accuracy: 0.4490\n",
            "Epoch 91/100\n",
            "32/32 [==============================] - 0s 1ms/step - loss: 3.4198 - accuracy: 0.4560\n",
            "Epoch 92/100\n",
            "32/32 [==============================] - 0s 1ms/step - loss: 3.4176 - accuracy: 0.4550\n",
            "Epoch 93/100\n",
            "32/32 [==============================] - 0s 2ms/step - loss: 3.4072 - accuracy: 0.4580\n",
            "Epoch 94/100\n",
            "32/32 [==============================] - 0s 1ms/step - loss: 3.4036 - accuracy: 0.4580\n",
            "Epoch 95/100\n",
            "32/32 [==============================] - 0s 2ms/step - loss: 3.3944 - accuracy: 0.4590\n",
            "Epoch 96/100\n",
            "32/32 [==============================] - 0s 1ms/step - loss: 3.3290 - accuracy: 0.4590\n",
            "Epoch 97/100\n",
            "32/32 [==============================] - 0s 1ms/step - loss: 3.2727 - accuracy: 0.4600\n",
            "Epoch 98/100\n",
            "32/32 [==============================] - 0s 1ms/step - loss: 3.2636 - accuracy: 0.4580\n",
            "Epoch 99/100\n",
            "32/32 [==============================] - 0s 1ms/step - loss: 3.2509 - accuracy: 0.4570\n",
            "Epoch 100/100\n",
            "32/32 [==============================] - 0s 2ms/step - loss: 3.2459 - accuracy: 0.4570\n"
          ]
        }
      ]
    },
    {
      "cell_type": "code",
      "metadata": {
        "colab": {
          "base_uri": "https://localhost:8080/",
          "height": 264
        },
        "id": "DkNYTqatr369",
        "outputId": "2b9f778a-c0e2-40a3-a4c4-d1a269558316"
      },
      "source": [
        "# check out our data\n",
        "plt.scatter(X[:,0], X[:,1], c=y, cmap=plt.cm.RdYlBu);"
      ],
      "execution_count": 28,
      "outputs": [
        {
          "output_type": "display_data",
          "data": {
            "image/png": "[encoded data removed]",
            "text/plain": [
              "<Figure size 432x288 with 1 Axes>"
            ]
          },
          "metadata": {
            "needs_background": "light"
          }
        }
      ]
    },
    {
      "cell_type": "code",
      "metadata": {
        "colab": {
          "base_uri": "https://localhost:8080/",
          "height": 300
        },
        "id": "io1aQpb7sK1u",
        "outputId": "69c744f7-16a2-49ae-c566-34c5e8e55823"
      },
      "source": [
        "# check the decision boundary for our latest model\n",
        "plot_decision_boundary(model_4, X,y);"
      ],
      "execution_count": 29,
      "outputs": [
        {
          "output_type": "stream",
          "name": "stdout",
          "text": [
            "doing binary classification\n"
          ]
        },
        {
          "output_type": "stream",
          "name": "stderr",
          "text": [
            "/usr/local/lib/python3.7/dist-packages/ipykernel_launcher.py:29: UserWarning: The following kwargs were not used by contour: 'aplha'\n"
          ]
        },
        {
          "output_type": "display_data",
          "data": {
            "image/png": "[encoded data removed]",
            "text/plain": [
              "<Figure size 432x288 with 1 Axes>"
            ]
          },
          "metadata": {
            "needs_background": "light"
          }
        }
      ]
    },
    {
      "cell_type": "markdown",
      "metadata": {
        "id": "-Ok8ZewptjOW"
      },
      "source": [
        "Let's try build our first neural network with a non-linear activation function."
      ]
    },
    {
      "cell_type": "code",
      "metadata": {
        "colab": {
          "base_uri": "https://localhost:8080/"
        },
        "id": "diCMVrqesxil",
        "outputId": "0b90eafc-628e-4647-ed91-b8224c4c7104"
      },
      "source": [
        "# set randon seed\n",
        "tf.random.set_seed(42)\n",
        "\n",
        "# 1. create a model with a non-linear activation\n",
        "model_5 = tf.keras.Sequential([\n",
        "  tf.keras.layers.Dense(1, activation=\"relu\")\n",
        "])\n",
        "\n",
        "# 2. compile the model\n",
        "model_5.compile(loss=tf.keras.losses.BinaryCrossentropy(),\n",
        "                optimizer=tf.keras.optimizers.Adam(lr=0.001),\n",
        "                metrics=[\"accuracy\"])\n",
        "\n",
        "# 3. fit the model\n",
        "history = model_5.fit(X, y, epochs=100)"
      ],
      "execution_count": 30,
      "outputs": [
        {
          "output_type": "stream",
          "name": "stderr",
          "text": [
            "/usr/local/lib/python3.7/dist-packages/keras/optimizer_v2/adam.py:105: UserWarning: The `lr` argument is deprecated, use `learning_rate` instead.\n",
            "  super(Adam, self).__init__(name, **kwargs)\n"
          ]
        },
        {
          "output_type": "stream",
          "name": "stdout",
          "text": [
            "Epoch 1/100\n",
            "32/32 [==============================] - 0s 1ms/step - loss: 4.2979 - accuracy: 0.4670\n",
            "Epoch 2/100\n",
            "32/32 [==============================] - 0s 1ms/step - loss: 4.2317 - accuracy: 0.4400\n",
            "Epoch 3/100\n",
            "32/32 [==============================] - 0s 1ms/step - loss: 4.1610 - accuracy: 0.4310\n",
            "Epoch 4/100\n",
            "32/32 [==============================] - 0s 1ms/step - loss: 4.1183 - accuracy: 0.4270\n",
            "Epoch 5/100\n",
            "32/32 [==============================] - 0s 1ms/step - loss: 4.0784 - accuracy: 0.4240\n",
            "Epoch 6/100\n",
            "32/32 [==============================] - 0s 1ms/step - loss: 3.9604 - accuracy: 0.4170\n",
            "Epoch 7/100\n",
            "32/32 [==============================] - 0s 1ms/step - loss: 3.8936 - accuracy: 0.4110\n",
            "Epoch 8/100\n",
            "32/32 [==============================] - 0s 1ms/step - loss: 3.7818 - accuracy: 0.4140\n",
            "Epoch 9/100\n",
            "32/32 [==============================] - 0s 1ms/step - loss: 3.7564 - accuracy: 0.4140\n",
            "Epoch 10/100\n",
            "32/32 [==============================] - 0s 1ms/step - loss: 3.7547 - accuracy: 0.4150\n",
            "Epoch 11/100\n",
            "32/32 [==============================] - 0s 2ms/step - loss: 3.7537 - accuracy: 0.4140\n",
            "Epoch 12/100\n",
            "32/32 [==============================] - 0s 2ms/step - loss: 3.7526 - accuracy: 0.4140\n",
            "Epoch 13/100\n",
            "32/32 [==============================] - 0s 2ms/step - loss: 3.7518 - accuracy: 0.4140\n",
            "Epoch 14/100\n",
            "32/32 [==============================] - 0s 1ms/step - loss: 3.7510 - accuracy: 0.4140\n",
            "Epoch 15/100\n",
            "32/32 [==============================] - 0s 1ms/step - loss: 3.7503 - accuracy: 0.4130\n",
            "Epoch 16/100\n",
            "32/32 [==============================] - 0s 2ms/step - loss: 3.7497 - accuracy: 0.4130\n",
            "Epoch 17/100\n",
            "32/32 [==============================] - 0s 1ms/step - loss: 3.7490 - accuracy: 0.4130\n",
            "Epoch 18/100\n",
            "32/32 [==============================] - 0s 1ms/step - loss: 3.7484 - accuracy: 0.4130\n",
            "Epoch 19/100\n",
            "32/32 [==============================] - 0s 1ms/step - loss: 3.7478 - accuracy: 0.4120\n",
            "Epoch 20/100\n",
            "32/32 [==============================] - 0s 1ms/step - loss: 3.7472 - accuracy: 0.4120\n",
            "Epoch 21/100\n",
            "32/32 [==============================] - 0s 1ms/step - loss: 3.7466 - accuracy: 0.4110\n",
            "Epoch 22/100\n",
            "32/32 [==============================] - 0s 1ms/step - loss: 3.7461 - accuracy: 0.4110\n",
            "Epoch 23/100\n",
            "32/32 [==============================] - 0s 1ms/step - loss: 3.7455 - accuracy: 0.4110\n",
            "Epoch 24/100\n",
            "32/32 [==============================] - 0s 2ms/step - loss: 3.7450 - accuracy: 0.4110\n",
            "Epoch 25/100\n",
            "32/32 [==============================] - 0s 1ms/step - loss: 3.7366 - accuracy: 0.4120\n",
            "Epoch 26/100\n",
            "32/32 [==============================] - 0s 1ms/step - loss: 3.7256 - accuracy: 0.4120\n",
            "Epoch 27/100\n",
            "32/32 [==============================] - 0s 1ms/step - loss: 3.7230 - accuracy: 0.4140\n",
            "Epoch 28/100\n",
            "32/32 [==============================] - 0s 2ms/step - loss: 3.7215 - accuracy: 0.4140\n",
            "Epoch 29/100\n",
            "32/32 [==============================] - 0s 1ms/step - loss: 3.7204 - accuracy: 0.4150\n",
            "Epoch 30/100\n",
            "32/32 [==============================] - 0s 1ms/step - loss: 3.7196 - accuracy: 0.4160\n",
            "Epoch 31/100\n",
            "32/32 [==============================] - 0s 1ms/step - loss: 3.7188 - accuracy: 0.4170\n",
            "Epoch 32/100\n",
            "32/32 [==============================] - 0s 1ms/step - loss: 3.7181 - accuracy: 0.4170\n",
            "Epoch 33/100\n",
            "32/32 [==============================] - 0s 1ms/step - loss: 3.7174 - accuracy: 0.4170\n",
            "Epoch 34/100\n",
            "32/32 [==============================] - 0s 1ms/step - loss: 3.7167 - accuracy: 0.4170\n",
            "Epoch 35/100\n",
            "32/32 [==============================] - 0s 2ms/step - loss: 3.7161 - accuracy: 0.4160\n",
            "Epoch 36/100\n",
            "32/32 [==============================] - 0s 2ms/step - loss: 3.7153 - accuracy: 0.4150\n",
            "Epoch 37/100\n",
            "32/32 [==============================] - 0s 2ms/step - loss: 3.7147 - accuracy: 0.4150\n",
            "Epoch 38/100\n",
            "32/32 [==============================] - 0s 1ms/step - loss: 3.7141 - accuracy: 0.4150\n",
            "Epoch 39/100\n",
            "32/32 [==============================] - 0s 1ms/step - loss: 3.7135 - accuracy: 0.4150\n",
            "Epoch 40/100\n",
            "32/32 [==============================] - 0s 1ms/step - loss: 3.7129 - accuracy: 0.4150\n",
            "Epoch 41/100\n",
            "32/32 [==============================] - 0s 1ms/step - loss: 3.7123 - accuracy: 0.4150\n",
            "Epoch 42/100\n",
            "32/32 [==============================] - 0s 1ms/step - loss: 3.7118 - accuracy: 0.4160\n",
            "Epoch 43/100\n",
            "32/32 [==============================] - 0s 1ms/step - loss: 3.7112 - accuracy: 0.4160\n",
            "Epoch 44/100\n",
            "32/32 [==============================] - 0s 2ms/step - loss: 3.7107 - accuracy: 0.4160\n",
            "Epoch 45/100\n",
            "32/32 [==============================] - 0s 2ms/step - loss: 3.7101 - accuracy: 0.4150\n",
            "Epoch 46/100\n",
            "32/32 [==============================] - 0s 1ms/step - loss: 3.7096 - accuracy: 0.4170\n",
            "Epoch 47/100\n",
            "32/32 [==============================] - 0s 1ms/step - loss: 3.7091 - accuracy: 0.4170\n",
            "Epoch 48/100\n",
            "32/32 [==============================] - 0s 1ms/step - loss: 3.7014 - accuracy: 0.4170\n",
            "Epoch 49/100\n",
            "32/32 [==============================] - 0s 1ms/step - loss: 3.6892 - accuracy: 0.4190\n",
            "Epoch 50/100\n",
            "32/32 [==============================] - 0s 1ms/step - loss: 3.6856 - accuracy: 0.4190\n",
            "Epoch 51/100\n",
            "32/32 [==============================] - 0s 1ms/step - loss: 3.6846 - accuracy: 0.4190\n",
            "Epoch 52/100\n",
            "32/32 [==============================] - 0s 1ms/step - loss: 3.6837 - accuracy: 0.4190\n",
            "Epoch 53/100\n",
            "32/32 [==============================] - 0s 2ms/step - loss: 3.6829 - accuracy: 0.4190\n",
            "Epoch 54/100\n",
            "32/32 [==============================] - 0s 2ms/step - loss: 3.6821 - accuracy: 0.4190\n",
            "Epoch 55/100\n",
            "32/32 [==============================] - 0s 1ms/step - loss: 3.6814 - accuracy: 0.4190\n",
            "Epoch 56/100\n",
            "32/32 [==============================] - 0s 1ms/step - loss: 3.6807 - accuracy: 0.4200\n",
            "Epoch 57/100\n",
            "32/32 [==============================] - 0s 1ms/step - loss: 3.6727 - accuracy: 0.4210\n",
            "Epoch 58/100\n",
            "32/32 [==============================] - 0s 1ms/step - loss: 3.6690 - accuracy: 0.4190\n",
            "Epoch 59/100\n",
            "32/32 [==============================] - 0s 1ms/step - loss: 3.6677 - accuracy: 0.4190\n",
            "Epoch 60/100\n",
            "32/32 [==============================] - 0s 2ms/step - loss: 3.6585 - accuracy: 0.4190\n",
            "Epoch 61/100\n",
            "32/32 [==============================] - 0s 1ms/step - loss: 3.6489 - accuracy: 0.4200\n",
            "Epoch 62/100\n",
            "32/32 [==============================] - 0s 1ms/step - loss: 3.6330 - accuracy: 0.4190\n",
            "Epoch 63/100\n",
            "32/32 [==============================] - 0s 1ms/step - loss: 3.6282 - accuracy: 0.4200\n",
            "Epoch 64/100\n",
            "32/32 [==============================] - 0s 2ms/step - loss: 3.6162 - accuracy: 0.4220\n",
            "Epoch 65/100\n",
            "32/32 [==============================] - 0s 1ms/step - loss: 3.6062 - accuracy: 0.4240\n",
            "Epoch 66/100\n",
            "32/32 [==============================] - 0s 2ms/step - loss: 3.6031 - accuracy: 0.4260\n",
            "Epoch 67/100\n",
            "32/32 [==============================] - 0s 2ms/step - loss: 3.6012 - accuracy: 0.4280\n",
            "Epoch 68/100\n",
            "32/32 [==============================] - 0s 2ms/step - loss: 3.5999 - accuracy: 0.4280\n",
            "Epoch 69/100\n",
            "32/32 [==============================] - 0s 1ms/step - loss: 3.5904 - accuracy: 0.4290\n",
            "Epoch 70/100\n",
            "32/32 [==============================] - 0s 1ms/step - loss: 3.5858 - accuracy: 0.4300\n",
            "Epoch 71/100\n",
            "32/32 [==============================] - 0s 1ms/step - loss: 3.5846 - accuracy: 0.4300\n",
            "Epoch 72/100\n",
            "32/32 [==============================] - 0s 1ms/step - loss: 3.5836 - accuracy: 0.4300\n",
            "Epoch 73/100\n",
            "32/32 [==============================] - 0s 1ms/step - loss: 3.5826 - accuracy: 0.4310\n",
            "Epoch 74/100\n",
            "32/32 [==============================] - 0s 1ms/step - loss: 3.5817 - accuracy: 0.4330\n",
            "Epoch 75/100\n",
            "32/32 [==============================] - 0s 1ms/step - loss: 3.5656 - accuracy: 0.4360\n",
            "Epoch 76/100\n",
            "32/32 [==============================] - 0s 2ms/step - loss: 3.5355 - accuracy: 0.4410\n",
            "Epoch 77/100\n",
            "32/32 [==============================] - 0s 1ms/step - loss: 3.5335 - accuracy: 0.4410\n",
            "Epoch 78/100\n",
            "32/32 [==============================] - 0s 2ms/step - loss: 3.5319 - accuracy: 0.4420\n",
            "Epoch 79/100\n",
            "32/32 [==============================] - 0s 2ms/step - loss: 3.5306 - accuracy: 0.4420\n",
            "Epoch 80/100\n",
            "32/32 [==============================] - 0s 1ms/step - loss: 3.5208 - accuracy: 0.4420\n",
            "Epoch 81/100\n",
            "32/32 [==============================] - 0s 1ms/step - loss: 3.5172 - accuracy: 0.4420\n",
            "Epoch 82/100\n",
            "32/32 [==============================] - 0s 1ms/step - loss: 3.5157 - accuracy: 0.4430\n",
            "Epoch 83/100\n",
            "32/32 [==============================] - 0s 2ms/step - loss: 3.5144 - accuracy: 0.4450\n",
            "Epoch 84/100\n",
            "32/32 [==============================] - 0s 2ms/step - loss: 3.5132 - accuracy: 0.4450\n",
            "Epoch 85/100\n",
            "32/32 [==============================] - 0s 1ms/step - loss: 3.5043 - accuracy: 0.4460\n",
            "Epoch 86/100\n",
            "32/32 [==============================] - 0s 1ms/step - loss: 3.5002 - accuracy: 0.4470\n",
            "Epoch 87/100\n",
            "32/32 [==============================] - 0s 1ms/step - loss: 3.4905 - accuracy: 0.4470\n",
            "Epoch 88/100\n",
            "32/32 [==============================] - 0s 1ms/step - loss: 3.4788 - accuracy: 0.4470\n",
            "Epoch 89/100\n",
            "32/32 [==============================] - 0s 2ms/step - loss: 3.4661 - accuracy: 0.4470\n",
            "Epoch 90/100\n",
            "32/32 [==============================] - 0s 2ms/step - loss: 3.4452 - accuracy: 0.4490\n",
            "Epoch 91/100\n",
            "32/32 [==============================] - 0s 1ms/step - loss: 3.4198 - accuracy: 0.4560\n",
            "Epoch 92/100\n",
            "32/32 [==============================] - 0s 1ms/step - loss: 3.4176 - accuracy: 0.4550\n",
            "Epoch 93/100\n",
            "32/32 [==============================] - 0s 1ms/step - loss: 3.4072 - accuracy: 0.4580\n",
            "Epoch 94/100\n",
            "32/32 [==============================] - 0s 1ms/step - loss: 3.4036 - accuracy: 0.4580\n",
            "Epoch 95/100\n",
            "32/32 [==============================] - 0s 1ms/step - loss: 3.3944 - accuracy: 0.4590\n",
            "Epoch 96/100\n",
            "32/32 [==============================] - 0s 2ms/step - loss: 3.3290 - accuracy: 0.4590\n",
            "Epoch 97/100\n",
            "32/32 [==============================] - 0s 2ms/step - loss: 3.2727 - accuracy: 0.4600\n",
            "Epoch 98/100\n",
            "32/32 [==============================] - 0s 1ms/step - loss: 3.2636 - accuracy: 0.4580\n",
            "Epoch 99/100\n",
            "32/32 [==============================] - 0s 1ms/step - loss: 3.2509 - accuracy: 0.4570\n",
            "Epoch 100/100\n",
            "32/32 [==============================] - 0s 2ms/step - loss: 3.2459 - accuracy: 0.4570\n"
          ]
        }
      ]
    },
    {
      "cell_type": "markdown",
      "metadata": {
        "id": "ACcrPNEfwvQa"
      },
      "source": [
        "Tried training in Tensor Playground with 2 hidden layers with 4 and 3 neurons in each respectively.\n",
        "\n",
        "Let's recreate the model using tensorflow code.."
      ]
    },
    {
      "cell_type": "code",
      "metadata": {
        "colab": {
          "base_uri": "https://localhost:8080/"
        },
        "id": "OwZCVkcXugT4",
        "outputId": "196974b1-da7a-4254-ebf6-315c95d77f4d"
      },
      "source": [
        "# setup random seed\n",
        "tf.random.set_seed(42)\n",
        "\n",
        "# 1. create the model\n",
        "model_6 = tf.keras.Sequential([\n",
        "  tf.keras.layers.Dense(4, activation=\"relu\"),\n",
        "  tf.keras.layers.Dense(3, activation=\"relu\"),\n",
        "  tf.keras.layers.Dense(1)                              \n",
        "])\n",
        "\n",
        "# 2. compile the model\n",
        "model_6.compile(loss=tf.keras.losses.BinaryCrossentropy(),\n",
        "                optimizer=tf.keras.optimizers.Adam(lr=0.001),\n",
        "                metrics=[\"accuracy\"])\n",
        "\n",
        "# 3.fit the model\n",
        "history = model_6.fit(X, y, epochs=100, verbose=0)"
      ],
      "execution_count": 31,
      "outputs": [
        {
          "output_type": "stream",
          "name": "stderr",
          "text": [
            "/usr/local/lib/python3.7/dist-packages/keras/optimizer_v2/adam.py:105: UserWarning: The `lr` argument is deprecated, use `learning_rate` instead.\n",
            "  super(Adam, self).__init__(name, **kwargs)\n"
          ]
        }
      ]
    },
    {
      "cell_type": "code",
      "metadata": {
        "colab": {
          "base_uri": "https://localhost:8080/"
        },
        "id": "ab3toYUoxvBI",
        "outputId": "280e2f39-392f-4924-9192-b9cffdb3219f"
      },
      "source": [
        "# evaluate the latest model\n",
        "model_6.evaluate(X,y)"
      ],
      "execution_count": 32,
      "outputs": [
        {
          "output_type": "stream",
          "name": "stdout",
          "text": [
            "32/32 [==============================] - 0s 1ms/step - loss: 0.6442 - accuracy: 0.5950\n"
          ]
        },
        {
          "output_type": "execute_result",
          "data": {
            "text/plain": [
              "[0.6441717147827148, 0.5950000286102295]"
            ]
          },
          "metadata": {},
          "execution_count": 32
        }
      ]
    },
    {
      "cell_type": "code",
      "metadata": {
        "colab": {
          "base_uri": "https://localhost:8080/",
          "height": 300
        },
        "id": "zM2MNwb8yYxz",
        "outputId": "c36d8561-673d-42e6-b0b8-e9eddcdbda26"
      },
      "source": [
        "#how do our model's predictions look?\n",
        "plot_decision_boundary(model_6, X, y)"
      ],
      "execution_count": 33,
      "outputs": [
        {
          "output_type": "stream",
          "name": "stdout",
          "text": [
            "doing binary classification\n"
          ]
        },
        {
          "output_type": "stream",
          "name": "stderr",
          "text": [
            "/usr/local/lib/python3.7/dist-packages/ipykernel_launcher.py:29: UserWarning: The following kwargs were not used by contour: 'aplha'\n"
          ]
        },
        {
          "output_type": "display_data",
          "data": {
            "image/png": "[encoded data removed]",
            "text/plain": [
              "<Figure size 432x288 with 1 Axes>"
            ]
          },
          "metadata": {
            "needs_background": "light"
          }
        }
      ]
    },
    {
      "cell_type": "markdown",
      "metadata": {
        "id": "ffPRLA7N1z99"
      },
      "source": [
        "Let's use `sigmoid` activation function for output layer."
      ]
    },
    {
      "cell_type": "code",
      "metadata": {
        "colab": {
          "base_uri": "https://localhost:8080/"
        },
        "id": "EOfIXSoK1A2u",
        "outputId": "0b171a41-8e68-4e5e-c3be-9ef0250d3627"
      },
      "source": [
        "# setup random seed\n",
        "tf.random.set_seed(42)\n",
        "\n",
        "# 1. create the model\n",
        "model_7 = tf.keras.Sequential([\n",
        "  tf.keras.layers.Dense(4, activation=\"relu\"),\n",
        "  tf.keras.layers.Dense(4, activation=\"relu\"),\n",
        "  tf.keras.layers.Dense(1, activation=\"sigmoid\")                           \n",
        "])\n",
        "\n",
        "# 2. compile the model\n",
        "model_7.compile(loss=\"binary_crossentropy\",\n",
        "                optimizer=tf.keras.optimizers.Adam(learning_rate=0.001),\n",
        "                metrics=[\"accuracy\"])\n",
        "\n",
        "# 3. fit the model\n",
        "history = model_7.fit(X, y, epochs=100)"
      ],
      "execution_count": 34,
      "outputs": [
        {
          "output_type": "stream",
          "name": "stdout",
          "text": [
            "Epoch 1/100\n",
            "32/32 [==============================] - 1s 1ms/step - loss: 0.6891 - accuracy: 0.5020\n",
            "Epoch 2/100\n",
            "32/32 [==============================] - 0s 2ms/step - loss: 0.6848 - accuracy: 0.5170\n",
            "Epoch 3/100\n",
            "32/32 [==============================] - 0s 1ms/step - loss: 0.6824 - accuracy: 0.5160\n",
            "Epoch 4/100\n",
            "32/32 [==============================] - 0s 2ms/step - loss: 0.6813 - accuracy: 0.5300\n",
            "Epoch 5/100\n",
            "32/32 [==============================] - 0s 1ms/step - loss: 0.6802 - accuracy: 0.5390\n",
            "Epoch 6/100\n",
            "32/32 [==============================] - 0s 1ms/step - loss: 0.6794 - accuracy: 0.5380\n",
            "Epoch 7/100\n",
            "32/32 [==============================] - 0s 1ms/step - loss: 0.6785 - accuracy: 0.5500\n",
            "Epoch 8/100\n",
            "32/32 [==============================] - 0s 2ms/step - loss: 0.6778 - accuracy: 0.5480\n",
            "Epoch 9/100\n",
            "32/32 [==============================] - 0s 1ms/step - loss: 0.6772 - accuracy: 0.5530\n",
            "Epoch 10/100\n",
            "32/32 [==============================] - 0s 2ms/step - loss: 0.6766 - accuracy: 0.5510\n",
            "Epoch 11/100\n",
            "32/32 [==============================] - 0s 2ms/step - loss: 0.6760 - accuracy: 0.5500\n",
            "Epoch 12/100\n",
            "32/32 [==============================] - 0s 2ms/step - loss: 0.6754 - accuracy: 0.5550\n",
            "Epoch 13/100\n",
            "32/32 [==============================] - 0s 2ms/step - loss: 0.6747 - accuracy: 0.5560\n",
            "Epoch 14/100\n",
            "32/32 [==============================] - 0s 2ms/step - loss: 0.6741 - accuracy: 0.5540\n",
            "Epoch 15/100\n",
            "32/32 [==============================] - 0s 2ms/step - loss: 0.6734 - accuracy: 0.5580\n",
            "Epoch 16/100\n",
            "32/32 [==============================] - 0s 2ms/step - loss: 0.6727 - accuracy: 0.5550\n",
            "Epoch 17/100\n",
            "32/32 [==============================] - 0s 2ms/step - loss: 0.6722 - accuracy: 0.5550\n",
            "Epoch 18/100\n",
            "32/32 [==============================] - 0s 1ms/step - loss: 0.6716 - accuracy: 0.5550\n",
            "Epoch 19/100\n",
            "32/32 [==============================] - 0s 1ms/step - loss: 0.6710 - accuracy: 0.5590\n",
            "Epoch 20/100\n",
            "32/32 [==============================] - 0s 1ms/step - loss: 0.6702 - accuracy: 0.5600\n",
            "Epoch 21/100\n",
            "32/32 [==============================] - 0s 1ms/step - loss: 0.6696 - accuracy: 0.5640\n",
            "Epoch 22/100\n",
            "32/32 [==============================] - 0s 1ms/step - loss: 0.6688 - accuracy: 0.5600\n",
            "Epoch 23/100\n",
            "32/32 [==============================] - 0s 1ms/step - loss: 0.6682 - accuracy: 0.5700\n",
            "Epoch 24/100\n",
            "32/32 [==============================] - 0s 2ms/step - loss: 0.6679 - accuracy: 0.5570\n",
            "Epoch 25/100\n",
            "32/32 [==============================] - 0s 2ms/step - loss: 0.6671 - accuracy: 0.5670\n",
            "Epoch 26/100\n",
            "32/32 [==============================] - 0s 2ms/step - loss: 0.6662 - accuracy: 0.5750\n",
            "Epoch 27/100\n",
            "32/32 [==============================] - 0s 1ms/step - loss: 0.6657 - accuracy: 0.5810\n",
            "Epoch 28/100\n",
            "32/32 [==============================] - 0s 2ms/step - loss: 0.6645 - accuracy: 0.5700\n",
            "Epoch 29/100\n",
            "32/32 [==============================] - 0s 1ms/step - loss: 0.6642 - accuracy: 0.5700\n",
            "Epoch 30/100\n",
            "32/32 [==============================] - 0s 1ms/step - loss: 0.6634 - accuracy: 0.5790\n",
            "Epoch 31/100\n",
            "32/32 [==============================] - 0s 1ms/step - loss: 0.6627 - accuracy: 0.5760\n",
            "Epoch 32/100\n",
            "32/32 [==============================] - 0s 2ms/step - loss: 0.6619 - accuracy: 0.5760\n",
            "Epoch 33/100\n",
            "32/32 [==============================] - 0s 2ms/step - loss: 0.6610 - accuracy: 0.5760\n",
            "Epoch 34/100\n",
            "32/32 [==============================] - 0s 1ms/step - loss: 0.6606 - accuracy: 0.5760\n",
            "Epoch 35/100\n",
            "32/32 [==============================] - 0s 1ms/step - loss: 0.6597 - accuracy: 0.5790\n",
            "Epoch 36/100\n",
            "32/32 [==============================] - 0s 2ms/step - loss: 0.6586 - accuracy: 0.5780\n",
            "Epoch 37/100\n",
            "32/32 [==============================] - 0s 1ms/step - loss: 0.6580 - accuracy: 0.5780\n",
            "Epoch 38/100\n",
            "32/32 [==============================] - 0s 1ms/step - loss: 0.6573 - accuracy: 0.5790\n",
            "Epoch 39/100\n",
            "32/32 [==============================] - 0s 1ms/step - loss: 0.6564 - accuracy: 0.5790\n",
            "Epoch 40/100\n",
            "32/32 [==============================] - 0s 1ms/step - loss: 0.6556 - accuracy: 0.5760\n",
            "Epoch 41/100\n",
            "32/32 [==============================] - 0s 2ms/step - loss: 0.6548 - accuracy: 0.5780\n",
            "Epoch 42/100\n",
            "32/32 [==============================] - 0s 2ms/step - loss: 0.6540 - accuracy: 0.5750\n",
            "Epoch 43/100\n",
            "32/32 [==============================] - 0s 2ms/step - loss: 0.6530 - accuracy: 0.5780\n",
            "Epoch 44/100\n",
            "32/32 [==============================] - 0s 1ms/step - loss: 0.6521 - accuracy: 0.5810\n",
            "Epoch 45/100\n",
            "32/32 [==============================] - 0s 1ms/step - loss: 0.6496 - accuracy: 0.5810\n",
            "Epoch 46/100\n",
            "32/32 [==============================] - 0s 2ms/step - loss: 0.6481 - accuracy: 0.5830\n",
            "Epoch 47/100\n",
            "32/32 [==============================] - 0s 1ms/step - loss: 0.6472 - accuracy: 0.5850\n",
            "Epoch 48/100\n",
            "32/32 [==============================] - 0s 1ms/step - loss: 0.6451 - accuracy: 0.5880\n",
            "Epoch 49/100\n",
            "32/32 [==============================] - 0s 2ms/step - loss: 0.6426 - accuracy: 0.5880\n",
            "Epoch 50/100\n",
            "32/32 [==============================] - 0s 1ms/step - loss: 0.6404 - accuracy: 0.5940\n",
            "Epoch 51/100\n",
            "32/32 [==============================] - 0s 1ms/step - loss: 0.6384 - accuracy: 0.6010\n",
            "Epoch 52/100\n",
            "32/32 [==============================] - 0s 1ms/step - loss: 0.6364 - accuracy: 0.6130\n",
            "Epoch 53/100\n",
            "32/32 [==============================] - 0s 2ms/step - loss: 0.6344 - accuracy: 0.6110\n",
            "Epoch 54/100\n",
            "32/32 [==============================] - 0s 2ms/step - loss: 0.6312 - accuracy: 0.6280\n",
            "Epoch 55/100\n",
            "32/32 [==============================] - 0s 1ms/step - loss: 0.6287 - accuracy: 0.6380\n",
            "Epoch 56/100\n",
            "32/32 [==============================] - 0s 1ms/step - loss: 0.6259 - accuracy: 0.6840\n",
            "Epoch 57/100\n",
            "32/32 [==============================] - 0s 2ms/step - loss: 0.6227 - accuracy: 0.6950\n",
            "Epoch 58/100\n",
            "32/32 [==============================] - 0s 1ms/step - loss: 0.6200 - accuracy: 0.6990\n",
            "Epoch 59/100\n",
            "32/32 [==============================] - 0s 2ms/step - loss: 0.6168 - accuracy: 0.6950\n",
            "Epoch 60/100\n",
            "32/32 [==============================] - 0s 2ms/step - loss: 0.6133 - accuracy: 0.7240\n",
            "Epoch 61/100\n",
            "32/32 [==============================] - 0s 1ms/step - loss: 0.6101 - accuracy: 0.7200\n",
            "Epoch 62/100\n",
            "32/32 [==============================] - 0s 1ms/step - loss: 0.6059 - accuracy: 0.7330\n",
            "Epoch 63/100\n",
            "32/32 [==============================] - 0s 1ms/step - loss: 0.6014 - accuracy: 0.7400\n",
            "Epoch 64/100\n",
            "32/32 [==============================] - 0s 2ms/step - loss: 0.5966 - accuracy: 0.7460\n",
            "Epoch 65/100\n",
            "32/32 [==============================] - 0s 2ms/step - loss: 0.5905 - accuracy: 0.7440\n",
            "Epoch 66/100\n",
            "32/32 [==============================] - 0s 2ms/step - loss: 0.5830 - accuracy: 0.7450\n",
            "Epoch 67/100\n",
            "32/32 [==============================] - 0s 2ms/step - loss: 0.5757 - accuracy: 0.7460\n",
            "Epoch 68/100\n",
            "32/32 [==============================] - 0s 2ms/step - loss: 0.5683 - accuracy: 0.7800\n",
            "Epoch 69/100\n",
            "32/32 [==============================] - 0s 2ms/step - loss: 0.5614 - accuracy: 0.8010\n",
            "Epoch 70/100\n",
            "32/32 [==============================] - 0s 2ms/step - loss: 0.5548 - accuracy: 0.8010\n",
            "Epoch 71/100\n",
            "32/32 [==============================] - 0s 2ms/step - loss: 0.5474 - accuracy: 0.8240\n",
            "Epoch 72/100\n",
            "32/32 [==============================] - 0s 2ms/step - loss: 0.5406 - accuracy: 0.8460\n",
            "Epoch 73/100\n",
            "32/32 [==============================] - 0s 2ms/step - loss: 0.5327 - accuracy: 0.8470\n",
            "Epoch 74/100\n",
            "32/32 [==============================] - 0s 2ms/step - loss: 0.5243 - accuracy: 0.8620\n",
            "Epoch 75/100\n",
            "32/32 [==============================] - 0s 1ms/step - loss: 0.5148 - accuracy: 0.8870\n",
            "Epoch 76/100\n",
            "32/32 [==============================] - 0s 2ms/step - loss: 0.5042 - accuracy: 0.8820\n",
            "Epoch 77/100\n",
            "32/32 [==============================] - 0s 1ms/step - loss: 0.4927 - accuracy: 0.9300\n",
            "Epoch 78/100\n",
            "32/32 [==============================] - 0s 1ms/step - loss: 0.4824 - accuracy: 0.9090\n",
            "Epoch 79/100\n",
            "32/32 [==============================] - 0s 1ms/step - loss: 0.4733 - accuracy: 0.9460\n",
            "Epoch 80/100\n",
            "32/32 [==============================] - 0s 2ms/step - loss: 0.4632 - accuracy: 0.9600\n",
            "Epoch 81/100\n",
            "32/32 [==============================] - 0s 1ms/step - loss: 0.4546 - accuracy: 0.9600\n",
            "Epoch 82/100\n",
            "32/32 [==============================] - 0s 2ms/step - loss: 0.4456 - accuracy: 0.9580\n",
            "Epoch 83/100\n",
            "32/32 [==============================] - 0s 2ms/step - loss: 0.4360 - accuracy: 0.9630\n",
            "Epoch 84/100\n",
            "32/32 [==============================] - 0s 2ms/step - loss: 0.4260 - accuracy: 0.9690\n",
            "Epoch 85/100\n",
            "32/32 [==============================] - 0s 2ms/step - loss: 0.4145 - accuracy: 0.9700\n",
            "Epoch 86/100\n",
            "32/32 [==============================] - 0s 2ms/step - loss: 0.4059 - accuracy: 0.9740\n",
            "Epoch 87/100\n",
            "32/32 [==============================] - 0s 2ms/step - loss: 0.3962 - accuracy: 0.9750\n",
            "Epoch 88/100\n",
            "32/32 [==============================] - 0s 2ms/step - loss: 0.3873 - accuracy: 0.9720\n",
            "Epoch 89/100\n",
            "32/32 [==============================] - 0s 2ms/step - loss: 0.3795 - accuracy: 0.9750\n",
            "Epoch 90/100\n",
            "32/32 [==============================] - 0s 2ms/step - loss: 0.3716 - accuracy: 0.9750\n",
            "Epoch 91/100\n",
            "32/32 [==============================] - 0s 2ms/step - loss: 0.3635 - accuracy: 0.9840\n",
            "Epoch 92/100\n",
            "32/32 [==============================] - 0s 2ms/step - loss: 0.3554 - accuracy: 0.9830\n",
            "Epoch 93/100\n",
            "32/32 [==============================] - 0s 2ms/step - loss: 0.3482 - accuracy: 0.9800\n",
            "Epoch 94/100\n",
            "32/32 [==============================] - 0s 2ms/step - loss: 0.3404 - accuracy: 0.9820\n",
            "Epoch 95/100\n",
            "32/32 [==============================] - 0s 2ms/step - loss: 0.3329 - accuracy: 0.9880\n",
            "Epoch 96/100\n",
            "32/32 [==============================] - 0s 1ms/step - loss: 0.3268 - accuracy: 0.9870\n",
            "Epoch 97/100\n",
            "32/32 [==============================] - 0s 2ms/step - loss: 0.3190 - accuracy: 0.9870\n",
            "Epoch 98/100\n",
            "32/32 [==============================] - 0s 2ms/step - loss: 0.3122 - accuracy: 0.9890\n",
            "Epoch 99/100\n",
            "32/32 [==============================] - 0s 2ms/step - loss: 0.3059 - accuracy: 0.9880\n",
            "Epoch 100/100\n",
            "32/32 [==============================] - 0s 2ms/step - loss: 0.2993 - accuracy: 0.9890\n"
          ]
        }
      ]
    },
    {
      "cell_type": "code",
      "metadata": {
        "colab": {
          "base_uri": "https://localhost:8080/"
        },
        "id": "sygiEbSa2lOt",
        "outputId": "5120849d-2661-4733-8511-a12c9f0ed2f2"
      },
      "source": [
        "# 4. evaluate the model\n",
        "model_7.evaluate(X, y)"
      ],
      "execution_count": 35,
      "outputs": [
        {
          "output_type": "stream",
          "name": "stdout",
          "text": [
            "32/32 [==============================] - 0s 1ms/step - loss: 0.2948 - accuracy: 0.9910\n"
          ]
        },
        {
          "output_type": "execute_result",
          "data": {
            "text/plain": [
              "[0.2948004901409149, 0.9909999966621399]"
            ]
          },
          "metadata": {},
          "execution_count": 35
        }
      ]
    },
    {
      "cell_type": "code",
      "metadata": {
        "colab": {
          "base_uri": "https://localhost:8080/",
          "height": 300
        },
        "id": "_PtSktX520Mo",
        "outputId": "b2af72e6-5c2c-4917-cb2b-2dc13b2845d1"
      },
      "source": [
        "# let's visualize our model\n",
        "plot_decision_boundary(model_7, X, y)"
      ],
      "execution_count": 36,
      "outputs": [
        {
          "output_type": "stream",
          "name": "stdout",
          "text": [
            "doing binary classification\n"
          ]
        },
        {
          "output_type": "stream",
          "name": "stderr",
          "text": [
            "/usr/local/lib/python3.7/dist-packages/ipykernel_launcher.py:29: UserWarning: The following kwargs were not used by contour: 'aplha'\n"
          ]
        },
        {
          "output_type": "display_data",
          "data": {
            "image/png": "[encoded data removed]",
            "text/plain": [
              "<Figure size 432x288 with 1 Axes>"
            ]
          },
          "metadata": {
            "needs_background": "light"
          }
        }
      ]
    },
    {
      "cell_type": "markdown",
      "metadata": {
        "id": "rC7wpJnapP73"
      },
      "source": [
        "### Non-linear functions\n",
        "\n",
        "* `sigmoid`\n",
        "* `relu`"
      ]
    },
    {
      "cell_type": "code",
      "metadata": {
        "id": "Zk2Sy_jx261l",
        "colab": {
          "base_uri": "https://localhost:8080/"
        },
        "outputId": "1aebdc77-60a6-4e1d-b77d-d544b7b18228"
      },
      "source": [
        "# Create a toy tensor (similar to the data we pass into our models)\n",
        "A = tf.cast(tf.range(-10,10), tf.float32)\n",
        "A"
      ],
      "execution_count": 37,
      "outputs": [
        {
          "output_type": "execute_result",
          "data": {
            "text/plain": [
              "<tf.Tensor: shape=(20,), dtype=float32, numpy=\n",
              "array([-10.,  -9.,  -8.,  -7.,  -6.,  -5.,  -4.,  -3.,  -2.,  -1.,   0.,\n",
              "         1.,   2.,   3.,   4.,   5.,   6.,   7.,   8.,   9.],\n",
              "      dtype=float32)>"
            ]
          },
          "metadata": {},
          "execution_count": 37
        }
      ]
    },
    {
      "cell_type": "code",
      "metadata": {
        "colab": {
          "base_uri": "https://localhost:8080/",
          "height": 264
        },
        "id": "6noVsdTFnTbb",
        "outputId": "7f17e363-6c67-4006-e5e0-ea88b9c4d834"
      },
      "source": [
        "# visualize our toy tensor\n",
        "plt.plot(A);"
      ],
      "execution_count": 38,
      "outputs": [
        {
          "output_type": "display_data",
          "data": {
            "image/png": "[encoded data removed]",
            "text/plain": [
              "<Figure size 432x288 with 1 Axes>"
            ]
          },
          "metadata": {
            "needs_background": "light"
          }
        }
      ]
    },
    {
      "cell_type": "markdown",
      "metadata": {
        "id": "BDpbc354pGb-"
      },
      "source": [
        "* **`sigmoid`** activation function:"
      ]
    },
    {
      "cell_type": "code",
      "metadata": {
        "colab": {
          "base_uri": "https://localhost:8080/"
        },
        "id": "flK47AATncCW",
        "outputId": "41a92d80-dae5-46bb-f2c7-44728cebb2b0"
      },
      "source": [
        "# let's start by replicating sigmoid - sigmoid(x) = 1/(1+ exp(-x))\n",
        "def sigmoid(x):\n",
        "  return 1 / (1 + tf.exp(-x))\n",
        "\n",
        "# use the sigmoid function on our toy tensor\n",
        "sigmoid(A)"
      ],
      "execution_count": 39,
      "outputs": [
        {
          "output_type": "execute_result",
          "data": {
            "text/plain": [
              "<tf.Tensor: shape=(20,), dtype=float32, numpy=\n",
              "array([4.5397872e-05, 1.2339458e-04, 3.3535014e-04, 9.1105117e-04,\n",
              "       2.4726233e-03, 6.6928510e-03, 1.7986210e-02, 4.7425874e-02,\n",
              "       1.1920292e-01, 2.6894143e-01, 5.0000000e-01, 7.3105860e-01,\n",
              "       8.8079703e-01, 9.5257413e-01, 9.8201376e-01, 9.9330717e-01,\n",
              "       9.9752742e-01, 9.9908900e-01, 9.9966466e-01, 9.9987662e-01],\n",
              "      dtype=float32)>"
            ]
          },
          "metadata": {},
          "execution_count": 39
        }
      ]
    },
    {
      "cell_type": "code",
      "metadata": {
        "colab": {
          "base_uri": "https://localhost:8080/",
          "height": 264
        },
        "id": "9h_Wy4uConXR",
        "outputId": "b19fc681-4c12-44c2-cc84-6cd1ab823a3d"
      },
      "source": [
        "# plot our toy tensor transformed by sigmoid\n",
        "plt.plot(sigmoid(A));"
      ],
      "execution_count": 40,
      "outputs": [
        {
          "output_type": "display_data",
          "data": {
            "image/png": "[encoded data removed]",
            "text/plain": [
              "<Figure size 432x288 with 1 Axes>"
            ]
          },
          "metadata": {
            "needs_background": "light"
          }
        }
      ]
    },
    {
      "cell_type": "markdown",
      "metadata": {
        "id": "cNr_wytjoxos"
      },
      "source": [
        "* **`relu`** activation function"
      ]
    },
    {
      "cell_type": "code",
      "metadata": {
        "colab": {
          "base_uri": "https://localhost:8080/"
        },
        "id": "KOk2J_jgpcdu",
        "outputId": "e6caf7f0-42e1-4314-c6b5-bc418a775003"
      },
      "source": [
        "# let's recreate the relu function\n",
        "def relu(x):\n",
        "  return tf.maximum(0, x)\n",
        "\n",
        "# pass our toy tensor to our custom relu function\n",
        "relu(A)"
      ],
      "execution_count": 41,
      "outputs": [
        {
          "output_type": "execute_result",
          "data": {
            "text/plain": [
              "<tf.Tensor: shape=(20,), dtype=float32, numpy=\n",
              "array([0., 0., 0., 0., 0., 0., 0., 0., 0., 0., 0., 1., 2., 3., 4., 5., 6.,\n",
              "       7., 8., 9.], dtype=float32)>"
            ]
          },
          "metadata": {},
          "execution_count": 41
        }
      ]
    },
    {
      "cell_type": "code",
      "metadata": {
        "colab": {
          "base_uri": "https://localhost:8080/",
          "height": 264
        },
        "id": "doFrlS-dqTud",
        "outputId": "76262bff-a5ce-4fc2-a648-abbfdfeb2e4c"
      },
      "source": [
        "# plot relu-modified tensor\n",
        "plt.plot(relu(A));"
      ],
      "execution_count": 42,
      "outputs": [
        {
          "output_type": "display_data",
          "data": {
            "image/png": "[encoded data removed]",
            "text/plain": [
              "<Figure size 432x288 with 1 Axes>"
            ]
          },
          "metadata": {
            "needs_background": "light"
          }
        }
      ]
    },
    {
      "cell_type": "markdown",
      "metadata": {
        "id": "U_XSLl2Jqchm"
      },
      "source": [
        "* **`linear`** activation function"
      ]
    },
    {
      "cell_type": "code",
      "metadata": {
        "colab": {
          "base_uri": "https://localhost:8080/"
        },
        "id": "axZ6-Xh0qpzA",
        "outputId": "d133496c-4f07-4cf0-a6d7-a370b4f6c2fe"
      },
      "source": [
        "tf.keras.activations.linear(A)"
      ],
      "execution_count": 43,
      "outputs": [
        {
          "output_type": "execute_result",
          "data": {
            "text/plain": [
              "<tf.Tensor: shape=(20,), dtype=float32, numpy=\n",
              "array([-10.,  -9.,  -8.,  -7.,  -6.,  -5.,  -4.,  -3.,  -2.,  -1.,   0.,\n",
              "         1.,   2.,   3.,   4.,   5.,   6.,   7.,   8.,   9.],\n",
              "      dtype=float32)>"
            ]
          },
          "metadata": {},
          "execution_count": 43
        }
      ]
    },
    {
      "cell_type": "code",
      "metadata": {
        "colab": {
          "base_uri": "https://localhost:8080/",
          "height": 264
        },
        "id": "TeMOF-Qqqxt4",
        "outputId": "10b82b1e-b59d-4c4e-8a42-772e09962c94"
      },
      "source": [
        "plt.plot(tf.keras.activations.linear(A));"
      ],
      "execution_count": 44,
      "outputs": [
        {
          "output_type": "display_data",
          "data": {
            "image/png": "[encoded data removed]",
            "text/plain": [
              "<Figure size 432x288 with 1 Axes>"
            ]
          },
          "metadata": {
            "needs_background": "light"
          }
        }
      ]
    },
    {
      "cell_type": "code",
      "metadata": {
        "colab": {
          "base_uri": "https://localhost:8080/"
        },
        "id": "U4lToy2Mq3Uz",
        "outputId": "d2086f55-d520-4167-9e13-44a8dca64e7c"
      },
      "source": [
        "A == tf.keras.activations.linear(A)"
      ],
      "execution_count": 45,
      "outputs": [
        {
          "output_type": "execute_result",
          "data": {
            "text/plain": [
              "<tf.Tensor: shape=(20,), dtype=bool, numpy=\n",
              "array([ True,  True,  True,  True,  True,  True,  True,  True,  True,\n",
              "        True,  True,  True,  True,  True,  True,  True,  True,  True,\n",
              "        True,  True])>"
            ]
          },
          "metadata": {},
          "execution_count": 45
        }
      ]
    },
    {
      "cell_type": "markdown",
      "metadata": {
        "id": "x4fsWmxkq7HA"
      },
      "source": [
        "It returns the input unmodified.\n",
        "\n",
        "Thus, **non-linearity** is very important to find complex patterns in non-linear data. Simple linear activation functions alone are unable to find efficient decision boundaries leading to incorrect predictions.\n",
        "\n",
        "Neural networks use combination of linear and non-linear activation functions to find complex patterns in data.\n",
        "\n",
        "**Learning resource** - https://ml-cheatsheet.readthedocs.io/en/latest/activation_functions.html"
      ]
    },
    {
      "cell_type": "markdown",
      "metadata": {
        "id": "hsQvoIneq-wJ"
      },
      "source": [
        "## Evaluating and Improving classification model"
      ]
    },
    {
      "cell_type": "code",
      "metadata": {
        "colab": {
          "base_uri": "https://localhost:8080/"
        },
        "id": "Y2sVGsTttQs1",
        "outputId": "9a530f2d-a7a5-4cc8-84ba-a806b78a077e"
      },
      "source": [
        "# check how many examples we have\n",
        "len(X), len(y)"
      ],
      "execution_count": 46,
      "outputs": [
        {
          "output_type": "execute_result",
          "data": {
            "text/plain": [
              "(1000, 1000)"
            ]
          },
          "metadata": {},
          "execution_count": 46
        }
      ]
    },
    {
      "cell_type": "code",
      "metadata": {
        "id": "D9e6MNmUt3ex"
      },
      "source": [
        "# split into train and test sets\n",
        "X_train, y_train = X[:800], y[:800]\n",
        "X_test, y_test = X[800:], y[800:]"
      ],
      "execution_count": 47,
      "outputs": []
    },
    {
      "cell_type": "code",
      "metadata": {
        "colab": {
          "base_uri": "https://localhost:8080/"
        },
        "id": "ag6ZFkeGt7v_",
        "outputId": "e1f93246-dac8-4183-d0b1-512789a045a1"
      },
      "source": [
        "X_train.shape, X_test.shape, y_train.shape, y_test.shape"
      ],
      "execution_count": 48,
      "outputs": [
        {
          "output_type": "execute_result",
          "data": {
            "text/plain": [
              "((800, 2), (200, 2), (800,), (200,))"
            ]
          },
          "metadata": {},
          "execution_count": 48
        }
      ]
    },
    {
      "cell_type": "code",
      "metadata": {
        "colab": {
          "base_uri": "https://localhost:8080/"
        },
        "id": "M8zNCErVuS64",
        "outputId": "eec69301-3c22-4c2d-baf5-eb26820b5fb6"
      },
      "source": [
        "# let's recreate a model to fit on the training data and evaluate on the testing data\n",
        "\n",
        "# set random seed\n",
        "tf.random.set_seed(42)\n",
        "\n",
        "# 1. create the model\n",
        "model_8 = tf.keras.Sequential([\n",
        "    tf.keras.layers.Dense(4, activation=\"relu\"),\n",
        "    tf.keras.layers.Dense(4, activation=\"relu\"),\n",
        "    tf.keras.layers.Dense(1, activation=\"sigmoid\")                           \n",
        "])\n",
        "\n",
        "# 2. compile the model\n",
        "model_8.compile(loss=\"binary_crossentropy\",\n",
        "                optimizer=tf.keras.optimizers.Adam(learning_rate=0.01),\n",
        "                metrics=[\"accuracy\"])\n",
        "\n",
        "# 3. fit the model\n",
        "history = model_8.fit(X_train, y_train, epochs=25)"
      ],
      "execution_count": 49,
      "outputs": [
        {
          "output_type": "stream",
          "name": "stdout",
          "text": [
            "Epoch 1/25\n",
            "25/25 [==============================] - 1s 2ms/step - loss: 0.6847 - accuracy: 0.5425\n",
            "Epoch 2/25\n",
            "25/25 [==============================] - 0s 1ms/step - loss: 0.6777 - accuracy: 0.5525\n",
            "Epoch 3/25\n",
            "25/25 [==============================] - 0s 2ms/step - loss: 0.6736 - accuracy: 0.5512\n",
            "Epoch 4/25\n",
            "25/25 [==============================] - 0s 2ms/step - loss: 0.6681 - accuracy: 0.5775\n",
            "Epoch 5/25\n",
            "25/25 [==============================] - 0s 1ms/step - loss: 0.6633 - accuracy: 0.5850\n",
            "Epoch 6/25\n",
            "25/25 [==============================] - 0s 1ms/step - loss: 0.6546 - accuracy: 0.5838\n",
            "Epoch 7/25\n",
            "25/25 [==============================] - 0s 1ms/step - loss: 0.6413 - accuracy: 0.6750\n",
            "Epoch 8/25\n",
            "25/25 [==============================] - 0s 2ms/step - loss: 0.6264 - accuracy: 0.7013\n",
            "Epoch 9/25\n",
            "25/25 [==============================] - 0s 2ms/step - loss: 0.6038 - accuracy: 0.7487\n",
            "Epoch 10/25\n",
            "25/25 [==============================] - 0s 1ms/step - loss: 0.5714 - accuracy: 0.7738\n",
            "Epoch 11/25\n",
            "25/25 [==============================] - 0s 2ms/step - loss: 0.5404 - accuracy: 0.7650\n",
            "Epoch 12/25\n",
            "25/25 [==============================] - 0s 2ms/step - loss: 0.5015 - accuracy: 0.7837\n",
            "Epoch 13/25\n",
            "25/25 [==============================] - 0s 2ms/step - loss: 0.4683 - accuracy: 0.7975\n",
            "Epoch 14/25\n",
            "25/25 [==============================] - 0s 2ms/step - loss: 0.4113 - accuracy: 0.8450\n",
            "Epoch 15/25\n",
            "25/25 [==============================] - 0s 2ms/step - loss: 0.3625 - accuracy: 0.9125\n",
            "Epoch 16/25\n",
            "25/25 [==============================] - 0s 2ms/step - loss: 0.3209 - accuracy: 0.9312\n",
            "Epoch 17/25\n",
            "25/25 [==============================] - 0s 1ms/step - loss: 0.2847 - accuracy: 0.9488\n",
            "Epoch 18/25\n",
            "25/25 [==============================] - 0s 1ms/step - loss: 0.2597 - accuracy: 0.9525\n",
            "Epoch 19/25\n",
            "25/25 [==============================] - 0s 2ms/step - loss: 0.2375 - accuracy: 0.9563\n",
            "Epoch 20/25\n",
            "25/25 [==============================] - 0s 2ms/step - loss: 0.2135 - accuracy: 0.9663\n",
            "Epoch 21/25\n",
            "25/25 [==============================] - 0s 2ms/step - loss: 0.1938 - accuracy: 0.9775\n",
            "Epoch 22/25\n",
            "25/25 [==============================] - 0s 1ms/step - loss: 0.1752 - accuracy: 0.9737\n",
            "Epoch 23/25\n",
            "25/25 [==============================] - 0s 2ms/step - loss: 0.1619 - accuracy: 0.9787\n",
            "Epoch 24/25\n",
            "25/25 [==============================] - 0s 2ms/step - loss: 0.1550 - accuracy: 0.9775\n",
            "Epoch 25/25\n",
            "25/25 [==============================] - 0s 2ms/step - loss: 0.1490 - accuracy: 0.9762\n"
          ]
        }
      ]
    },
    {
      "cell_type": "code",
      "metadata": {
        "colab": {
          "base_uri": "https://localhost:8080/"
        },
        "id": "gSKZp0JQQpx9",
        "outputId": "1493bf6a-f2ba-4add-8307-7eeb90e15250"
      },
      "source": [
        "# 4, evaluate the model on test data\n",
        "model_8.evaluate(X_test, y_test)"
      ],
      "execution_count": 50,
      "outputs": [
        {
          "output_type": "stream",
          "name": "stdout",
          "text": [
            "7/7 [==============================] - 0s 3ms/step - loss: 0.1247 - accuracy: 1.0000\n"
          ]
        },
        {
          "output_type": "execute_result",
          "data": {
            "text/plain": [
              "[0.1246885135769844, 1.0]"
            ]
          },
          "metadata": {},
          "execution_count": 50
        }
      ]
    },
    {
      "cell_type": "code",
      "metadata": {
        "colab": {
          "base_uri": "https://localhost:8080/",
          "height": 443
        },
        "id": "Gr3f_JI4Q7Rw",
        "outputId": "cdca955f-6312-4420-94cf-4f235e4756f1"
      },
      "source": [
        "# plot the decision boundaries for the training and test sets\n",
        "plt.figure(figsize=(8,6))\n",
        "plt.subplot(1,2,1)\n",
        "plt.title(\"Train\")\n",
        "plot_decision_boundary(model_8, X=X_train, y=y_train)\n",
        "plt.subplot(1,2,2)\n",
        "plt.title(\"Test\")\n",
        "plot_decision_boundary(model_8, X=X_test, y=y_test)\n",
        "plt.show()"
      ],
      "execution_count": 51,
      "outputs": [
        {
          "output_type": "stream",
          "name": "stdout",
          "text": [
            "doing binary classification\n"
          ]
        },
        {
          "output_type": "stream",
          "name": "stderr",
          "text": [
            "/usr/local/lib/python3.7/dist-packages/ipykernel_launcher.py:29: UserWarning: The following kwargs were not used by contour: 'aplha'\n"
          ]
        },
        {
          "output_type": "stream",
          "name": "stdout",
          "text": [
            "doing binary classification\n"
          ]
        },
        {
          "output_type": "display_data",
          "data": {
            "image/png": "[encoded data removed]",
            "text/plain": [
              "<Figure size 576x432 with 2 Axes>"
            ]
          },
          "metadata": {
            "needs_background": "light"
          }
        }
      ]
    },
    {
      "cell_type": "markdown",
      "metadata": {
        "id": "PaRkw0oNRgV4"
      },
      "source": [
        "## Plot the loss (or training) curves"
      ]
    },
    {
      "cell_type": "code",
      "metadata": {
        "colab": {
          "base_uri": "https://localhost:8080/"
        },
        "id": "DWQfV8lGSGYp",
        "outputId": "bff187e8-41f1-4a7f-99fa-035bb8c62056"
      },
      "source": [
        "history.history"
      ],
      "execution_count": 52,
      "outputs": [
        {
          "output_type": "execute_result",
          "data": {
            "text/plain": [
              "{'accuracy': [0.5425000190734863,\n",
              "  0.5525000095367432,\n",
              "  0.5512499809265137,\n",
              "  0.5774999856948853,\n",
              "  0.5849999785423279,\n",
              "  0.5837500095367432,\n",
              "  0.675000011920929,\n",
              "  0.7012500166893005,\n",
              "  0.7487499713897705,\n",
              "  0.7737500071525574,\n",
              "  0.7649999856948853,\n",
              "  0.7837499976158142,\n",
              "  0.7975000143051147,\n",
              "  0.8450000286102295,\n",
              "  0.9125000238418579,\n",
              "  0.9312499761581421,\n",
              "  0.9487500190734863,\n",
              "  0.9524999856948853,\n",
              "  0.956250011920929,\n",
              "  0.9662500023841858,\n",
              "  0.9775000214576721,\n",
              "  0.9737499952316284,\n",
              "  0.9787499904632568,\n",
              "  0.9775000214576721,\n",
              "  0.9762499928474426],\n",
              " 'loss': [0.6846511960029602,\n",
              "  0.6777209639549255,\n",
              "  0.6735945343971252,\n",
              "  0.6681485772132874,\n",
              "  0.6632686853408813,\n",
              "  0.6545672416687012,\n",
              "  0.6412575244903564,\n",
              "  0.6264281272888184,\n",
              "  0.6038310527801514,\n",
              "  0.5714036226272583,\n",
              "  0.540442943572998,\n",
              "  0.5015039443969727,\n",
              "  0.46833187341690063,\n",
              "  0.4113016128540039,\n",
              "  0.3625059425830841,\n",
              "  0.32090437412261963,\n",
              "  0.2847079932689667,\n",
              "  0.25971999764442444,\n",
              "  0.23746901750564575,\n",
              "  0.21351958811283112,\n",
              "  0.1938202977180481,\n",
              "  0.17524366080760956,\n",
              "  0.16189303994178772,\n",
              "  0.1549890637397766,\n",
              "  0.14897282421588898]}"
            ]
          },
          "metadata": {},
          "execution_count": 52
        }
      ]
    },
    {
      "cell_type": "code",
      "metadata": {
        "colab": {
          "base_uri": "https://localhost:8080/",
          "height": 815
        },
        "id": "c-xN4k8cSeSI",
        "outputId": "849571fb-2ddf-4e9f-fdf4-2ddeb759b2fb"
      },
      "source": [
        "# convert the history object into a dataframe\n",
        "pd.DataFrame(history.history)"
      ],
      "execution_count": 53,
      "outputs": [
        {
          "output_type": "execute_result",
          "data": {
            "text/html": [
              "<div>\n",
              "<style scoped>\n",
              "    .dataframe tbody tr th:only-of-type {\n",
              "        vertical-align: middle;\n",
              "    }\n",
              "\n",
              "    .dataframe tbody tr th {\n",
              "        vertical-align: top;\n",
              "    }\n",
              "\n",
              "    .dataframe thead th {\n",
              "        text-align: right;\n",
              "    }\n",
              "</style>\n",
              "<table border=\"1\" class=\"dataframe\">\n",
              "  <thead>\n",
              "    <tr style=\"text-align: right;\">\n",
              "      <th></th>\n",
              "      <th>loss</th>\n",
              "      <th>accuracy</th>\n",
              "    </tr>\n",
              "  </thead>\n",
              "  <tbody>\n",
              "    <tr>\n",
              "      <th>0</th>\n",
              "      <td>0.684651</td>\n",
              "      <td>0.54250</td>\n",
              "    </tr>\n",
              "    <tr>\n",
              "      <th>1</th>\n",
              "      <td>0.677721</td>\n",
              "      <td>0.55250</td>\n",
              "    </tr>\n",
              "    <tr>\n",
              "      <th>2</th>\n",
              "      <td>0.673595</td>\n",
              "      <td>0.55125</td>\n",
              "    </tr>\n",
              "    <tr>\n",
              "      <th>3</th>\n",
              "      <td>0.668149</td>\n",
              "      <td>0.57750</td>\n",
              "    </tr>\n",
              "    <tr>\n",
              "      <th>4</th>\n",
              "      <td>0.663269</td>\n",
              "      <td>0.58500</td>\n",
              "    </tr>\n",
              "    <tr>\n",
              "      <th>5</th>\n",
              "      <td>0.654567</td>\n",
              "      <td>0.58375</td>\n",
              "    </tr>\n",
              "    <tr>\n",
              "      <th>6</th>\n",
              "      <td>0.641258</td>\n",
              "      <td>0.67500</td>\n",
              "    </tr>\n",
              "    <tr>\n",
              "      <th>7</th>\n",
              "      <td>0.626428</td>\n",
              "      <td>0.70125</td>\n",
              "    </tr>\n",
              "    <tr>\n",
              "      <th>8</th>\n",
              "      <td>0.603831</td>\n",
              "      <td>0.74875</td>\n",
              "    </tr>\n",
              "    <tr>\n",
              "      <th>9</th>\n",
              "      <td>0.571404</td>\n",
              "      <td>0.77375</td>\n",
              "    </tr>\n",
              "    <tr>\n",
              "      <th>10</th>\n",
              "      <td>0.540443</td>\n",
              "      <td>0.76500</td>\n",
              "    </tr>\n",
              "    <tr>\n",
              "      <th>11</th>\n",
              "      <td>0.501504</td>\n",
              "      <td>0.78375</td>\n",
              "    </tr>\n",
              "    <tr>\n",
              "      <th>12</th>\n",
              "      <td>0.468332</td>\n",
              "      <td>0.79750</td>\n",
              "    </tr>\n",
              "    <tr>\n",
              "      <th>13</th>\n",
              "      <td>0.411302</td>\n",
              "      <td>0.84500</td>\n",
              "    </tr>\n",
              "    <tr>\n",
              "      <th>14</th>\n",
              "      <td>0.362506</td>\n",
              "      <td>0.91250</td>\n",
              "    </tr>\n",
              "    <tr>\n",
              "      <th>15</th>\n",
              "      <td>0.320904</td>\n",
              "      <td>0.93125</td>\n",
              "    </tr>\n",
              "    <tr>\n",
              "      <th>16</th>\n",
              "      <td>0.284708</td>\n",
              "      <td>0.94875</td>\n",
              "    </tr>\n",
              "    <tr>\n",
              "      <th>17</th>\n",
              "      <td>0.259720</td>\n",
              "      <td>0.95250</td>\n",
              "    </tr>\n",
              "    <tr>\n",
              "      <th>18</th>\n",
              "      <td>0.237469</td>\n",
              "      <td>0.95625</td>\n",
              "    </tr>\n",
              "    <tr>\n",
              "      <th>19</th>\n",
              "      <td>0.213520</td>\n",
              "      <td>0.96625</td>\n",
              "    </tr>\n",
              "    <tr>\n",
              "      <th>20</th>\n",
              "      <td>0.193820</td>\n",
              "      <td>0.97750</td>\n",
              "    </tr>\n",
              "    <tr>\n",
              "      <th>21</th>\n",
              "      <td>0.175244</td>\n",
              "      <td>0.97375</td>\n",
              "    </tr>\n",
              "    <tr>\n",
              "      <th>22</th>\n",
              "      <td>0.161893</td>\n",
              "      <td>0.97875</td>\n",
              "    </tr>\n",
              "    <tr>\n",
              "      <th>23</th>\n",
              "      <td>0.154989</td>\n",
              "      <td>0.97750</td>\n",
              "    </tr>\n",
              "    <tr>\n",
              "      <th>24</th>\n",
              "      <td>0.148973</td>\n",
              "      <td>0.97625</td>\n",
              "    </tr>\n",
              "  </tbody>\n",
              "</table>\n",
              "</div>"
            ],
            "text/plain": [
              "        loss  accuracy\n",
              "0   0.684651   0.54250\n",
              "1   0.677721   0.55250\n",
              "2   0.673595   0.55125\n",
              "3   0.668149   0.57750\n",
              "4   0.663269   0.58500\n",
              "5   0.654567   0.58375\n",
              "6   0.641258   0.67500\n",
              "7   0.626428   0.70125\n",
              "8   0.603831   0.74875\n",
              "9   0.571404   0.77375\n",
              "10  0.540443   0.76500\n",
              "11  0.501504   0.78375\n",
              "12  0.468332   0.79750\n",
              "13  0.411302   0.84500\n",
              "14  0.362506   0.91250\n",
              "15  0.320904   0.93125\n",
              "16  0.284708   0.94875\n",
              "17  0.259720   0.95250\n",
              "18  0.237469   0.95625\n",
              "19  0.213520   0.96625\n",
              "20  0.193820   0.97750\n",
              "21  0.175244   0.97375\n",
              "22  0.161893   0.97875\n",
              "23  0.154989   0.97750\n",
              "24  0.148973   0.97625"
            ]
          },
          "metadata": {},
          "execution_count": 53
        }
      ]
    },
    {
      "cell_type": "code",
      "metadata": {
        "colab": {
          "base_uri": "https://localhost:8080/",
          "height": 281
        },
        "id": "uHz1ICzCSjW7",
        "outputId": "db9e3c89-092b-498c-9b62-e1b12e9a36ff"
      },
      "source": [
        "# plot the loss curves\n",
        "pd.DataFrame(history.history).plot()\n",
        "plt.title(\"Model_8 loss curves\");"
      ],
      "execution_count": 54,
      "outputs": [
        {
          "output_type": "display_data",
          "data": {
            "image/png": "[encoded data removed]",
            "text/plain": [
              "<Figure size 432x288 with 1 Axes>"
            ]
          },
          "metadata": {
            "needs_background": "light"
          }
        }
      ]
    },
    {
      "cell_type": "markdown",
      "metadata": {
        "id": "xFwJTAaZTTUu"
      },
      "source": [
        "For many problems, the loss function going down means the model is improving (the predictions it's making are getting closer to the ground truth labels)."
      ]
    },
    {
      "cell_type": "markdown",
      "metadata": {
        "id": "BJoFmC_JTH7x"
      },
      "source": [
        " ## Finding the best learning rate\n",
        "\n",
        " To find the ideal learning rate (the learning rate where the loss descreases the most during traing), we're going to use the following steps:  \n",
        " * A learning rate **callback** - you can think of an callback as an extra piece of functionality you can add to your model while it's training\n",
        " * Another model\n",
        " * A modified loss curves plot \n"
      ]
    },
    {
      "cell_type": "code",
      "metadata": {
        "colab": {
          "base_uri": "https://localhost:8080/"
        },
        "id": "7ueWKNywUAkU",
        "outputId": "1c5b5413-bbfc-4414-f062-083b1f9de34b"
      },
      "source": [
        "#  set random seed\n",
        "tf.random.set_seed(42)\n",
        "\n",
        "# 1. create a model\n",
        "model_9 = tf.keras.Sequential([\n",
        "  tf.keras.layers.Dense(4, activation=\"relu\"),\n",
        "  tf.keras.layers.Dense(4, activation=\"relu\"),\n",
        "  tf.keras.layers.Dense(1, activation=\"sigmoid\")\n",
        "])\n",
        "\n",
        "# 2. compile the model\n",
        "model_9.compile(loss=\"binary_crossentropy\",\n",
        "                optimizer=\"Adam\",\n",
        "                metrics=[\"accuracy\"])\n",
        "\n",
        "# 3. Create a learning rate callback\n",
        "lr_scheduler = tf.keras.callbacks.LearningRateScheduler(lambda epoch: 1e-4 * 10**(epoch/20))\n",
        "\n",
        "# 4. fit the model (passing lr_scheduler callback)\n",
        "history_9 = model_9.fit(X_train, y_train, epochs=100, callbacks=[lr_scheduler])\n"
      ],
      "execution_count": 55,
      "outputs": [
        {
          "output_type": "stream",
          "name": "stdout",
          "text": [
            "Epoch 1/100\n",
            "25/25 [==============================] - 0s 1ms/step - loss: 0.6945 - accuracy: 0.4988 - lr: 1.0000e-04\n",
            "Epoch 2/100\n",
            "25/25 [==============================] - 0s 2ms/step - loss: 0.6938 - accuracy: 0.4975 - lr: 1.1220e-04\n",
            "Epoch 3/100\n",
            "25/25 [==============================] - 0s 2ms/step - loss: 0.6930 - accuracy: 0.4963 - lr: 1.2589e-04\n",
            "Epoch 4/100\n",
            "25/25 [==============================] - 0s 2ms/step - loss: 0.6922 - accuracy: 0.4975 - lr: 1.4125e-04\n",
            "Epoch 5/100\n",
            "25/25 [==============================] - 0s 1ms/step - loss: 0.6914 - accuracy: 0.5063 - lr: 1.5849e-04\n",
            "Epoch 6/100\n",
            "25/25 [==============================] - 0s 2ms/step - loss: 0.6906 - accuracy: 0.5013 - lr: 1.7783e-04\n",
            "Epoch 7/100\n",
            "25/25 [==============================] - 0s 2ms/step - loss: 0.6898 - accuracy: 0.4950 - lr: 1.9953e-04\n",
            "Epoch 8/100\n",
            "25/25 [==============================] - 0s 2ms/step - loss: 0.6889 - accuracy: 0.5038 - lr: 2.2387e-04\n",
            "Epoch 9/100\n",
            "25/25 [==============================] - 0s 2ms/step - loss: 0.6880 - accuracy: 0.5013 - lr: 2.5119e-04\n",
            "Epoch 10/100\n",
            "25/25 [==============================] - 0s 3ms/step - loss: 0.6871 - accuracy: 0.5050 - lr: 2.8184e-04\n",
            "Epoch 11/100\n",
            "25/25 [==============================] - 0s 2ms/step - loss: 0.6863 - accuracy: 0.5200 - lr: 3.1623e-04\n",
            "Epoch 12/100\n",
            "25/25 [==============================] - 0s 2ms/step - loss: 0.6856 - accuracy: 0.5163 - lr: 3.5481e-04\n",
            "Epoch 13/100\n",
            "25/25 [==============================] - 0s 2ms/step - loss: 0.6847 - accuracy: 0.5175 - lr: 3.9811e-04\n",
            "Epoch 14/100\n",
            "25/25 [==============================] - 0s 2ms/step - loss: 0.6842 - accuracy: 0.5200 - lr: 4.4668e-04\n",
            "Epoch 15/100\n",
            "25/25 [==============================] - 0s 2ms/step - loss: 0.6835 - accuracy: 0.5213 - lr: 5.0119e-04\n",
            "Epoch 16/100\n",
            "25/25 [==============================] - 0s 2ms/step - loss: 0.6829 - accuracy: 0.5213 - lr: 5.6234e-04\n",
            "Epoch 17/100\n",
            "25/25 [==============================] - 0s 2ms/step - loss: 0.6826 - accuracy: 0.5225 - lr: 6.3096e-04\n",
            "Epoch 18/100\n",
            "25/25 [==============================] - 0s 2ms/step - loss: 0.6819 - accuracy: 0.5300 - lr: 7.0795e-04\n",
            "Epoch 19/100\n",
            "25/25 [==============================] - 0s 2ms/step - loss: 0.6816 - accuracy: 0.5312 - lr: 7.9433e-04\n",
            "Epoch 20/100\n",
            "25/25 [==============================] - 0s 2ms/step - loss: 0.6811 - accuracy: 0.5387 - lr: 8.9125e-04\n",
            "Epoch 21/100\n",
            "25/25 [==============================] - 0s 2ms/step - loss: 0.6806 - accuracy: 0.5400 - lr: 0.0010\n",
            "Epoch 22/100\n",
            "25/25 [==============================] - 0s 2ms/step - loss: 0.6801 - accuracy: 0.5412 - lr: 0.0011\n",
            "Epoch 23/100\n",
            "25/25 [==============================] - 0s 1ms/step - loss: 0.6796 - accuracy: 0.5400 - lr: 0.0013\n",
            "Epoch 24/100\n",
            "25/25 [==============================] - 0s 2ms/step - loss: 0.6790 - accuracy: 0.5425 - lr: 0.0014\n",
            "Epoch 25/100\n",
            "25/25 [==============================] - 0s 2ms/step - loss: 0.6784 - accuracy: 0.5450 - lr: 0.0016\n",
            "Epoch 26/100\n",
            "25/25 [==============================] - 0s 2ms/step - loss: 0.6778 - accuracy: 0.5387 - lr: 0.0018\n",
            "Epoch 27/100\n",
            "25/25 [==============================] - 0s 2ms/step - loss: 0.6770 - accuracy: 0.5425 - lr: 0.0020\n",
            "Epoch 28/100\n",
            "25/25 [==============================] - 0s 2ms/step - loss: 0.6760 - accuracy: 0.5537 - lr: 0.0022\n",
            "Epoch 29/100\n",
            "25/25 [==============================] - 0s 2ms/step - loss: 0.6754 - accuracy: 0.5512 - lr: 0.0025\n",
            "Epoch 30/100\n",
            "25/25 [==============================] - 0s 2ms/step - loss: 0.6739 - accuracy: 0.5575 - lr: 0.0028\n",
            "Epoch 31/100\n",
            "25/25 [==============================] - 0s 2ms/step - loss: 0.6726 - accuracy: 0.5500 - lr: 0.0032\n",
            "Epoch 32/100\n",
            "25/25 [==============================] - 0s 2ms/step - loss: 0.6711 - accuracy: 0.5512 - lr: 0.0035\n",
            "Epoch 33/100\n",
            "25/25 [==============================] - 0s 2ms/step - loss: 0.6688 - accuracy: 0.5562 - lr: 0.0040\n",
            "Epoch 34/100\n",
            "25/25 [==============================] - 0s 2ms/step - loss: 0.6672 - accuracy: 0.5612 - lr: 0.0045\n",
            "Epoch 35/100\n",
            "25/25 [==============================] - 0s 2ms/step - loss: 0.6660 - accuracy: 0.5888 - lr: 0.0050\n",
            "Epoch 36/100\n",
            "25/25 [==============================] - 0s 2ms/step - loss: 0.6625 - accuracy: 0.5625 - lr: 0.0056\n",
            "Epoch 37/100\n",
            "25/25 [==============================] - 0s 2ms/step - loss: 0.6560 - accuracy: 0.5813 - lr: 0.0063\n",
            "Epoch 38/100\n",
            "25/25 [==============================] - 0s 2ms/step - loss: 0.6521 - accuracy: 0.6025 - lr: 0.0071\n",
            "Epoch 39/100\n",
            "25/25 [==============================] - 0s 2ms/step - loss: 0.6415 - accuracy: 0.7088 - lr: 0.0079\n",
            "Epoch 40/100\n",
            "25/25 [==============================] - 0s 2ms/step - loss: 0.6210 - accuracy: 0.7113 - lr: 0.0089\n",
            "Epoch 41/100\n",
            "25/25 [==============================] - 0s 2ms/step - loss: 0.5904 - accuracy: 0.7487 - lr: 0.0100\n",
            "Epoch 42/100\n",
            "25/25 [==============================] - 0s 2ms/step - loss: 0.5688 - accuracy: 0.7312 - lr: 0.0112\n",
            "Epoch 43/100\n",
            "25/25 [==============================] - 0s 2ms/step - loss: 0.5346 - accuracy: 0.7563 - lr: 0.0126\n",
            "Epoch 44/100\n",
            "25/25 [==============================] - 0s 2ms/step - loss: 0.4533 - accuracy: 0.8150 - lr: 0.0141\n",
            "Epoch 45/100\n",
            "25/25 [==============================] - 0s 2ms/step - loss: 0.3455 - accuracy: 0.9112 - lr: 0.0158\n",
            "Epoch 46/100\n",
            "25/25 [==============================] - 0s 2ms/step - loss: 0.2570 - accuracy: 0.9463 - lr: 0.0178\n",
            "Epoch 47/100\n",
            "25/25 [==============================] - 0s 2ms/step - loss: 0.1968 - accuracy: 0.9575 - lr: 0.0200\n",
            "Epoch 48/100\n",
            "25/25 [==============================] - 0s 2ms/step - loss: 0.1336 - accuracy: 0.9700 - lr: 0.0224\n",
            "Epoch 49/100\n",
            "25/25 [==============================] - 0s 2ms/step - loss: 0.1310 - accuracy: 0.9613 - lr: 0.0251\n",
            "Epoch 50/100\n",
            "25/25 [==============================] - 0s 1ms/step - loss: 0.1002 - accuracy: 0.9700 - lr: 0.0282\n",
            "Epoch 51/100\n",
            "25/25 [==============================] - 0s 2ms/step - loss: 0.1166 - accuracy: 0.9638 - lr: 0.0316\n",
            "Epoch 52/100\n",
            "25/25 [==============================] - 0s 2ms/step - loss: 0.1368 - accuracy: 0.9513 - lr: 0.0355\n",
            "Epoch 53/100\n",
            "25/25 [==============================] - 0s 2ms/step - loss: 0.0879 - accuracy: 0.9787 - lr: 0.0398\n",
            "Epoch 54/100\n",
            "25/25 [==============================] - 0s 2ms/step - loss: 0.1187 - accuracy: 0.9588 - lr: 0.0447\n",
            "Epoch 55/100\n",
            "25/25 [==============================] - 0s 2ms/step - loss: 0.0733 - accuracy: 0.9712 - lr: 0.0501\n",
            "Epoch 56/100\n",
            "25/25 [==============================] - 0s 2ms/step - loss: 0.1132 - accuracy: 0.9550 - lr: 0.0562\n",
            "Epoch 57/100\n",
            "25/25 [==============================] - 0s 1ms/step - loss: 0.1057 - accuracy: 0.9613 - lr: 0.0631\n",
            "Epoch 58/100\n",
            "25/25 [==============================] - 0s 2ms/step - loss: 0.0664 - accuracy: 0.9750 - lr: 0.0708\n",
            "Epoch 59/100\n",
            "25/25 [==============================] - 0s 2ms/step - loss: 0.1898 - accuracy: 0.9275 - lr: 0.0794\n",
            "Epoch 60/100\n",
            "25/25 [==============================] - 0s 2ms/step - loss: 0.1895 - accuracy: 0.9312 - lr: 0.0891\n",
            "Epoch 61/100\n",
            "25/25 [==============================] - 0s 2ms/step - loss: 0.4131 - accuracy: 0.8612 - lr: 0.1000\n",
            "Epoch 62/100\n",
            "25/25 [==============================] - 0s 2ms/step - loss: 0.1707 - accuracy: 0.9725 - lr: 0.1122\n",
            "Epoch 63/100\n",
            "25/25 [==============================] - 0s 2ms/step - loss: 0.0569 - accuracy: 0.9937 - lr: 0.1259\n",
            "Epoch 64/100\n",
            "25/25 [==============================] - 0s 2ms/step - loss: 0.1007 - accuracy: 0.9638 - lr: 0.1413\n",
            "Epoch 65/100\n",
            "25/25 [==============================] - 0s 2ms/step - loss: 0.1323 - accuracy: 0.9488 - lr: 0.1585\n",
            "Epoch 66/100\n",
            "25/25 [==============================] - 0s 1ms/step - loss: 0.1819 - accuracy: 0.9375 - lr: 0.1778\n",
            "Epoch 67/100\n",
            "25/25 [==============================] - 0s 2ms/step - loss: 0.6672 - accuracy: 0.7613 - lr: 0.1995\n",
            "Epoch 68/100\n",
            "25/25 [==============================] - 0s 2ms/step - loss: 0.5301 - accuracy: 0.6687 - lr: 0.2239\n",
            "Epoch 69/100\n",
            "25/25 [==============================] - 0s 2ms/step - loss: 0.4140 - accuracy: 0.7925 - lr: 0.2512\n",
            "Epoch 70/100\n",
            "25/25 [==============================] - 0s 2ms/step - loss: 0.4574 - accuracy: 0.7412 - lr: 0.2818\n",
            "Epoch 71/100\n",
            "25/25 [==============================] - 0s 2ms/step - loss: 0.4759 - accuracy: 0.7262 - lr: 0.3162\n",
            "Epoch 72/100\n",
            "25/25 [==============================] - 0s 2ms/step - loss: 0.3748 - accuracy: 0.8112 - lr: 0.3548\n",
            "Epoch 73/100\n",
            "25/25 [==============================] - 0s 2ms/step - loss: 0.4710 - accuracy: 0.8150 - lr: 0.3981\n",
            "Epoch 74/100\n",
            "25/25 [==============================] - 0s 2ms/step - loss: 0.4143 - accuracy: 0.8087 - lr: 0.4467\n",
            "Epoch 75/100\n",
            "25/25 [==============================] - 0s 2ms/step - loss: 0.5961 - accuracy: 0.7412 - lr: 0.5012\n",
            "Epoch 76/100\n",
            "25/25 [==============================] - 0s 2ms/step - loss: 0.4787 - accuracy: 0.7713 - lr: 0.5623\n",
            "Epoch 77/100\n",
            "25/25 [==============================] - 0s 2ms/step - loss: 0.4720 - accuracy: 0.7113 - lr: 0.6310\n",
            "Epoch 78/100\n",
            "25/25 [==============================] - 0s 1ms/step - loss: 0.2565 - accuracy: 0.8675 - lr: 0.7079\n",
            "Epoch 79/100\n",
            "25/25 [==============================] - 0s 2ms/step - loss: 1.1824 - accuracy: 0.6275 - lr: 0.7943\n",
            "Epoch 80/100\n",
            "25/25 [==============================] - 0s 2ms/step - loss: 0.6873 - accuracy: 0.5425 - lr: 0.8913\n",
            "Epoch 81/100\n",
            "25/25 [==============================] - 0s 2ms/step - loss: 0.7068 - accuracy: 0.5575 - lr: 1.0000\n",
            "Epoch 82/100\n",
            "25/25 [==============================] - 0s 2ms/step - loss: 0.6879 - accuracy: 0.5838 - lr: 1.1220\n",
            "Epoch 83/100\n",
            "25/25 [==============================] - 0s 2ms/step - loss: 0.6996 - accuracy: 0.5700 - lr: 1.2589\n",
            "Epoch 84/100\n",
            "25/25 [==============================] - 0s 2ms/step - loss: 0.6471 - accuracy: 0.5863 - lr: 1.4125\n",
            "Epoch 85/100\n",
            "25/25 [==============================] - 0s 2ms/step - loss: 0.7457 - accuracy: 0.5312 - lr: 1.5849\n",
            "Epoch 86/100\n",
            "25/25 [==============================] - 0s 2ms/step - loss: 0.7546 - accuracy: 0.5038 - lr: 1.7783\n",
            "Epoch 87/100\n",
            "25/25 [==============================] - 0s 1ms/step - loss: 0.7681 - accuracy: 0.5063 - lr: 1.9953\n",
            "Epoch 88/100\n",
            "25/25 [==============================] - 0s 2ms/step - loss: 0.7596 - accuracy: 0.4963 - lr: 2.2387\n",
            "Epoch 89/100\n",
            "25/25 [==============================] - 0s 2ms/step - loss: 0.7778 - accuracy: 0.5063 - lr: 2.5119\n",
            "Epoch 90/100\n",
            "25/25 [==============================] - 0s 1ms/step - loss: 0.7741 - accuracy: 0.4787 - lr: 2.8184\n",
            "Epoch 91/100\n",
            "25/25 [==============================] - 0s 1ms/step - loss: 0.7851 - accuracy: 0.5163 - lr: 3.1623\n",
            "Epoch 92/100\n",
            "25/25 [==============================] - 0s 1ms/step - loss: 0.7441 - accuracy: 0.4888 - lr: 3.5481\n",
            "Epoch 93/100\n",
            "25/25 [==============================] - 0s 2ms/step - loss: 0.7354 - accuracy: 0.5163 - lr: 3.9811\n",
            "Epoch 94/100\n",
            "25/25 [==============================] - 0s 2ms/step - loss: 0.7548 - accuracy: 0.4938 - lr: 4.4668\n",
            "Epoch 95/100\n",
            "25/25 [==============================] - 0s 2ms/step - loss: 0.8087 - accuracy: 0.4863 - lr: 5.0119\n",
            "Epoch 96/100\n",
            "25/25 [==============================] - 0s 2ms/step - loss: 0.7714 - accuracy: 0.4638 - lr: 5.6234\n",
            "Epoch 97/100\n",
            "25/25 [==============================] - 0s 2ms/step - loss: 0.8001 - accuracy: 0.5013 - lr: 6.3096\n",
            "Epoch 98/100\n",
            "25/25 [==============================] - 0s 1ms/step - loss: 0.9554 - accuracy: 0.4963 - lr: 7.0795\n",
            "Epoch 99/100\n",
            "25/25 [==============================] - 0s 2ms/step - loss: 0.9268 - accuracy: 0.4913 - lr: 7.9433\n",
            "Epoch 100/100\n",
            "25/25 [==============================] - 0s 2ms/step - loss: 0.8563 - accuracy: 0.4663 - lr: 8.9125\n"
          ]
        }
      ]
    },
    {
      "cell_type": "code",
      "metadata": {
        "colab": {
          "base_uri": "https://localhost:8080/",
          "height": 387
        },
        "id": "dk8nJgXfYGjQ",
        "outputId": "13e16739-b7c3-46a2-c11b-8c622932153f"
      },
      "source": [
        "# checkout the history\n",
        "pd.DataFrame(history_9.history).plot(figsize=(8,6), xlabel=\"epochs\");"
      ],
      "execution_count": 56,
      "outputs": [
        {
          "output_type": "display_data",
          "data": {
            "image/png": "[encoded data removed]",
            "text/plain": [
              "<Figure size 576x432 with 1 Axes>"
            ]
          },
          "metadata": {
            "needs_background": "light"
          }
        }
      ]
    },
    {
      "cell_type": "code",
      "metadata": {
        "colab": {
          "base_uri": "https://localhost:8080/",
          "height": 462
        },
        "id": "QbbQuOgxZz_Z",
        "outputId": "2c9afed0-8bf0-4d36-fc72-e4b82b76b63e"
      },
      "source": [
        "# plot the learning rate versus the loss\n",
        "lrs = 1e-4 * (10** (tf.range(100)/20))\n",
        "plt.figure(figsize=(8,7))\n",
        "plt.semilogx(lrs, history_9.history[\"loss\"])\n",
        "plt.xlabel(\"Learning rate\")\n",
        "plt.ylabel(\"Loss\")\n",
        "plt.title(\"Learning rate vs. loss\");"
      ],
      "execution_count": 57,
      "outputs": [
        {
          "output_type": "display_data",
          "data": {
            "image/png": "[encoded data removed]",
            "text/plain": [
              "<Figure size 576x504 with 1 Axes>"
            ]
          },
          "metadata": {
            "needs_background": "light"
          }
        }
      ]
    },
    {
      "cell_type": "code",
      "metadata": {
        "colab": {
          "base_uri": "https://localhost:8080/"
        },
        "id": "1cAsltzQamk4",
        "outputId": "bf56d25d-c613-4ab8-fdba-fe5789ce8c1a"
      },
      "source": [
        "# let's try using a higher ideal learning rate with the same model\n",
        "\n",
        "# set random seed\n",
        "tf.random.set_seed(42)\n",
        "\n",
        "# 1. create the model\n",
        "model_10 = tf.keras.Sequential([\n",
        "  tf.keras.layers.Dense(4, activation=\"relu\"),\n",
        "  tf.keras.layers.Dense(4, activation=\"relu\"),\n",
        "  tf.keras.layers.Dense(1, activation=\"sigmoid\")\n",
        "])\n",
        "\n",
        "# 2. compile the model\n",
        "model_10.compile(loss=\"binary_crossentropy\",\n",
        "                 optimizer=tf.keras.optimizers.Adam(learning_rate=0.02),\n",
        "                 metrics=[\"accuracy\"])\n",
        "\n",
        "# 3. fit the model for 20 epochs (5 less than before)\n",
        "history_10 = model_10.fit(X_train, y_train, epochs=20)"
      ],
      "execution_count": 58,
      "outputs": [
        {
          "output_type": "stream",
          "name": "stdout",
          "text": [
            "Epoch 1/20\n",
            "25/25 [==============================] - 0s 2ms/step - loss: 0.6837 - accuracy: 0.5600\n",
            "Epoch 2/20\n",
            "25/25 [==============================] - 0s 2ms/step - loss: 0.6744 - accuracy: 0.5750\n",
            "Epoch 3/20\n",
            "25/25 [==============================] - 0s 2ms/step - loss: 0.6626 - accuracy: 0.5875\n",
            "Epoch 4/20\n",
            "25/25 [==============================] - 0s 2ms/step - loss: 0.6332 - accuracy: 0.6388\n",
            "Epoch 5/20\n",
            "25/25 [==============================] - 0s 2ms/step - loss: 0.5830 - accuracy: 0.7563\n",
            "Epoch 6/20\n",
            "25/25 [==============================] - 0s 2ms/step - loss: 0.4907 - accuracy: 0.8313\n",
            "Epoch 7/20\n",
            "25/25 [==============================] - 0s 2ms/step - loss: 0.4251 - accuracy: 0.8450\n",
            "Epoch 8/20\n",
            "25/25 [==============================] - 0s 1ms/step - loss: 0.3596 - accuracy: 0.8875\n",
            "Epoch 9/20\n",
            "25/25 [==============================] - 0s 1ms/step - loss: 0.3152 - accuracy: 0.9100\n",
            "Epoch 10/20\n",
            "25/25 [==============================] - 0s 2ms/step - loss: 0.2512 - accuracy: 0.9500\n",
            "Epoch 11/20\n",
            "25/25 [==============================] - 0s 1ms/step - loss: 0.2152 - accuracy: 0.9500\n",
            "Epoch 12/20\n",
            "25/25 [==============================] - 0s 1ms/step - loss: 0.1721 - accuracy: 0.9750\n",
            "Epoch 13/20\n",
            "25/25 [==============================] - 0s 1ms/step - loss: 0.1443 - accuracy: 0.9837\n",
            "Epoch 14/20\n",
            "25/25 [==============================] - 0s 2ms/step - loss: 0.1232 - accuracy: 0.9862\n",
            "Epoch 15/20\n",
            "25/25 [==============================] - 0s 2ms/step - loss: 0.1085 - accuracy: 0.9850\n",
            "Epoch 16/20\n",
            "25/25 [==============================] - 0s 2ms/step - loss: 0.0940 - accuracy: 0.9937\n",
            "Epoch 17/20\n",
            "25/25 [==============================] - 0s 2ms/step - loss: 0.0827 - accuracy: 0.9962\n",
            "Epoch 18/20\n",
            "25/25 [==============================] - 0s 2ms/step - loss: 0.0798 - accuracy: 0.9937\n",
            "Epoch 19/20\n",
            "25/25 [==============================] - 0s 1ms/step - loss: 0.0845 - accuracy: 0.9875\n",
            "Epoch 20/20\n",
            "25/25 [==============================] - 0s 1ms/step - loss: 0.0790 - accuracy: 0.9887\n"
          ]
        }
      ]
    },
    {
      "cell_type": "markdown",
      "metadata": {
        "id": "L1YvatWCuIjz"
      },
      "source": [
        "Increasing the `learning_rate` from `0.01` to 0.02` has achieved better results in lesser epochs (on training data)!\n",
        "\n",
        "This may not always work but can be tried as hyperparameter tuning to improve model's predictions."
      ]
    },
    {
      "cell_type": "code",
      "metadata": {
        "colab": {
          "base_uri": "https://localhost:8080/"
        },
        "id": "BIsrhaFhtzDg",
        "outputId": "53fa2bb3-8617-4ad7-be22-1ce1078764fd"
      },
      "source": [
        "# evaluate model_10 on the test data\n",
        "model_10.evaluate(X_test, y_test)"
      ],
      "execution_count": 59,
      "outputs": [
        {
          "output_type": "stream",
          "name": "stdout",
          "text": [
            "7/7 [==============================] - 0s 4ms/step - loss: 0.0574 - accuracy: 0.9900\n"
          ]
        },
        {
          "output_type": "execute_result",
          "data": {
            "text/plain": [
              "[0.05740184709429741, 0.9900000095367432]"
            ]
          },
          "metadata": {},
          "execution_count": 59
        }
      ]
    },
    {
      "cell_type": "code",
      "metadata": {
        "colab": {
          "base_uri": "https://localhost:8080/"
        },
        "id": "RcTK8ArJuwVY",
        "outputId": "a88ec27c-60af-42b2-f125-fab251ae3723"
      },
      "source": [
        "# evaluate model_8 on test data\n",
        "model_8.evaluate(X_test, y_test)"
      ],
      "execution_count": 60,
      "outputs": [
        {
          "output_type": "stream",
          "name": "stdout",
          "text": [
            "7/7 [==============================] - 0s 3ms/step - loss: 0.1247 - accuracy: 1.0000\n"
          ]
        },
        {
          "output_type": "execute_result",
          "data": {
            "text/plain": [
              "[0.1246885135769844, 1.0]"
            ]
          },
          "metadata": {},
          "execution_count": 60
        }
      ]
    },
    {
      "cell_type": "markdown",
      "metadata": {
        "id": "rpM0rnTsvFK7"
      },
      "source": [
        "Achieving better results on training data does not guarantee that model will perform better on unseen data (as can be observed above). \n",
        "\n",
        "This process involves trial and error to figure out which model is idea for our usecase."
      ]
    },
    {
      "cell_type": "code",
      "metadata": {
        "colab": {
          "base_uri": "https://localhost:8080/",
          "height": 388
        },
        "id": "f-l_PVQCusdq",
        "outputId": "877fda9f-fe2b-4e7e-f1e7-6174c9f43ca3"
      },
      "source": [
        "# plot the decision boundaries for the training and test set\n",
        "plt.figure(figsize=(10,5))\n",
        "plt.subplot(1,2,1)\n",
        "plt.title(\"Train\")\n",
        "plot_decision_boundary(model_10, X_train, y_train)\n",
        "plt.subplot(1,2,2)\n",
        "plt.title(\"Test\")\n",
        "plot_decision_boundary(model_10, X_test, y_test)\n",
        "plt.show();"
      ],
      "execution_count": 61,
      "outputs": [
        {
          "output_type": "stream",
          "name": "stdout",
          "text": [
            "doing binary classification\n"
          ]
        },
        {
          "output_type": "stream",
          "name": "stderr",
          "text": [
            "/usr/local/lib/python3.7/dist-packages/ipykernel_launcher.py:29: UserWarning: The following kwargs were not used by contour: 'aplha'\n"
          ]
        },
        {
          "output_type": "stream",
          "name": "stdout",
          "text": [
            "doing binary classification\n"
          ]
        },
        {
          "output_type": "display_data",
          "data": {
            "image/png": "[encoded data removed]",
            "text/plain": [
              "<Figure size 720x360 with 2 Axes>"
            ]
          },
          "metadata": {
            "needs_background": "light"
          }
        }
      ]
    },
    {
      "cell_type": "markdown",
      "metadata": {
        "id": "2ipyjeHnv4UD"
      },
      "source": [
        "## More classification evaluation methods\n",
        "\n",
        "There are a handful of other classification evaluation methods & metrics we should be familiar with:  \n",
        "* Accuracy\n",
        "* Precision\n",
        "* Recall\n",
        "* F1-score\n",
        "* Confusion Matrix\n",
        "* Classification report (from scikit-learn)\n"
      ]
    },
    {
      "cell_type": "markdown",
      "metadata": {
        "id": "SnRiJz4ux4fP"
      },
      "source": [
        "**Accuracy**"
      ]
    },
    {
      "cell_type": "code",
      "metadata": {
        "colab": {
          "base_uri": "https://localhost:8080/"
        },
        "id": "WWhGkeqKx_JP",
        "outputId": "5c9ea6a5-f296-4445-923f-f963bbe6f037"
      },
      "source": [
        "# check the accuracy of our model\n",
        "loss, accuracy  = model_10.evaluate(X_test, y_test)\n",
        "print(f\"Model loss on test set: {loss}\")\n",
        "print(f\"Model accuracy on test set: {(accuracy*100):.2f}%\")"
      ],
      "execution_count": 62,
      "outputs": [
        {
          "output_type": "stream",
          "name": "stdout",
          "text": [
            "7/7 [==============================] - 0s 4ms/step - loss: 0.0574 - accuracy: 0.9900\n",
            "Model loss on test set: 0.05740184709429741\n",
            "Model accuracy on test set: 99.00%\n"
          ]
        }
      ]
    },
    {
      "cell_type": "markdown",
      "metadata": {
        "id": "qCEWGCihyTH-"
      },
      "source": [
        "**Confusion Matrix**"
      ]
    },
    {
      "cell_type": "code",
      "metadata": {
        "id": "SkQJcx-jyetg"
      },
      "source": [
        "# create a confusion matrix\n",
        "from sklearn.metrics import confusion_matrix\n",
        "\n",
        "# make rpedictions\n",
        "y_preds = model_10.predict(X_test)\n",
        "\n",
        "# # create confusion matrix\n",
        "# confusion_matrix(y_test, y_preds)"
      ],
      "execution_count": 66,
      "outputs": []
    },
    {
      "cell_type": "code",
      "metadata": {
        "colab": {
          "base_uri": "https://localhost:8080/"
        },
        "id": "L7zGTZbfzR6k",
        "outputId": "be32bb24-c653-4b1d-d19d-306c484ad0bc"
      },
      "source": [
        "y_test[:10]"
      ],
      "execution_count": 68,
      "outputs": [
        {
          "output_type": "execute_result",
          "data": {
            "text/plain": [
              "array([1, 1, 1, 1, 0, 0, 1, 0, 1, 0])"
            ]
          },
          "metadata": {},
          "execution_count": 68
        }
      ]
    },
    {
      "cell_type": "code",
      "metadata": {
        "colab": {
          "base_uri": "https://localhost:8080/"
        },
        "id": "spAYwRMJzV3u",
        "outputId": "6a00fb0b-4e6e-4bf3-dbe5-3b8f31feb90e"
      },
      "source": [
        "y_preds[:10]"
      ],
      "execution_count": 69,
      "outputs": [
        {
          "output_type": "execute_result",
          "data": {
            "text/plain": [
              "array([[9.8526537e-01],\n",
              "       [9.9923790e-01],\n",
              "       [9.9032348e-01],\n",
              "       [9.9706942e-01],\n",
              "       [3.9622977e-01],\n",
              "       [1.8126935e-02],\n",
              "       [9.6829069e-01],\n",
              "       [1.9746721e-02],\n",
              "       [9.9967170e-01],\n",
              "       [5.6460500e-04]], dtype=float32)"
            ]
          },
          "metadata": {},
          "execution_count": 69
        }
      ]
    },
    {
      "cell_type": "markdown",
      "metadata": {
        "id": "Z9NpHWaAzjh9"
      },
      "source": [
        "Looks like our predictions array has come out in **prediction probability** form...the standard output from the sigmoid (or softmax) activation functions.\n",
        "\n",
        "(More the probability values are closer to 1, model is predicting 1. If it's closer to 0, model is predicting 0.)"
      ]
    },
    {
      "cell_type": "code",
      "metadata": {
        "colab": {
          "base_uri": "https://localhost:8080/"
        },
        "id": "a9tESskPzXk2",
        "outputId": "d93fa086-f1b1-4f52-d18d-6652a9e3a1de"
      },
      "source": [
        "# convert prediction probabilities to binary format and view the first 10\n",
        "tf.round(y_preds)[:10]"
      ],
      "execution_count": 70,
      "outputs": [
        {
          "output_type": "execute_result",
          "data": {
            "text/plain": [
              "<tf.Tensor: shape=(10, 1), dtype=float32, numpy=\n",
              "array([[1.],\n",
              "       [1.],\n",
              "       [1.],\n",
              "       [1.],\n",
              "       [0.],\n",
              "       [0.],\n",
              "       [1.],\n",
              "       [0.],\n",
              "       [1.],\n",
              "       [0.]], dtype=float32)>"
            ]
          },
          "metadata": {},
          "execution_count": 70
        }
      ]
    },
    {
      "cell_type": "code",
      "metadata": {
        "colab": {
          "base_uri": "https://localhost:8080/"
        },
        "id": "NX7NtNMC0Tqv",
        "outputId": "806fac72-093b-406e-f164-930d4250a560"
      },
      "source": [
        "# create confusion matrix\n",
        "confusion_matrix(y_test, tf.round(y_preds))"
      ],
      "execution_count": 71,
      "outputs": [
        {
          "output_type": "execute_result",
          "data": {
            "text/plain": [
              "array([[99,  2],\n",
              "       [ 0, 99]])"
            ]
          },
          "metadata": {},
          "execution_count": 71
        }
      ]
    },
    {
      "cell_type": "code",
      "metadata": {
        "colab": {
          "base_uri": "https://localhost:8080/",
          "height": 363
        },
        "id": "zg4Jz8Pz0dZk",
        "outputId": "c5b23d25-9afc-46fb-c71b-b0e6edca33ff"
      },
      "source": [
        "# prettify confusion matrix\n",
        "\n",
        "import itertools\n",
        "\n",
        "figsize=(6,6)\n",
        "\n",
        "# create the confusion matrix\n",
        "cm = confusion_matrix(y_test, tf.round(y_preds))\n",
        "cm_norm = cm.astype(\"float\") / cm.sum(axis=1)[:, np.newaxis] #normalize our confusion matrix\n",
        "n_classes = cm.shape[0]\n",
        "\n",
        "# let's prettify it\n",
        "fig, ax = plt.subplots(figsize=figsize)\n",
        "# create a matrix plot\n",
        "cax = ax.matshow(cm, cmap=plt.cm.Blues)\n",
        "fig.colorbar(cax)\n",
        "\n",
        "# create classes\n",
        "classes = False\n",
        "\n",
        "if classes:\n",
        "  labels = classes\n",
        "else:\n",
        "  labels = np.arange(cm.shape[0])\n",
        "\n",
        "# label the axes\n",
        "ax.set(title=\"Confusion Matrix\",\n",
        "       xlabel=\"Predicted label\",\n",
        "       ylabel=\"True label\",\n",
        "       xticks=np.arange(n_classes),\n",
        "       yticks=np.arange(n_classes),\n",
        "       xticklabels=labels,\n",
        "       yticklabels=labels)\n",
        "\n",
        "# set x-axis labels to bottom\n",
        "ax.xaxis.set_label_position(\"bottom\")\n",
        "ax.xaxis.tick_bottom()\n",
        "\n",
        "# adjust label size\n",
        "ax.yaxis.label.set_size(10)\n",
        "ax.xaxis.label.set_size(10)\n",
        "ax.title.set_size(10)\n",
        "\n",
        "# set threshold for different colors\n",
        "threshold = (cm.max() + cm.min()) / 2.\n",
        "\n",
        "# plot the text on each cell\n",
        "for i, j in itertools.product(range(cm.shape[0]), range(cm.shape[1])):\n",
        "  plt.text(j, i, f\"{cm[i, j]} ({cm_norm[i,j]*100:.1f}%)\",\n",
        "           horizontalalignment=\"center\",\n",
        "           color=\"white\" if cm[i,j] > threshold else \"black\",\n",
        "           size=15)\n"
      ],
      "execution_count": 72,
      "outputs": [
        {
          "output_type": "display_data",
          "data": {
            "image/png": "[encoded data removed]",
            "text/plain": [
              "<Figure size 432x432 with 2 Axes>"
            ]
          },
          "metadata": {
            "needs_background": "light"
          }
        }
      ]
    },
    {
      "cell_type": "markdown",
      "metadata": {
        "id": "A1P8CSCh3m8N"
      },
      "source": [
        "## Working with a larger example (multiclass classification)\n",
        "\n",
        "When you have more than two classes as an option, it's known as **multi-class classification**.\n",
        "\n",
        "To practice multi-class classification, we're going to build a neural network to classify images of different items of clothing.\n",
        "\n",
        "Dataset: https://www.tensorflow.org/datasets/catalog/fashion_mnist\n",
        "\n",
        "Label\tDescription\n",
        "* 0\tT-shirt/top\n",
        "* 1\tTrouser\n",
        "* 2\tPullover\n",
        "* 3\tDress\n",
        "* 4\tCoat\n",
        "* 5\tSandal\n",
        "* 6\tShirt\n",
        "* 7\tSneaker\n",
        "* 8\tBag\n",
        "* 9\tAnkle boot"
      ]
    },
    {
      "cell_type": "code",
      "metadata": {
        "colab": {
          "base_uri": "https://localhost:8080/"
        },
        "id": "860JQkhw47mL",
        "outputId": "b82fb729-efc4-4289-bc31-081b1a14e596"
      },
      "source": [
        "import tensorflow as tf\n",
        "from tensorflow.keras.datasets import fashion_mnist\n",
        "\n",
        "# the data has already been sorted into training and test sets\n",
        "(train_data, train_labels), (test_data, test_labels) = fashion_mnist.load_data()"
      ],
      "execution_count": 73,
      "outputs": [
        {
          "output_type": "stream",
          "name": "stdout",
          "text": [
            "Downloading data from https://storage.googleapis.com/tensorflow/tf-keras-datasets/train-labels-idx1-ubyte.gz\n",
            "32768/29515 [=================================] - 0s 0us/step\n",
            "40960/29515 [=========================================] - 0s 0us/step\n",
            "Downloading data from https://storage.googleapis.com/tensorflow/tf-keras-datasets/train-images-idx3-ubyte.gz\n",
            "26427392/26421880 [==============================] - 0s 0us/step\n",
            "26435584/26421880 [==============================] - 0s 0us/step\n",
            "Downloading data from https://storage.googleapis.com/tensorflow/tf-keras-datasets/t10k-labels-idx1-ubyte.gz\n",
            "16384/5148 [===============================================================================================] - 0s 0us/step\n",
            "Downloading data from https://storage.googleapis.com/tensorflow/tf-keras-datasets/t10k-images-idx3-ubyte.gz\n",
            "4423680/4422102 [==============================] - 0s 0us/step\n",
            "4431872/4422102 [==============================] - 0s 0us/step\n"
          ]
        }
      ]
    },
    {
      "cell_type": "code",
      "metadata": {
        "colab": {
          "base_uri": "https://localhost:8080/"
        },
        "id": "QXIvqr266Wpq",
        "outputId": "8b5175cd-864a-415d-e5cd-7eb996060018"
      },
      "source": [
        "# show the first training example\n",
        "print(f\"Training sample:\\n{train_data[0]}\\n\")\n",
        "print(f\"Training label:\\n{train_labels[0]}\\n\")"
      ],
      "execution_count": 74,
      "outputs": [
        {
          "output_type": "stream",
          "name": "stdout",
          "text": [
            "Training sample:\n",
            "[[  0   0   0   0   0   0   0   0   0   0   0   0   0   0   0   0   0   0\n",
            "    0   0   0   0   0   0   0   0   0   0]\n",
            " [  0   0   0   0   0   0   0   0   0   0   0   0   0   0   0   0   0   0\n",
            "    0   0   0   0   0   0   0   0   0   0]\n",
            " [  0   0   0   0   0   0   0   0   0   0   0   0   0   0   0   0   0   0\n",
            "    0   0   0   0   0   0   0   0   0   0]\n",
            " [  0   0   0   0   0   0   0   0   0   0   0   0   1   0   0  13  73   0\n",
            "    0   1   4   0   0   0   0   1   1   0]\n",
            " [  0   0   0   0   0   0   0   0   0   0   0   0   3   0  36 136 127  62\n",
            "   54   0   0   0   1   3   4   0   0   3]\n",
            " [  0   0   0   0   0   0   0   0   0   0   0   0   6   0 102 204 176 134\n",
            "  144 123  23   0   0   0   0  12  10   0]\n",
            " [  0   0   0   0   0   0   0   0   0   0   0   0   0   0 155 236 207 178\n",
            "  107 156 161 109  64  23  77 130  72  15]\n",
            " [  0   0   0   0   0   0   0   0   0   0   0   1   0  69 207 223 218 216\n",
            "  216 163 127 121 122 146 141  88 172  66]\n",
            " [  0   0   0   0   0   0   0   0   0   1   1   1   0 200 232 232 233 229\n",
            "  223 223 215 213 164 127 123 196 229   0]\n",
            " [  0   0   0   0   0   0   0   0   0   0   0   0   0 183 225 216 223 228\n",
            "  235 227 224 222 224 221 223 245 173   0]\n",
            " [  0   0   0   0   0   0   0   0   0   0   0   0   0 193 228 218 213 198\n",
            "  180 212 210 211 213 223 220 243 202   0]\n",
            " [  0   0   0   0   0   0   0   0   0   1   3   0  12 219 220 212 218 192\n",
            "  169 227 208 218 224 212 226 197 209  52]\n",
            " [  0   0   0   0   0   0   0   0   0   0   6   0  99 244 222 220 218 203\n",
            "  198 221 215 213 222 220 245 119 167  56]\n",
            " [  0   0   0   0   0   0   0   0   0   4   0   0  55 236 228 230 228 240\n",
            "  232 213 218 223 234 217 217 209  92   0]\n",
            " [  0   0   1   4   6   7   2   0   0   0   0   0 237 226 217 223 222 219\n",
            "  222 221 216 223 229 215 218 255  77   0]\n",
            " [  0   3   0   0   0   0   0   0   0  62 145 204 228 207 213 221 218 208\n",
            "  211 218 224 223 219 215 224 244 159   0]\n",
            " [  0   0   0   0  18  44  82 107 189 228 220 222 217 226 200 205 211 230\n",
            "  224 234 176 188 250 248 233 238 215   0]\n",
            " [  0  57 187 208 224 221 224 208 204 214 208 209 200 159 245 193 206 223\n",
            "  255 255 221 234 221 211 220 232 246   0]\n",
            " [  3 202 228 224 221 211 211 214 205 205 205 220 240  80 150 255 229 221\n",
            "  188 154 191 210 204 209 222 228 225   0]\n",
            " [ 98 233 198 210 222 229 229 234 249 220 194 215 217 241  65  73 106 117\n",
            "  168 219 221 215 217 223 223 224 229  29]\n",
            " [ 75 204 212 204 193 205 211 225 216 185 197 206 198 213 240 195 227 245\n",
            "  239 223 218 212 209 222 220 221 230  67]\n",
            " [ 48 203 183 194 213 197 185 190 194 192 202 214 219 221 220 236 225 216\n",
            "  199 206 186 181 177 172 181 205 206 115]\n",
            " [  0 122 219 193 179 171 183 196 204 210 213 207 211 210 200 196 194 191\n",
            "  195 191 198 192 176 156 167 177 210  92]\n",
            " [  0   0  74 189 212 191 175 172 175 181 185 188 189 188 193 198 204 209\n",
            "  210 210 211 188 188 194 192 216 170   0]\n",
            " [  2   0   0   0  66 200 222 237 239 242 246 243 244 221 220 193 191 179\n",
            "  182 182 181 176 166 168  99  58   0   0]\n",
            " [  0   0   0   0   0   0   0  40  61  44  72  41  35   0   0   0   0   0\n",
            "    0   0   0   0   0   0   0   0   0   0]\n",
            " [  0   0   0   0   0   0   0   0   0   0   0   0   0   0   0   0   0   0\n",
            "    0   0   0   0   0   0   0   0   0   0]\n",
            " [  0   0   0   0   0   0   0   0   0   0   0   0   0   0   0   0   0   0\n",
            "    0   0   0   0   0   0   0   0   0   0]]\n",
            "\n",
            "Training label:\n",
            "9\n",
            "\n"
          ]
        }
      ]
    },
    {
      "cell_type": "code",
      "metadata": {
        "colab": {
          "base_uri": "https://localhost:8080/"
        },
        "id": "Ojjozj0x6o-v",
        "outputId": "94974366-c7e2-422c-de54-71c7a57e4266"
      },
      "source": [
        "# check the shape of a single example\n",
        "train_data[0].shape, train_labels[0].shape"
      ],
      "execution_count": 75,
      "outputs": [
        {
          "output_type": "execute_result",
          "data": {
            "text/plain": [
              "((28, 28), ())"
            ]
          },
          "metadata": {},
          "execution_count": 75
        }
      ]
    },
    {
      "cell_type": "code",
      "metadata": {
        "colab": {
          "base_uri": "https://localhost:8080/",
          "height": 282
        },
        "id": "5TMIWo_y7CBK",
        "outputId": "9959fc2f-97bd-47c3-dbe1-454834539c0c"
      },
      "source": [
        "# plot a single sample\n",
        "import matplotlib.pyplot as plt\n",
        "plt.imshow(train_data[9])"
      ],
      "execution_count": 76,
      "outputs": [
        {
          "output_type": "execute_result",
          "data": {
            "text/plain": [
              "<matplotlib.image.AxesImage at 0x7fc93aa6e4d0>"
            ]
          },
          "metadata": {},
          "execution_count": 76
        },
        {
          "output_type": "display_data",
          "data": {
            "image/png": "[encoded data removed]",
            "text/plain": [
              "<Figure size 432x288 with 1 Axes>"
            ]
          },
          "metadata": {
            "needs_background": "light"
          }
        }
      ]
    },
    {
      "cell_type": "code",
      "metadata": {
        "colab": {
          "base_uri": "https://localhost:8080/"
        },
        "id": "UdVK2kaK7K-D",
        "outputId": "9b36a0bb-d521-4144-eb76-d03a729a2504"
      },
      "source": [
        "train_labels[9]"
      ],
      "execution_count": 77,
      "outputs": [
        {
          "output_type": "execute_result",
          "data": {
            "text/plain": [
              "5"
            ]
          },
          "metadata": {},
          "execution_count": 77
        }
      ]
    },
    {
      "cell_type": "code",
      "metadata": {
        "colab": {
          "base_uri": "https://localhost:8080/"
        },
        "id": "YQLrEwUb7TAt",
        "outputId": "8b102107-bde6-477d-beaf-4dc8fddfc526"
      },
      "source": [
        "# create a small list so we can index onto our training labels so they're human-readable\n",
        "class_names = [\"T-shirt/top\", \"Trouser\", \"Pullover\", \"Dress\", \"Coat\", \"Sandal\", \"Shirt\", \"Sneaker\", \"Bag\", \"Ankle boot\"]\n",
        "\n",
        "len(class_names)"
      ],
      "execution_count": 78,
      "outputs": [
        {
          "output_type": "execute_result",
          "data": {
            "text/plain": [
              "10"
            ]
          },
          "metadata": {},
          "execution_count": 78
        }
      ]
    },
    {
      "cell_type": "code",
      "metadata": {
        "colab": {
          "base_uri": "https://localhost:8080/",
          "height": 298
        },
        "id": "soRw3SJo9Qvn",
        "outputId": "84ef5d92-a4c0-4d95-a6e1-9f7fd26244a8"
      },
      "source": [
        "# plot an example image and it's image\n",
        "index = 17\n",
        "plt.imshow(train_data[index], cmap=plt.cm.binary)\n",
        "plt.title(class_names[train_labels[index]])"
      ],
      "execution_count": 79,
      "outputs": [
        {
          "output_type": "execute_result",
          "data": {
            "text/plain": [
              "Text(0.5, 1.0, 'T-shirt/top')"
            ]
          },
          "metadata": {},
          "execution_count": 79
        },
        {
          "output_type": "display_data",
          "data": {
            "image/png": "[encoded data removed]",
            "text/plain": [
              "<Figure size 432x288 with 1 Axes>"
            ]
          },
          "metadata": {
            "needs_background": "light"
          }
        }
      ]
    },
    {
      "cell_type": "code",
      "metadata": {
        "colab": {
          "base_uri": "https://localhost:8080/",
          "height": 426
        },
        "id": "Iz6dOuRS9mP9",
        "outputId": "87380447-8fdb-4fef-a74b-3eb509f473ef"
      },
      "source": [
        "# plot multiple random images of fashion MNIST\n",
        "import random\n",
        "plt.figure(figsize=(7,7))\n",
        "for i in range(4):\n",
        "  ax = plt.subplot(2,2, i+1)\n",
        "  rand_index = random.choice(range(len(train_data)))\n",
        "  plt.imshow(train_data[rand_index], cmap=plt.cm.binary)\n",
        "  plt.title(class_names[train_labels[rand_index]])\n",
        "  plt.axis(False)"
      ],
      "execution_count": 80,
      "outputs": [
        {
          "output_type": "display_data",
          "data": {
            "image/png": "[encoded data removed]",
            "text/plain": [
              "<Figure size 504x504 with 4 Axes>"
            ]
          },
          "metadata": {
            "needs_background": "light"
          }
        }
      ]
    },
    {
      "cell_type": "markdown",
      "metadata": {
        "id": "ZsPZIow5-llT"
      },
      "source": [
        "### Building a multi-class classification model\n",
        "\n",
        "For our multi-class classification model, we can use a similar architecture to our binary classifiers, however, we're going to tweak a few things:    \n",
        "* Input shape = 28 * 28 (shape of one image)\n",
        "* Output shape = 10 (one per class of clothing)\n",
        "* Loss function = \n",
        "  * If your labels are one-hot encoded, use `tf.keras.losses.CategoricalCrossentropy()`\n",
        "  * If your labels are in integer form, use `tf.keras.losses.SparseCategoricalCrossentropy()`\n",
        "* Output layer activation = Softmax (not sigmoid)\n"
      ]
    },
    {
      "cell_type": "code",
      "metadata": {
        "colab": {
          "base_uri": "https://localhost:8080/"
        },
        "id": "zhI5yYW0BCLl",
        "outputId": "e196fbda-e3ae-4669-b733-e760406f39ec"
      },
      "source": [
        "# our data needs to be flattened (from 28*28 to None, 784)\n",
        "flatten_model = tf.keras.Sequential([tf.keras.layers.Flatten(input_shape=(28,28))])\n",
        "flatten_model.output_shape"
      ],
      "execution_count": 81,
      "outputs": [
        {
          "output_type": "execute_result",
          "data": {
            "text/plain": [
              "(None, 784)"
            ]
          },
          "metadata": {},
          "execution_count": 81
        }
      ]
    },
    {
      "cell_type": "markdown",
      "metadata": {
        "id": "SeAKbUDFC7WA"
      },
      "source": [
        "Categorical crossentropy - https://www.tensorflow.org/api_docs/python/tf/keras/losses/CategoricalCrossentropy#used-in-the-notebooks\n",
        "\n",
        "\n",
        "> Use `Categoricalcrossentropy` loss function when there are two or more label classes. We expect labels to be provided in a `one_hot` representation. If you want to provide labels as `integers`, please use `SparseCategoricalCrossentropy` loss.\n",
        "\n",
        "\n"
      ]
    },
    {
      "cell_type": "code",
      "metadata": {
        "colab": {
          "base_uri": "https://localhost:8080/"
        },
        "id": "P1PMzQLY_H0X",
        "outputId": "a00a000a-59d2-40d9-a850-454b62c2013e"
      },
      "source": [
        "# set random seed\n",
        "tf.random.set_seed(42)\n",
        "\n",
        "# create the model\n",
        "model_11 = tf.keras.Sequential([\n",
        "  tf.keras.layers.Flatten(input_shape=(28,28)),\n",
        "  tf.keras.layers.Dense(4, activation=\"relu\"),\n",
        "  tf.keras.layers.Dense(4, activation=\"relu\"),\n",
        "  tf.keras.layers.Dense(10, activation=\"softmax\")\n",
        "])\n",
        "\n",
        "# compile the model\n",
        "model_11.compile(loss=tf.keras.losses.SparseCategoricalCrossentropy(),\n",
        "                 optimizer=tf.keras.optimizers.Adam(),\n",
        "                 metrics=[\"accuracy\"])\n",
        "\n",
        "# fit the model\n",
        "non_norm_history = model_11.fit(train_data,\n",
        "                                train_labels,\n",
        "                                epochs=10,\n",
        "                                validation_data=(test_data, test_labels))"
      ],
      "execution_count": 82,
      "outputs": [
        {
          "output_type": "stream",
          "name": "stdout",
          "text": [
            "Epoch 1/10\n",
            "1875/1875 [==============================] - 4s 2ms/step - loss: 2.1671 - accuracy: 0.1606 - val_loss: 1.7959 - val_accuracy: 0.2046\n",
            "Epoch 2/10\n",
            "1875/1875 [==============================] - 4s 2ms/step - loss: 1.7066 - accuracy: 0.2509 - val_loss: 1.6567 - val_accuracy: 0.2805\n",
            "Epoch 3/10\n",
            "1875/1875 [==============================] - 4s 2ms/step - loss: 1.6321 - accuracy: 0.2806 - val_loss: 1.6094 - val_accuracy: 0.2857\n",
            "Epoch 4/10\n",
            "1875/1875 [==============================] - 4s 2ms/step - loss: 1.6052 - accuracy: 0.2833 - val_loss: 1.6041 - val_accuracy: 0.2859\n",
            "Epoch 5/10\n",
            "1875/1875 [==============================] - 4s 2ms/step - loss: 1.5975 - accuracy: 0.2862 - val_loss: 1.6064 - val_accuracy: 0.2756\n",
            "Epoch 6/10\n",
            "1875/1875 [==============================] - 4s 2ms/step - loss: 1.5950 - accuracy: 0.2920 - val_loss: 1.5747 - val_accuracy: 0.2994\n",
            "Epoch 7/10\n",
            "1875/1875 [==============================] - 4s 2ms/step - loss: 1.5775 - accuracy: 0.3040 - val_loss: 1.6030 - val_accuracy: 0.3000\n",
            "Epoch 8/10\n",
            "1875/1875 [==============================] - 4s 2ms/step - loss: 1.5708 - accuracy: 0.3175 - val_loss: 1.5635 - val_accuracy: 0.3315\n",
            "Epoch 9/10\n",
            "1875/1875 [==============================] - 4s 2ms/step - loss: 1.5638 - accuracy: 0.3280 - val_loss: 1.5534 - val_accuracy: 0.3334\n",
            "Epoch 10/10\n",
            "1875/1875 [==============================] - 3s 2ms/step - loss: 1.5432 - accuracy: 0.3346 - val_loss: 1.5390 - val_accuracy: 0.3549\n"
          ]
        }
      ]
    },
    {
      "cell_type": "code",
      "metadata": {
        "colab": {
          "base_uri": "https://localhost:8080/"
        },
        "id": "k8Qrn4d3B8WM",
        "outputId": "18d65c63-58c9-4b97-9a8e-281946a3ca2e"
      },
      "source": [
        "# check the model summary\n",
        "model_11.summary()"
      ],
      "execution_count": 83,
      "outputs": [
        {
          "output_type": "stream",
          "name": "stdout",
          "text": [
            "Model: \"sequential_11\"\n",
            "_________________________________________________________________\n",
            " Layer (type)                Output Shape              Param #   \n",
            "=================================================================\n",
            " flatten_1 (Flatten)         (None, 784)               0         \n",
            "                                                                 \n",
            " dense_23 (Dense)            (None, 4)                 3140      \n",
            "                                                                 \n",
            " dense_24 (Dense)            (None, 4)                 20        \n",
            "                                                                 \n",
            " dense_25 (Dense)            (None, 10)                50        \n",
            "                                                                 \n",
            "=================================================================\n",
            "Total params: 3,210\n",
            "Trainable params: 3,210\n",
            "Non-trainable params: 0\n",
            "_________________________________________________________________\n"
          ]
        }
      ]
    },
    {
      "cell_type": "code",
      "metadata": {
        "colab": {
          "base_uri": "https://localhost:8080/"
        },
        "id": "fKDXH-CncOX7",
        "outputId": "062e88e7-2e5e-493e-ce31-4a59992b33f8"
      },
      "source": [
        "# check the min and max of the training data\n",
        "train_data.min(), train_data.max()"
      ],
      "execution_count": 85,
      "outputs": [
        {
          "output_type": "execute_result",
          "data": {
            "text/plain": [
              "(0, 255)"
            ]
          },
          "metadata": {},
          "execution_count": 85
        }
      ]
    },
    {
      "cell_type": "markdown",
      "metadata": {
        "id": "WgqM1LWSeNEl"
      },
      "source": [
        "Neural networks prefer data to be scaled (or normalized), this means they like to have the numbers in the tensors they try to find patterns between 0 and 1."
      ]
    },
    {
      "cell_type": "code",
      "metadata": {
        "colab": {
          "base_uri": "https://localhost:8080/"
        },
        "id": "AjYDwqDgeLa-",
        "outputId": "22665857-dedb-49ad-df2a-c2ea8c9fc4cb"
      },
      "source": [
        "# we can get our training data and testing data to be between 0 & 1 by dividing by the maximum\n",
        "train_data_norm = train_data/255.0\n",
        "test_data_norm = test_data/255.0\n",
        "\n",
        "# check the min and max values of the scaled training data\n",
        "train_data_norm.min(), train_data_norm.max()"
      ],
      "execution_count": 86,
      "outputs": [
        {
          "output_type": "execute_result",
          "data": {
            "text/plain": [
              "(0.0, 1.0)"
            ]
          },
          "metadata": {},
          "execution_count": 86
        }
      ]
    },
    {
      "cell_type": "code",
      "metadata": {
        "colab": {
          "base_uri": "https://localhost:8080/"
        },
        "id": "1f-O1ylVe0Iv",
        "outputId": "51f8c817-2776-4546-abab-cda8b245bd46"
      },
      "source": [
        " # now our data is normalized,let's build a model to find patterns in it\n",
        "\n",
        " # set random seed\n",
        " tf.random.set_seed(42)\n",
        "\n",
        " # create a model\n",
        " model_12 = tf.keras.Sequential([\n",
        "   tf.keras.layers.Flatten(input_shape=(28,28)),\n",
        "   tf.keras.layers.Dense(4, activation=\"relu\"),\n",
        "   tf.keras.layers.Dense(4, activation=\"relu\"),\n",
        "   tf.keras.layers.Dense(10, activation=\"softmax\")\n",
        " ])\n",
        "\n",
        " # compile the model\n",
        "model_12.compile(loss=tf.keras.losses.SparseCategoricalCrossentropy(),\n",
        "                 optimizer=tf.keras.optimizers.Adam(),\n",
        "                 metrics=[\"accuracy\"])\n",
        "# fit the model\n",
        "norm_history = model_12.fit(train_data_norm,\n",
        "                            train_labels,\n",
        "                            epochs=10,\n",
        "                            validation_data=(test_data_norm, test_labels))"
      ],
      "execution_count": 87,
      "outputs": [
        {
          "output_type": "stream",
          "name": "stdout",
          "text": [
            "Epoch 1/10\n",
            "1875/1875 [==============================] - 4s 2ms/step - loss: 1.0348 - accuracy: 0.6474 - val_loss: 0.6937 - val_accuracy: 0.7617\n",
            "Epoch 2/10\n",
            "1875/1875 [==============================] - 4s 2ms/step - loss: 0.6376 - accuracy: 0.7757 - val_loss: 0.6400 - val_accuracy: 0.7820\n",
            "Epoch 3/10\n",
            "1875/1875 [==============================] - 3s 2ms/step - loss: 0.5942 - accuracy: 0.7914 - val_loss: 0.6247 - val_accuracy: 0.7783\n",
            "Epoch 4/10\n",
            "1875/1875 [==============================] - 3s 2ms/step - loss: 0.5750 - accuracy: 0.7979 - val_loss: 0.6078 - val_accuracy: 0.7881\n",
            "Epoch 5/10\n",
            "1875/1875 [==============================] - 3s 2ms/step - loss: 0.5641 - accuracy: 0.8006 - val_loss: 0.6169 - val_accuracy: 0.7881\n",
            "Epoch 6/10\n",
            "1875/1875 [==============================] - 4s 2ms/step - loss: 0.5544 - accuracy: 0.8043 - val_loss: 0.5855 - val_accuracy: 0.7951\n",
            "Epoch 7/10\n",
            "1875/1875 [==============================] - 3s 2ms/step - loss: 0.5488 - accuracy: 0.8063 - val_loss: 0.6097 - val_accuracy: 0.7836\n",
            "Epoch 8/10\n",
            "1875/1875 [==============================] - 3s 2ms/step - loss: 0.5428 - accuracy: 0.8077 - val_loss: 0.5787 - val_accuracy: 0.7971\n",
            "Epoch 9/10\n",
            "1875/1875 [==============================] - 3s 2ms/step - loss: 0.5373 - accuracy: 0.8097 - val_loss: 0.5698 - val_accuracy: 0.7977\n",
            "Epoch 10/10\n",
            "1875/1875 [==============================] - 4s 2ms/step - loss: 0.5360 - accuracy: 0.8124 - val_loss: 0.5658 - val_accuracy: 0.8014\n"
          ]
        }
      ]
    },
    {
      "cell_type": "markdown",
      "metadata": {
        "id": "6PfZBzeLgyrw"
      },
      "source": [
        "🔑 Neural networks tend to prefer data in numerical form as well as scaled/normalized (numbers between 0 & 1)."
      ]
    },
    {
      "cell_type": "code",
      "metadata": {
        "colab": {
          "base_uri": "https://localhost:8080/",
          "height": 544
        },
        "id": "GORCfX35gfPi",
        "outputId": "51f82fdf-f408-4eb8-dcf1-67d48ef9c26f"
      },
      "source": [
        "import pandas as pd\n",
        "# plot non-normalized data loss curves\n",
        "pd.DataFrame(non_norm_history.history).plot(title=\"Non-normalized data\")\n",
        "# plot normalized data loss curves\n",
        "pd.DataFrame(norm_history.history).plot(title=\"Normalized data\");"
      ],
      "execution_count": 89,
      "outputs": [
        {
          "output_type": "display_data",
          "data": {
            "image/png": "[encoded data removed]",
            "text/plain": [
              "<Figure size 432x288 with 1 Axes>"
            ]
          },
          "metadata": {
            "needs_background": "light"
          }
        },
        {
          "output_type": "display_data",
          "data": {
            "image/png": "[encoded data removed]",
            "text/plain": [
              "<Figure size 432x288 with 1 Axes>"
            ]
          },
          "metadata": {
            "needs_background": "light"
          }
        }
      ]
    },
    {
      "cell_type": "markdown",
      "metadata": {
        "id": "7ck6PkmFibx1"
      },
      "source": [
        "🔑 The same model with even slightly different data can produce dramatically different results.So when you're comparing models, it's important to make sure you're comparing them to the same criteria (e.g same architecture but different data or same data but different architecture.)"
      ]
    },
    {
      "cell_type": "markdown",
      "metadata": {
        "id": "AYYfL50aiPeS"
      },
      "source": [
        "### Finding the ideal learning rate"
      ]
    },
    {
      "cell_type": "code",
      "metadata": {
        "colab": {
          "base_uri": "https://localhost:8080/"
        },
        "id": "1QK5WspGj3pq",
        "outputId": "93a9d091-e346-404a-d8a3-3c3448927581"
      },
      "source": [
        "# set random seed\n",
        "tf.random.set_seed(42)\n",
        "\n",
        "# create the model\n",
        "model_13 = tf.keras.Sequential([\n",
        "  tf.keras.layers.Flatten(input_shape=(28,28)),\n",
        "  tf.keras.layers.Dense(4, activation=\"relu\"),\n",
        "  tf.keras.layers.Dense(4, activation=\"relu\"),\n",
        "  tf.keras.layers.Dense(10, activation=\"softmax\")\n",
        "])\n",
        "\n",
        "# compile the model\n",
        "model_13.compile(loss=tf.keras.losses.SparseCategoricalCrossentropy(),\n",
        "                 optimizer=tf.keras.optimizers.Adam(),\n",
        "                 metrics=[\"accuracy\"])\n",
        "\n",
        "# Create the learning rate callback\n",
        "lr_scheduler = tf.keras.callbacks.LearningRateScheduler(lambda epoch: 1e-3 * 10**(epoch/20))\n",
        "\n",
        "# fit the model\n",
        "find_lr_history = model_13.fit(train_data_norm,\n",
        "                               train_labels,\n",
        "                               epochs=40,\n",
        "                               validation_data=(test_data_norm, test_labels),\n",
        "                               callbacks=[lr_scheduler])"
      ],
      "execution_count": 90,
      "outputs": [
        {
          "output_type": "stream",
          "name": "stdout",
          "text": [
            "Epoch 1/40\n",
            "1875/1875 [==============================] - 4s 2ms/step - loss: 1.0348 - accuracy: 0.6474 - val_loss: 0.6937 - val_accuracy: 0.7617 - lr: 0.0010\n",
            "Epoch 2/40\n",
            "1875/1875 [==============================] - 4s 2ms/step - loss: 0.6366 - accuracy: 0.7759 - val_loss: 0.6400 - val_accuracy: 0.7808 - lr: 0.0011\n",
            "Epoch 3/40\n",
            "1875/1875 [==============================] - 4s 2ms/step - loss: 0.5934 - accuracy: 0.7911 - val_loss: 0.6278 - val_accuracy: 0.7770 - lr: 0.0013\n",
            "Epoch 4/40\n",
            "1875/1875 [==============================] - 3s 2ms/step - loss: 0.5749 - accuracy: 0.7969 - val_loss: 0.6122 - val_accuracy: 0.7871 - lr: 0.0014\n",
            "Epoch 5/40\n",
            "1875/1875 [==============================] - 4s 2ms/step - loss: 0.5655 - accuracy: 0.7987 - val_loss: 0.6061 - val_accuracy: 0.7913 - lr: 0.0016\n",
            "Epoch 6/40\n",
            "1875/1875 [==============================] - 4s 2ms/step - loss: 0.5569 - accuracy: 0.8022 - val_loss: 0.5917 - val_accuracy: 0.7940 - lr: 0.0018\n",
            "Epoch 7/40\n",
            "1875/1875 [==============================] - 4s 2ms/step - loss: 0.5542 - accuracy: 0.8036 - val_loss: 0.5898 - val_accuracy: 0.7896 - lr: 0.0020\n",
            "Epoch 8/40\n",
            "1875/1875 [==============================] - 3s 2ms/step - loss: 0.5509 - accuracy: 0.8039 - val_loss: 0.5829 - val_accuracy: 0.7949 - lr: 0.0022\n",
            "Epoch 9/40\n",
            "1875/1875 [==============================] - 4s 2ms/step - loss: 0.5468 - accuracy: 0.8047 - val_loss: 0.6036 - val_accuracy: 0.7833 - lr: 0.0025\n",
            "Epoch 10/40\n",
            "1875/1875 [==============================] - 4s 2ms/step - loss: 0.5478 - accuracy: 0.8058 - val_loss: 0.5736 - val_accuracy: 0.7974 - lr: 0.0028\n",
            "Epoch 11/40\n",
            "1875/1875 [==============================] - 4s 2ms/step - loss: 0.5446 - accuracy: 0.8059 - val_loss: 0.5672 - val_accuracy: 0.8016 - lr: 0.0032\n",
            "Epoch 12/40\n",
            "1875/1875 [==============================] - 4s 2ms/step - loss: 0.5432 - accuracy: 0.8067 - val_loss: 0.5773 - val_accuracy: 0.7950 - lr: 0.0035\n",
            "Epoch 13/40\n",
            "1875/1875 [==============================] - 4s 2ms/step - loss: 0.5425 - accuracy: 0.8056 - val_loss: 0.5775 - val_accuracy: 0.7992 - lr: 0.0040\n",
            "Epoch 14/40\n",
            "1875/1875 [==============================] - 3s 2ms/step - loss: 0.5407 - accuracy: 0.8078 - val_loss: 0.5616 - val_accuracy: 0.8075 - lr: 0.0045\n",
            "Epoch 15/40\n",
            "1875/1875 [==============================] - 3s 2ms/step - loss: 0.5408 - accuracy: 0.8052 - val_loss: 0.5773 - val_accuracy: 0.8039 - lr: 0.0050\n",
            "Epoch 16/40\n",
            "1875/1875 [==============================] - 3s 2ms/step - loss: 0.5437 - accuracy: 0.8058 - val_loss: 0.5682 - val_accuracy: 0.8015 - lr: 0.0056\n",
            "Epoch 17/40\n",
            "1875/1875 [==============================] - 4s 2ms/step - loss: 0.5419 - accuracy: 0.8075 - val_loss: 0.5995 - val_accuracy: 0.7964 - lr: 0.0063\n",
            "Epoch 18/40\n",
            "1875/1875 [==============================] - 3s 2ms/step - loss: 0.5488 - accuracy: 0.8058 - val_loss: 0.5544 - val_accuracy: 0.8087 - lr: 0.0071\n",
            "Epoch 19/40\n",
            "1875/1875 [==============================] - 4s 2ms/step - loss: 0.5506 - accuracy: 0.8042 - val_loss: 0.6068 - val_accuracy: 0.7864 - lr: 0.0079\n",
            "Epoch 20/40\n",
            "1875/1875 [==============================] - 4s 2ms/step - loss: 0.5537 - accuracy: 0.8030 - val_loss: 0.5597 - val_accuracy: 0.8076 - lr: 0.0089\n",
            "Epoch 21/40\n",
            "1875/1875 [==============================] - 4s 2ms/step - loss: 0.5572 - accuracy: 0.8036 - val_loss: 0.5998 - val_accuracy: 0.7934 - lr: 0.0100\n",
            "Epoch 22/40\n",
            "1875/1875 [==============================] - 4s 2ms/step - loss: 0.5615 - accuracy: 0.8013 - val_loss: 0.5756 - val_accuracy: 0.8034 - lr: 0.0112\n",
            "Epoch 23/40\n",
            "1875/1875 [==============================] - 3s 2ms/step - loss: 0.5655 - accuracy: 0.8017 - val_loss: 0.6386 - val_accuracy: 0.7668 - lr: 0.0126\n",
            "Epoch 24/40\n",
            "1875/1875 [==============================] - 3s 2ms/step - loss: 0.5819 - accuracy: 0.7963 - val_loss: 0.6356 - val_accuracy: 0.7869 - lr: 0.0141\n",
            "Epoch 25/40\n",
            "1875/1875 [==============================] - 4s 2ms/step - loss: 0.5810 - accuracy: 0.7977 - val_loss: 0.6481 - val_accuracy: 0.7865 - lr: 0.0158\n",
            "Epoch 26/40\n",
            "1875/1875 [==============================] - 3s 2ms/step - loss: 0.5960 - accuracy: 0.7901 - val_loss: 0.6997 - val_accuracy: 0.7802 - lr: 0.0178\n",
            "Epoch 27/40\n",
            "1875/1875 [==============================] - 3s 2ms/step - loss: 0.6101 - accuracy: 0.7870 - val_loss: 0.6124 - val_accuracy: 0.7917 - lr: 0.0200\n",
            "Epoch 28/40\n",
            "1875/1875 [==============================] - 3s 2ms/step - loss: 0.6178 - accuracy: 0.7846 - val_loss: 0.6137 - val_accuracy: 0.7962 - lr: 0.0224\n",
            "Epoch 29/40\n",
            "1875/1875 [==============================] - 3s 2ms/step - loss: 0.6357 - accuracy: 0.7771 - val_loss: 0.6655 - val_accuracy: 0.7621 - lr: 0.0251\n",
            "Epoch 30/40\n",
            "1875/1875 [==============================] - 4s 2ms/step - loss: 0.6671 - accuracy: 0.7678 - val_loss: 0.7597 - val_accuracy: 0.7194 - lr: 0.0282\n",
            "Epoch 31/40\n",
            "1875/1875 [==============================] - 3s 2ms/step - loss: 0.6836 - accuracy: 0.7585 - val_loss: 0.6958 - val_accuracy: 0.7342 - lr: 0.0316\n",
            "Epoch 32/40\n",
            "1875/1875 [==============================] - 4s 2ms/step - loss: 0.7062 - accuracy: 0.7553 - val_loss: 0.7015 - val_accuracy: 0.7732 - lr: 0.0355\n",
            "Epoch 33/40\n",
            "1875/1875 [==============================] - 4s 2ms/step - loss: 0.7383 - accuracy: 0.7500 - val_loss: 0.7146 - val_accuracy: 0.7706 - lr: 0.0398\n",
            "Epoch 34/40\n",
            "1875/1875 [==============================] - 4s 2ms/step - loss: 0.8033 - accuracy: 0.7300 - val_loss: 0.8987 - val_accuracy: 0.6848 - lr: 0.0447\n",
            "Epoch 35/40\n",
            "1875/1875 [==============================] - 4s 2ms/step - loss: 0.8429 - accuracy: 0.7110 - val_loss: 0.8750 - val_accuracy: 0.7053 - lr: 0.0501\n",
            "Epoch 36/40\n",
            "1875/1875 [==============================] - 4s 2ms/step - loss: 0.8651 - accuracy: 0.7033 - val_loss: 0.8176 - val_accuracy: 0.6989 - lr: 0.0562\n",
            "Epoch 37/40\n",
            "1875/1875 [==============================] - 3s 2ms/step - loss: 0.9203 - accuracy: 0.6837 - val_loss: 0.7876 - val_accuracy: 0.7333 - lr: 0.0631\n",
            "Epoch 38/40\n",
            "1875/1875 [==============================] - 3s 2ms/step - loss: 1.2374 - accuracy: 0.5191 - val_loss: 1.3699 - val_accuracy: 0.4902 - lr: 0.0708\n",
            "Epoch 39/40\n",
            "1875/1875 [==============================] - 4s 2ms/step - loss: 1.1828 - accuracy: 0.5311 - val_loss: 1.1010 - val_accuracy: 0.5819 - lr: 0.0794\n",
            "Epoch 40/40\n",
            "1875/1875 [==============================] - 3s 2ms/step - loss: 1.6640 - accuracy: 0.3303 - val_loss: 1.8528 - val_accuracy: 0.2779 - lr: 0.0891\n"
          ]
        }
      ]
    },
    {
      "cell_type": "code",
      "metadata": {
        "colab": {
          "base_uri": "https://localhost:8080/",
          "height": 298
        },
        "id": "fEg5XQkMlZzU",
        "outputId": "cfed4166-161f-4b93-b66a-d0186d1d23aa"
      },
      "source": [
        "# plot the learning rate decay curve\n",
        "import numpy as np\n",
        "import matplotlib.pyplot as plt\n",
        "\n",
        "lrs= 1e-3 * 10**(tf.range(40)/20)\n",
        "plt.semilogx(lrs, find_lr_history.history[\"loss\"])\n",
        "plt.xlabel(\"Learning rate\")\n",
        "plt.ylabel(\"Loss\")\n",
        "plt.title(\"Finding the ideal learning rate\");"
      ],
      "execution_count": 91,
      "outputs": [
        {
          "output_type": "display_data",
          "data": {
            "image/png": "[encoded data removed]",
            "text/plain": [
              "<Figure size 432x288 with 1 Axes>"
            ]
          },
          "metadata": {
            "needs_background": "light"
          }
        }
      ]
    },
    {
      "cell_type": "code",
      "metadata": {
        "colab": {
          "base_uri": "https://localhost:8080/"
        },
        "id": "kMEz9_JxnSkg",
        "outputId": "27f6122d-7e87-4185-d48e-09466c7bd0fd"
      },
      "source": [
        "# let's refit a model with the ideal learning rate\n",
        "\n",
        "# set the random seed\n",
        "tf.random.set_seed(42)\n",
        "\n",
        "# create the model\n",
        "model_14 = tf.keras.Sequential([\n",
        "  tf.keras.layers.Flatten(input_shape=(28,28)),\n",
        "  tf.keras.layers.Dense(4, activation=\"relu\"),\n",
        "  tf.keras.layers.Dense(4, activation=\"relu\"),\n",
        "  tf.keras.layers.Dense(10, activation=\"softmax\")              \n",
        "])\n",
        "\n",
        "# compile the model\n",
        "model_14.compile(loss=tf.keras.losses.SparseCategoricalCrossentropy(),\n",
        "                 optimizer=tf.keras.optimizers.Adam(learning_rate=0.001),\n",
        "                 metrics=[\"accuracy\"])\n",
        "\n",
        "# fit the model\n",
        "history_14 = model_14.fit(train_data_norm,\n",
        "             train_labels,\n",
        "             epochs=20,\n",
        "             validation_data=(test_data_norm,test_labels))"
      ],
      "execution_count": 93,
      "outputs": [
        {
          "output_type": "stream",
          "name": "stdout",
          "text": [
            "Epoch 1/20\n",
            "1875/1875 [==============================] - 4s 2ms/step - loss: 1.0348 - accuracy: 0.6474 - val_loss: 0.6937 - val_accuracy: 0.7617\n",
            "Epoch 2/20\n",
            "1875/1875 [==============================] - 3s 2ms/step - loss: 0.6376 - accuracy: 0.7757 - val_loss: 0.6400 - val_accuracy: 0.7820\n",
            "Epoch 3/20\n",
            "1875/1875 [==============================] - 4s 2ms/step - loss: 0.5942 - accuracy: 0.7914 - val_loss: 0.6247 - val_accuracy: 0.7783\n",
            "Epoch 4/20\n",
            "1875/1875 [==============================] - 3s 2ms/step - loss: 0.5750 - accuracy: 0.7979 - val_loss: 0.6078 - val_accuracy: 0.7881\n",
            "Epoch 5/20\n",
            "1875/1875 [==============================] - 3s 2ms/step - loss: 0.5641 - accuracy: 0.8006 - val_loss: 0.6169 - val_accuracy: 0.7881\n",
            "Epoch 6/20\n",
            "1875/1875 [==============================] - 3s 2ms/step - loss: 0.5544 - accuracy: 0.8043 - val_loss: 0.5855 - val_accuracy: 0.7951\n",
            "Epoch 7/20\n",
            "1875/1875 [==============================] - 4s 2ms/step - loss: 0.5488 - accuracy: 0.8063 - val_loss: 0.6097 - val_accuracy: 0.7836\n",
            "Epoch 8/20\n",
            "1875/1875 [==============================] - 3s 2ms/step - loss: 0.5428 - accuracy: 0.8077 - val_loss: 0.5787 - val_accuracy: 0.7971\n",
            "Epoch 9/20\n",
            "1875/1875 [==============================] - 3s 2ms/step - loss: 0.5373 - accuracy: 0.8097 - val_loss: 0.5698 - val_accuracy: 0.7977\n",
            "Epoch 10/20\n",
            "1875/1875 [==============================] - 3s 2ms/step - loss: 0.5360 - accuracy: 0.8124 - val_loss: 0.5658 - val_accuracy: 0.8014\n",
            "Epoch 11/20\n",
            "1875/1875 [==============================] - 4s 2ms/step - loss: 0.5311 - accuracy: 0.8130 - val_loss: 0.5714 - val_accuracy: 0.8002\n",
            "Epoch 12/20\n",
            "1875/1875 [==============================] - 4s 2ms/step - loss: 0.5284 - accuracy: 0.8132 - val_loss: 0.5626 - val_accuracy: 0.8027\n",
            "Epoch 13/20\n",
            "1875/1875 [==============================] - 3s 2ms/step - loss: 0.5271 - accuracy: 0.8138 - val_loss: 0.5619 - val_accuracy: 0.8041\n",
            "Epoch 14/20\n",
            "1875/1875 [==============================] - 4s 2ms/step - loss: 0.5249 - accuracy: 0.8143 - val_loss: 0.5718 - val_accuracy: 0.7991\n",
            "Epoch 15/20\n",
            "1875/1875 [==============================] - 4s 2ms/step - loss: 0.5231 - accuracy: 0.8148 - val_loss: 0.5706 - val_accuracy: 0.8024\n",
            "Epoch 16/20\n",
            "1875/1875 [==============================] - 3s 2ms/step - loss: 0.5203 - accuracy: 0.8162 - val_loss: 0.5731 - val_accuracy: 0.8023\n",
            "Epoch 17/20\n",
            "1875/1875 [==============================] - 3s 2ms/step - loss: 0.5191 - accuracy: 0.8176 - val_loss: 0.5594 - val_accuracy: 0.8030\n",
            "Epoch 18/20\n",
            "1875/1875 [==============================] - 4s 2ms/step - loss: 0.5176 - accuracy: 0.8157 - val_loss: 0.5582 - val_accuracy: 0.8053\n",
            "Epoch 19/20\n",
            "1875/1875 [==============================] - 4s 2ms/step - loss: 0.5156 - accuracy: 0.8169 - val_loss: 0.5644 - val_accuracy: 0.8007\n",
            "Epoch 20/20\n",
            "1875/1875 [==============================] - 4s 2ms/step - loss: 0.5146 - accuracy: 0.8177 - val_loss: 0.5660 - val_accuracy: 0.8075\n"
          ]
        }
      ]
    },
    {
      "cell_type": "markdown",
      "metadata": {
        "id": "v9iFopjzpHVs"
      },
      "source": [
        "### Evaluating our multi-class classification model\n",
        "\n",
        "To evaluate our multi-class classification model we could:    \n",
        "* Evaluate its performance using other classification metrics (such as confusion matrix)\n",
        "* Assess some of its predictions (through visualiztions)\n",
        "* Improve its results (by training it for longer or changing the architecture)\n",
        "* Save and export it for use in an application"
      ]
    },
    {
      "cell_type": "code",
      "metadata": {
        "id": "Jl03MKwsqMXw"
      },
      "source": [
        "# create a confusion matrix\n",
        "\n",
        "import itertools\n",
        "from sklearn.metrics import confusion_matrix\n",
        "\n",
        "\n",
        "def make_confusion_matrix(y_true, y_pred, classes=None, figsize=(6,6), text_size=15):\n",
        "\n",
        "    # create the confusion matrix\n",
        "    cm = confusion_matrix(y_true, tf.round(y_pred))\n",
        "    cm_norm = cm.astype(\"float\") / cm.sum(axis=1)[:, np.newaxis] #normalize our confusion matrix\n",
        "    n_classes = cm.shape[0]\n",
        "\n",
        "    # let's prettify it\n",
        "    fig, ax = plt.subplots(figsize=figsize)\n",
        "    # create a matrix plot\n",
        "    cax = ax.matshow(cm, cmap=plt.cm.Blues)\n",
        "    fig.colorbar(cax)\n",
        "\n",
        "    # set labels to be classes\n",
        "    if classes:\n",
        "      labels = classes\n",
        "    else:\n",
        "      labels = np.arange(cm.shape[0])\n",
        "\n",
        "    # label the axes\n",
        "    ax.set(title=\"Confusion Matrix\",\n",
        "          xlabel=\"Predicted label\",\n",
        "          ylabel=\"True label\",\n",
        "          xticks=np.arange(n_classes),\n",
        "          yticks=np.arange(n_classes),\n",
        "          xticklabels=labels,\n",
        "          yticklabels=labels)\n",
        "\n",
        "    # set x-axis labels to bottom\n",
        "    ax.xaxis.set_label_position(\"bottom\")\n",
        "    ax.xaxis.tick_bottom()\n",
        "\n",
        "    # adjust label size\n",
        "    ax.yaxis.label.set_size(text_size)\n",
        "    ax.xaxis.label.set_size(text_size)\n",
        "    ax.title.set_size(text_size)\n",
        "\n",
        "    # set threshold for different colors\n",
        "    threshold = (cm.max() + cm.min()) / 2.\n",
        "\n",
        "    # plot the text on each cell\n",
        "    for i, j in itertools.product(range(cm.shape[0]), range(cm.shape[1])):\n",
        "      plt.text(j, i, f\"{cm[i, j]} ({cm_norm[i,j]*100:.1f}%)\",\n",
        "              horizontalalignment=\"center\",\n",
        "              color=\"white\" if cm[i,j] > threshold else \"black\",\n",
        "              size=text_size)"
      ],
      "execution_count": 94,
      "outputs": []
    },
    {
      "cell_type": "code",
      "metadata": {
        "colab": {
          "base_uri": "https://localhost:8080/"
        },
        "id": "44I2cMl-sKV-",
        "outputId": "4486103d-0f19-41e1-8d2f-1c7110ccebf5"
      },
      "source": [
        "class_names"
      ],
      "execution_count": 95,
      "outputs": [
        {
          "output_type": "execute_result",
          "data": {
            "text/plain": [
              "['T-shirt/top',\n",
              " 'Trouser',\n",
              " 'Pullover',\n",
              " 'Dress',\n",
              " 'Coat',\n",
              " 'Sandal',\n",
              " 'Shirt',\n",
              " 'Sneaker',\n",
              " 'Bag',\n",
              " 'Ankle boot']"
            ]
          },
          "metadata": {},
          "execution_count": 95
        }
      ]
    },
    {
      "cell_type": "code",
      "metadata": {
        "colab": {
          "base_uri": "https://localhost:8080/"
        },
        "id": "xy_JfRX1sMaR",
        "outputId": "107d2833-94d5-472b-ec89-96b138df3ade"
      },
      "source": [
        "# make some predictions with our model\n",
        "y_probs = model_14.predict(test_data_norm)\n",
        "\n",
        "# View the first 5 predictions\n",
        "y_probs[:5] "
      ],
      "execution_count": 96,
      "outputs": [
        {
          "output_type": "execute_result",
          "data": {
            "text/plain": [
              "array([[8.56299753e-11, 3.53615629e-13, 2.66337556e-05, 4.63562024e-08,\n",
              "        5.09498605e-05, 9.61192474e-02, 8.17780403e-08, 9.18688551e-02,\n",
              "        4.06052778e-03, 8.07873666e-01],\n",
              "       [3.42785552e-06, 1.28992649e-16, 9.59891498e-01, 2.05162564e-07,\n",
              "        1.53292371e-02, 2.45320095e-13, 2.41428725e-02, 1.13834485e-28,\n",
              "        6.32718089e-04, 4.47896404e-08],\n",
              "       [6.10630595e-05, 9.96576726e-01, 4.38669758e-08, 3.34058981e-03,\n",
              "        1.32494861e-05, 1.43831603e-21, 8.27906115e-06, 7.32374630e-18,\n",
              "        5.48116041e-08, 4.92251402e-14],\n",
              "       [7.50314357e-05, 9.90536869e-01, 4.25285322e-07, 9.22318175e-03,\n",
              "        1.36231421e-04, 1.82760903e-18, 2.68082422e-05, 4.81248308e-14,\n",
              "        1.45215904e-06, 2.22114601e-11],\n",
              "       [7.21899569e-02, 1.54957536e-06, 2.55668938e-01, 1.03631355e-02,\n",
              "        4.35413495e-02, 1.10693023e-13, 6.16930187e-01, 6.75438989e-23,\n",
              "        1.30491622e-03, 1.21404065e-09]], dtype=float32)"
            ]
          },
          "metadata": {},
          "execution_count": 96
        }
      ]
    },
    {
      "cell_type": "markdown",
      "metadata": {
        "id": "hxmC3kjPs6I0"
      },
      "source": [
        "If your model was trained on normalized data, you'll want to make predictions on normalized data.\n",
        "\n",
        "Remember to make predictions on the same kind of data your model was trained on."
      ]
    },
    {
      "cell_type": "code",
      "metadata": {
        "colab": {
          "base_uri": "https://localhost:8080/"
        },
        "id": "z6SbbvZFsx1I",
        "outputId": "98cf203a-9f11-4ad6-c0ab-51400ea777aa"
      },
      "source": [
        "y_probs[0], tf.argmax(y_probs[0])"
      ],
      "execution_count": 97,
      "outputs": [
        {
          "output_type": "execute_result",
          "data": {
            "text/plain": [
              "(array([8.5629975e-11, 3.5361563e-13, 2.6633756e-05, 4.6356202e-08,\n",
              "        5.0949860e-05, 9.6119247e-02, 8.1778040e-08, 9.1868855e-02,\n",
              "        4.0605278e-03, 8.0787367e-01], dtype=float32),\n",
              " <tf.Tensor: shape=(), dtype=int64, numpy=9>)"
            ]
          },
          "metadata": {},
          "execution_count": 97
        }
      ]
    },
    {
      "cell_type": "code",
      "metadata": {
        "colab": {
          "base_uri": "https://localhost:8080/",
          "height": 35
        },
        "id": "HXDyd7vdtbg-",
        "outputId": "db0c7c05-c77b-4a86-dcb6-acf5c34044a2"
      },
      "source": [
        "class_names[tf.argmax(y_probs[0])]"
      ],
      "execution_count": 98,
      "outputs": [
        {
          "output_type": "execute_result",
          "data": {
            "application/vnd.google.colaboratory.intrinsic+json": {
              "type": "string"
            },
            "text/plain": [
              "'Ankle boot'"
            ]
          },
          "metadata": {},
          "execution_count": 98
        }
      ]
    },
    {
      "cell_type": "code",
      "metadata": {
        "colab": {
          "base_uri": "https://localhost:8080/"
        },
        "id": "qWYw2uZrtpig",
        "outputId": "0837fd22-115c-43cb-c6be-c3b58d021dbc"
      },
      "source": [
        "# Convert all of the prediction probabilities into integers\n",
        "y_preds = y_probs.argmax(axis=1)\n",
        "\n",
        "y_preds[:5]"
      ],
      "execution_count": 101,
      "outputs": [
        {
          "output_type": "execute_result",
          "data": {
            "text/plain": [
              "array([9, 2, 1, 1, 6])"
            ]
          },
          "metadata": {},
          "execution_count": 101
        }
      ]
    },
    {
      "cell_type": "code",
      "metadata": {
        "colab": {
          "base_uri": "https://localhost:8080/"
        },
        "id": "sEKHZyMtt7Dq",
        "outputId": "94fe5730-dc08-4167-d043-37467300164b"
      },
      "source": [
        "test_labels[:5]"
      ],
      "execution_count": 102,
      "outputs": [
        {
          "output_type": "execute_result",
          "data": {
            "text/plain": [
              "array([9, 2, 1, 1, 6], dtype=uint8)"
            ]
          },
          "metadata": {},
          "execution_count": 102
        }
      ]
    },
    {
      "cell_type": "code",
      "metadata": {
        "colab": {
          "base_uri": "https://localhost:8080/"
        },
        "id": "dq2ZFvVvuGPO",
        "outputId": "ae827bcb-4b43-4100-d714-61088d632d2e"
      },
      "source": [
        "from sklearn.metrics import confusion_matrix\n",
        "confusion_matrix(test_labels, y_preds)"
      ],
      "execution_count": 103,
      "outputs": [
        {
          "output_type": "execute_result",
          "data": {
            "text/plain": [
              "array([[696,   8,  25,  87,   9,   5, 160,   0,  10,   0],\n",
              "       [  2, 939,   2,  35,   9,   0,  13,   0,   0,   0],\n",
              "       [ 19,   2, 656,  10, 188,   0, 110,   0,  15,   0],\n",
              "       [ 39,  10,  10, 819,  55,   0,  47,   1,  19,   0],\n",
              "       [  0,   0,  95,  23, 800,   0,  73,   0,   7,   2],\n",
              "       [  0,   0,   1,   0,   0, 894,   0,  60,   7,  38],\n",
              "       [106,   4, 158,  57, 159,   1, 499,   0,  16,   0],\n",
              "       [  0,   0,   0,   0,   0,  31,   0, 936,   0,  33],\n",
              "       [  4,   1,  38,  15,   8,  12,   9,   5, 906,   2],\n",
              "       [  0,   0,   1,   0,   2,  15,   0,  51,   1, 930]])"
            ]
          },
          "metadata": {},
          "execution_count": 103
        }
      ]
    },
    {
      "cell_type": "code",
      "metadata": {
        "colab": {
          "base_uri": "https://localhost:8080/",
          "height": 852
        },
        "id": "kP6YTNDUzyb7",
        "outputId": "9833610d-d3f9-4e42-9afb-7564dc2356d9"
      },
      "source": [
        "make_confusion_matrix(y_true=test_labels,\n",
        "                      y_pred=y_preds,\n",
        "                      classes=class_names,\n",
        "                      figsize=(15,15),\n",
        "                      text_size=10)"
      ],
      "execution_count": 108,
      "outputs": [
        {
          "output_type": "display_data",
          "data": {
            "image/png": "[encoded data removed]",
            "text/plain": [
              "<Figure size 1080x1080 with 2 Axes>"
            ]
          },
          "metadata": {
            "needs_background": "light"
          }
        }
      ]
    },
    {
      "cell_type": "code",
      "metadata": {
        "id": "U420U-aq0KV9"
      },
      "source": [
        "# make a function to plot a random image and label the plot with it's truth label and predicted label\n",
        "\n",
        "import random\n",
        "\n",
        "def plot_random_image(model, images, true_labels, classes):\n",
        "  \"\"\"\n",
        "  Picks a random image, plots it and labels it with a prediction and truth label.\n",
        "  \"\"\"\n",
        "  # set up random integer\n",
        "  i = random.randint(0, len(images))\n",
        "\n",
        "  # create predictions and targets\n",
        "  target_image = images[i]\n",
        "  pred_probs = model.predict(target_image.reshape(1,28,28))  # reshaping because there is only one image\n",
        "  pred_label = classes[pred_probs.argmax()]\n",
        "  true_label = classes[true_labels[i]]\n",
        "\n",
        "  # plot the image\n",
        "  plt.imshow(target_image, cmap=plt.cm.binary)\n",
        "\n",
        "  # change the color of title depending on if the prediction is right or wrong\n",
        "  if pred_label == true_label:\n",
        "    color=\"green\"\n",
        "  else:\n",
        "    color=\"red\"\n",
        "\n",
        "  # add xlabel information (prediction/true label)\n",
        "  plt.xlabel(\"Pred: {} {:2.0f}% (True: {})\".format(pred_label,\n",
        "                                                   100*tf.reduce_max(pred_probs),\n",
        "                                                   true_label),\n",
        "             color=color) # set the color to green or red based on prediction\n",
        "             "
      ],
      "execution_count": 116,
      "outputs": []
    },
    {
      "cell_type": "code",
      "metadata": {
        "colab": {
          "base_uri": "https://localhost:8080/",
          "height": 278
        },
        "id": "HOIJrDib3yuE",
        "outputId": "0141f342-9473-42a9-e45e-550bec6778dc"
      },
      "source": [
        "# check out a random image as well as it's prediction\n",
        "plot_random_image(model=model_14,\n",
        "                  images=test_data_norm,\n",
        "                  true_labels=test_labels,\n",
        "                  classes=class_names)"
      ],
      "execution_count": 130,
      "outputs": [
        {
          "output_type": "display_data",
          "data": {
            "image/png": "[encoded data removed]",
            "text/plain": [
              "<Figure size 432x288 with 1 Axes>"
            ]
          },
          "metadata": {
            "needs_background": "light"
          }
        }
      ]
    },
    {
      "cell_type": "markdown",
      "metadata": {
        "id": "DG_jEdst4Eua"
      },
      "source": [
        "### What patterns is our model learning?"
      ]
    },
    {
      "cell_type": "code",
      "metadata": {
        "colab": {
          "base_uri": "https://localhost:8080/"
        },
        "id": "wiX5q4jG5UL9",
        "outputId": "82402bff-d13d-4421-a04f-c5444e70e1a3"
      },
      "source": [
        "# find the layers of most recent model\n",
        "model_14.layers"
      ],
      "execution_count": 131,
      "outputs": [
        {
          "output_type": "execute_result",
          "data": {
            "text/plain": [
              "[<keras.layers.core.flatten.Flatten at 0x7fc93863a210>,\n",
              " <keras.layers.core.dense.Dense at 0x7fc9385f2a50>,\n",
              " <keras.layers.core.dense.Dense at 0x7fc9385f2c50>,\n",
              " <keras.layers.core.dense.Dense at 0x7fc9385f81d0>]"
            ]
          },
          "metadata": {},
          "execution_count": 131
        }
      ]
    },
    {
      "cell_type": "code",
      "metadata": {
        "colab": {
          "base_uri": "https://localhost:8080/"
        },
        "id": "m1QNik-Y5v5S",
        "outputId": "4f92581f-72e8-4fb9-df4e-0f52c1297c02"
      },
      "source": [
        "# extract a particular layer\n",
        "model_14.layers[1]"
      ],
      "execution_count": 132,
      "outputs": [
        {
          "output_type": "execute_result",
          "data": {
            "text/plain": [
              "<keras.layers.core.dense.Dense at 0x7fc9385f2a50>"
            ]
          },
          "metadata": {},
          "execution_count": 132
        }
      ]
    },
    {
      "cell_type": "code",
      "metadata": {
        "colab": {
          "base_uri": "https://localhost:8080/"
        },
        "id": "8-7Yof6D6F30",
        "outputId": "4203c64f-995a-4933-97ca-ee516d9c82cf"
      },
      "source": [
        "# get the patterns of a layer in our network\n",
        "weights, biases = model_14.layers[1].get_weights()\n",
        "\n",
        "# shapes\n",
        "weights, weights.shape"
      ],
      "execution_count": 133,
      "outputs": [
        {
          "output_type": "execute_result",
          "data": {
            "text/plain": [
              "(array([[ 0.7150263 , -0.06077093, -0.99763095, -1.0484313 ],\n",
              "        [ 0.2773212 , -0.471554  , -0.52916455,  0.02329255],\n",
              "        [ 0.7752433 ,  0.5402759 , -1.128857  , -0.7426156 ],\n",
              "        ...,\n",
              "        [-0.3945342 ,  0.47628632, -0.2264153 ,  0.2550593 ],\n",
              "        [-0.40515798,  0.61810046,  0.23928414, -0.50387603],\n",
              "        [ 0.23884593,  0.11606961, -0.12131374,  0.04352392]],\n",
              "       dtype=float32), (784, 4))"
            ]
          },
          "metadata": {},
          "execution_count": 133
        }
      ]
    },
    {
      "cell_type": "code",
      "metadata": {
        "colab": {
          "base_uri": "https://localhost:8080/"
        },
        "id": "stjZL3er89_C",
        "outputId": "ae108dfd-5b8c-44ea-8b57-6205521b2641"
      },
      "source": [
        "weights[0,:]"
      ],
      "execution_count": 135,
      "outputs": [
        {
          "output_type": "execute_result",
          "data": {
            "text/plain": [
              "array([ 0.7150263 , -0.06077093, -0.99763095, -1.0484313 ], dtype=float32)"
            ]
          },
          "metadata": {},
          "execution_count": 135
        }
      ]
    },
    {
      "cell_type": "code",
      "metadata": {
        "colab": {
          "base_uri": "https://localhost:8080/"
        },
        "id": "By_2-wvS6TM5",
        "outputId": "e75b5bda-9e93-4d49-af48-bf2e04339ef6"
      },
      "source": [
        "# now let's check out bias vector..\n",
        "biases, biases.shape"
      ],
      "execution_count": 134,
      "outputs": [
        {
          "output_type": "execute_result",
          "data": {
            "text/plain": [
              "(array([ 2.4485964e-02, -6.1471871e-04, -2.7230152e-01,  8.1124878e-01],\n",
              "       dtype=float32), (4,))"
            ]
          },
          "metadata": {},
          "execution_count": 134
        }
      ]
    },
    {
      "cell_type": "markdown",
      "metadata": {
        "id": "HhAM8-P_9NXn"
      },
      "source": [
        "Every neuron has a bias vector. Each of these is paired with a weights matrix.\n",
        "\n",
        "The bias vector gets initialized as zeros (atleast in case of a tensorflow dense layer).\n",
        "\n",
        "The bias vector dictates how much the patterns within the corresponding weights matrix should influence the next layer. "
      ]
    },
    {
      "cell_type": "code",
      "metadata": {
        "colab": {
          "base_uri": "https://localhost:8080/"
        },
        "id": "XMAyYl1085Q-",
        "outputId": "bca201b3-7284-47b9-8c5a-0a46e6105cce"
      },
      "source": [
        "model_14.summary()"
      ],
      "execution_count": 136,
      "outputs": [
        {
          "output_type": "stream",
          "name": "stdout",
          "text": [
            "Model: \"sequential_14\"\n",
            "_________________________________________________________________\n",
            " Layer (type)                Output Shape              Param #   \n",
            "=================================================================\n",
            " flatten_5 (Flatten)         (None, 784)               0         \n",
            "                                                                 \n",
            " dense_32 (Dense)            (None, 4)                 3140      \n",
            "                                                                 \n",
            " dense_33 (Dense)            (None, 4)                 20        \n",
            "                                                                 \n",
            " dense_34 (Dense)            (None, 10)                50        \n",
            "                                                                 \n",
            "=================================================================\n",
            "Total params: 3,210\n",
            "Trainable params: 3,210\n",
            "Non-trainable params: 0\n",
            "_________________________________________________________________\n"
          ]
        }
      ]
    },
    {
      "cell_type": "code",
      "metadata": {
        "colab": {
          "base_uri": "https://localhost:8080/",
          "height": 533
        },
        "id": "HLrydYbI-D1N",
        "outputId": "2c109c3b-bd00-4bc9-ff4b-0524b282271e"
      },
      "source": [
        "# let's check out another way of viewing our deep learning models\n",
        "from tensorflow.keras.utils import plot_model\n",
        "# see the inputs and outputs of each layer\n",
        "plot_model(model_14, show_shapes=True)"
      ],
      "execution_count": 138,
      "outputs": [
        {
          "output_type": "execute_result",
          "data": {
            "image/png": "[encoded data removed]",
            "text/plain": [
              "<IPython.core.display.Image object>"
            ]
          },
          "metadata": {},
          "execution_count": 138
        }
      ]
    },
    {
      "cell_type": "code",
      "metadata": {
        "id": "AAgI3r8Q-2Xk"
      },
      "source": [
        ""
      ],
      "execution_count": null,
      "outputs": []
    }
  ]
}